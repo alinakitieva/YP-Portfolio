{
 "cells": [
  {
   "cell_type": "markdown",
   "id": "167e342a",
   "metadata": {
    "toc": true
   },
   "source": [
    "<h1>Table of Contents<span class=\"tocSkip\"></span></h1>\n",
    "<div class=\"toc\"><ul class=\"toc-item\"><li><span><a href=\"#Загрузка-и-изучение-данных\" data-toc-modified-id=\"Загрузка-и-изучение-данных-1\"><span class=\"toc-item-num\">1&nbsp;&nbsp;</span>Загрузка и изучение данных</a></span></li><li><span><a href=\"#Предобработка-данных\" data-toc-modified-id=\"Предобработка-данных-2\"><span class=\"toc-item-num\">2&nbsp;&nbsp;</span>Предобработка данных</a></span><ul class=\"toc-item\"><li><span><a href=\"#Изучение-пропусков\" data-toc-modified-id=\"Изучение-пропусков-2.1\"><span class=\"toc-item-num\">2.1&nbsp;&nbsp;</span>Изучение пропусков</a></span></li><li><span><a href=\"#Заполнение-пропусков\" data-toc-modified-id=\"Заполнение-пропусков-2.2\"><span class=\"toc-item-num\">2.2&nbsp;&nbsp;</span>Заполнение пропусков</a></span></li><li><span><a href=\"#Обработка-аномальных-значений\" data-toc-modified-id=\"Обработка-аномальных-значений-2.3\"><span class=\"toc-item-num\">2.3&nbsp;&nbsp;</span>Обработка аномальных значений</a></span></li><li><span><a href=\"#Заполняем-пропуски-в-столбце-days_employed-медианными-значениями\" data-toc-modified-id=\"Заполняем-пропуски-в-столбце-days_employed-медианными-значениями-2.4\"><span class=\"toc-item-num\">2.4&nbsp;&nbsp;</span>Заполняем пропуски в столбце <code>days_employed</code> медианными значениями</a></span></li><li><span><a href=\"#Изменение-типов-данных\" data-toc-modified-id=\"Изменение-типов-данных-2.5\"><span class=\"toc-item-num\">2.5&nbsp;&nbsp;</span>Изменение типов данных</a></span></li><li><span><a href=\"#Обработка-дубликатов\" data-toc-modified-id=\"Обработка-дубликатов-2.6\"><span class=\"toc-item-num\">2.6&nbsp;&nbsp;</span>Обработка дубликатов</a></span></li><li><span><a href=\"#Категоризация-данных\" data-toc-modified-id=\"Категоризация-данных-2.7\"><span class=\"toc-item-num\">2.7&nbsp;&nbsp;</span>Категоризация данных</a></span></li></ul></li><li><span><a href=\"#Исследуем-данные-и-отвечаем-на-вопросы\" data-toc-modified-id=\"Исследуем-данные-и-отвечаем-на-вопросы-3\"><span class=\"toc-item-num\">3&nbsp;&nbsp;</span>Исследуем данные и отвечаем на вопросы</a></span><ul class=\"toc-item\"><li><span><a href=\"#Есть-ли-зависимость-между-количеством-детей-и-возвратом-кредита-в-срок?\" data-toc-modified-id=\"Есть-ли-зависимость-между-количеством-детей-и-возвратом-кредита-в-срок?-3.1\"><span class=\"toc-item-num\">3.1&nbsp;&nbsp;</span>Есть ли зависимость между количеством детей и возвратом кредита в срок?</a></span></li><li><span><a href=\"#Есть-ли-зависимость-между-семейным-положением-и-возвратом-кредита-в-срок?\" data-toc-modified-id=\"Есть-ли-зависимость-между-семейным-положением-и-возвратом-кредита-в-срок?-3.2\"><span class=\"toc-item-num\">3.2&nbsp;&nbsp;</span>Есть ли зависимость между семейным положением и возвратом кредита в срок?</a></span></li><li><span><a href=\"#Есть-ли-зависимость-между-уровнем-дохода-и-возвратом-кредита-в-срок?\" data-toc-modified-id=\"Есть-ли-зависимость-между-уровнем-дохода-и-возвратом-кредита-в-срок?-3.3\"><span class=\"toc-item-num\">3.3&nbsp;&nbsp;</span>Есть ли зависимость между уровнем дохода и возвратом кредита в срок?</a></span></li><li><span><a href=\"#Как-разные-цели-кредита-влияют-на-его-возврат-в-срок?\" data-toc-modified-id=\"Как-разные-цели-кредита-влияют-на-его-возврат-в-срок?-3.4\"><span class=\"toc-item-num\">3.4&nbsp;&nbsp;</span>Как разные цели кредита влияют на его возврат в срок?</a></span></li></ul></li><li><span><a href=\"#Общий-вывод.\" data-toc-modified-id=\"Общий-вывод.-4\"><span class=\"toc-item-num\">4&nbsp;&nbsp;</span>Общий вывод.</a></span></li></ul></div>"
   ]
  },
  {
   "cell_type": "markdown",
   "id": "8b324b8a",
   "metadata": {},
   "source": [
    "# Исследование надежности заемщиков"
   ]
  },
  {
   "cell_type": "markdown",
   "id": "57f2a20f",
   "metadata": {},
   "source": [
    "**Цель проекта:**  \n",
    "Исследовать влияние семейного положения и количества детей клиента на факт погашения кредита в срок. Результаты исследования будут использованы при разработке модели кредитного скоринга для оценки платежеспособности потенциальных заемщиков.\n",
    "\n",
    "**Ход проекта:**\n",
    "1. Подготовка данных\n",
    "- Импортировать необходимые библиотеки: pandas, numpy.\n",
    "- Загрузить данные о платежеспособности клиентов из банка.\n",
    "- Ознакомиться с общей информацией о данных: размерность, типы данных, наличие пропущенных значений.\n",
    "- Провести предобработку данных:\n",
    "- Заменить пропущенные значения, если необходимо.\n",
    "- Привести данные к нужным типам, например, числовые данные к числовому типу, строковые данные к строковому типу.\n",
    "- Обработать аномальные и некорректные значения.\n",
    "2. Анализ данных\n",
    "- Изучить распределение значений целевой переменной debt (имел ли клиент задолженность по возврату кредитов).\n",
    "- Провести анализ влияния следующих переменных на факт погашения кредита в срок:\n",
    "    - family_status (семейное положение)\n",
    "    - children (количество детей в семье)\n",
    "- Для каждой переменной рассмотреть распределение значений и проанализировать, какие семейные положения и количество детей связаны с более высоким или более низким риском задолженности по кредиту.\n",
    "- Подготовить сводные таблицы, графики или другие визуализации для наглядного представления результатов анализа.\n",
    "3. Выводы\n",
    "- Сделать общие выводы о влиянии семейного положения и количества детей клиента на факт погашения кредита в срок.\n",
    "- Описать основные закономерности, обнаруженные в данных.\n",
    "- Предложить рекомендации для построения модели кредитного скоринга, учитывающей семейное положение и количество детей клиента."
   ]
  },
  {
   "cell_type": "markdown",
   "id": "327e6915",
   "metadata": {},
   "source": [
    "## Загрузка и изучение данных"
   ]
  },
  {
   "cell_type": "code",
   "execution_count": 1,
   "id": "8417fabd",
   "metadata": {},
   "outputs": [],
   "source": [
    "import pandas as pd"
   ]
  },
  {
   "cell_type": "code",
   "execution_count": 2,
   "id": "862ca83c",
   "metadata": {},
   "outputs": [],
   "source": [
    "try:\n",
    "    data = pd.read_csv('/datasets/data.csv')\n",
    "except:\n",
    "    data = pd.read_csv('https://code.s3.yandex.net/datasets/data.csv')"
   ]
  },
  {
   "cell_type": "code",
   "execution_count": 3,
   "id": "ecee0cc1",
   "metadata": {},
   "outputs": [
    {
     "data": {
      "text/html": [
       "<div>\n",
       "<style scoped>\n",
       "    .dataframe tbody tr th:only-of-type {\n",
       "        vertical-align: middle;\n",
       "    }\n",
       "\n",
       "    .dataframe tbody tr th {\n",
       "        vertical-align: top;\n",
       "    }\n",
       "\n",
       "    .dataframe thead th {\n",
       "        text-align: right;\n",
       "    }\n",
       "</style>\n",
       "<table border=\"1\" class=\"dataframe\">\n",
       "  <thead>\n",
       "    <tr style=\"text-align: right;\">\n",
       "      <th></th>\n",
       "      <th>children</th>\n",
       "      <th>days_employed</th>\n",
       "      <th>dob_years</th>\n",
       "      <th>education</th>\n",
       "      <th>education_id</th>\n",
       "      <th>family_status</th>\n",
       "      <th>family_status_id</th>\n",
       "      <th>gender</th>\n",
       "      <th>income_type</th>\n",
       "      <th>debt</th>\n",
       "      <th>total_income</th>\n",
       "      <th>purpose</th>\n",
       "    </tr>\n",
       "  </thead>\n",
       "  <tbody>\n",
       "    <tr>\n",
       "      <th>0</th>\n",
       "      <td>1</td>\n",
       "      <td>-8437.673028</td>\n",
       "      <td>42</td>\n",
       "      <td>высшее</td>\n",
       "      <td>0</td>\n",
       "      <td>женат / замужем</td>\n",
       "      <td>0</td>\n",
       "      <td>F</td>\n",
       "      <td>сотрудник</td>\n",
       "      <td>0</td>\n",
       "      <td>253875.639453</td>\n",
       "      <td>покупка жилья</td>\n",
       "    </tr>\n",
       "    <tr>\n",
       "      <th>1</th>\n",
       "      <td>1</td>\n",
       "      <td>-4024.803754</td>\n",
       "      <td>36</td>\n",
       "      <td>среднее</td>\n",
       "      <td>1</td>\n",
       "      <td>женат / замужем</td>\n",
       "      <td>0</td>\n",
       "      <td>F</td>\n",
       "      <td>сотрудник</td>\n",
       "      <td>0</td>\n",
       "      <td>112080.014102</td>\n",
       "      <td>приобретение автомобиля</td>\n",
       "    </tr>\n",
       "    <tr>\n",
       "      <th>2</th>\n",
       "      <td>0</td>\n",
       "      <td>-5623.422610</td>\n",
       "      <td>33</td>\n",
       "      <td>Среднее</td>\n",
       "      <td>1</td>\n",
       "      <td>женат / замужем</td>\n",
       "      <td>0</td>\n",
       "      <td>M</td>\n",
       "      <td>сотрудник</td>\n",
       "      <td>0</td>\n",
       "      <td>145885.952297</td>\n",
       "      <td>покупка жилья</td>\n",
       "    </tr>\n",
       "    <tr>\n",
       "      <th>3</th>\n",
       "      <td>3</td>\n",
       "      <td>-4124.747207</td>\n",
       "      <td>32</td>\n",
       "      <td>среднее</td>\n",
       "      <td>1</td>\n",
       "      <td>женат / замужем</td>\n",
       "      <td>0</td>\n",
       "      <td>M</td>\n",
       "      <td>сотрудник</td>\n",
       "      <td>0</td>\n",
       "      <td>267628.550329</td>\n",
       "      <td>дополнительное образование</td>\n",
       "    </tr>\n",
       "    <tr>\n",
       "      <th>4</th>\n",
       "      <td>0</td>\n",
       "      <td>340266.072047</td>\n",
       "      <td>53</td>\n",
       "      <td>среднее</td>\n",
       "      <td>1</td>\n",
       "      <td>гражданский брак</td>\n",
       "      <td>1</td>\n",
       "      <td>F</td>\n",
       "      <td>пенсионер</td>\n",
       "      <td>0</td>\n",
       "      <td>158616.077870</td>\n",
       "      <td>сыграть свадьбу</td>\n",
       "    </tr>\n",
       "  </tbody>\n",
       "</table>\n",
       "</div>"
      ],
      "text/plain": [
       "   children  days_employed  dob_years education  education_id  \\\n",
       "0         1   -8437.673028         42    высшее             0   \n",
       "1         1   -4024.803754         36   среднее             1   \n",
       "2         0   -5623.422610         33   Среднее             1   \n",
       "3         3   -4124.747207         32   среднее             1   \n",
       "4         0  340266.072047         53   среднее             1   \n",
       "\n",
       "      family_status  family_status_id gender income_type  debt   total_income  \\\n",
       "0   женат / замужем                 0      F   сотрудник     0  253875.639453   \n",
       "1   женат / замужем                 0      F   сотрудник     0  112080.014102   \n",
       "2   женат / замужем                 0      M   сотрудник     0  145885.952297   \n",
       "3   женат / замужем                 0      M   сотрудник     0  267628.550329   \n",
       "4  гражданский брак                 1      F   пенсионер     0  158616.077870   \n",
       "\n",
       "                      purpose  \n",
       "0               покупка жилья  \n",
       "1     приобретение автомобиля  \n",
       "2               покупка жилья  \n",
       "3  дополнительное образование  \n",
       "4             сыграть свадьбу  "
      ]
     },
     "execution_count": 3,
     "metadata": {},
     "output_type": "execute_result"
    }
   ],
   "source": [
    "data.head()"
   ]
  },
  {
   "cell_type": "code",
   "execution_count": 4,
   "id": "bf86f239",
   "metadata": {},
   "outputs": [
    {
     "name": "stdout",
     "output_type": "stream",
     "text": [
      "<class 'pandas.core.frame.DataFrame'>\n",
      "RangeIndex: 21525 entries, 0 to 21524\n",
      "Data columns (total 12 columns):\n",
      " #   Column            Non-Null Count  Dtype  \n",
      "---  ------            --------------  -----  \n",
      " 0   children          21525 non-null  int64  \n",
      " 1   days_employed     19351 non-null  float64\n",
      " 2   dob_years         21525 non-null  int64  \n",
      " 3   education         21525 non-null  object \n",
      " 4   education_id      21525 non-null  int64  \n",
      " 5   family_status     21525 non-null  object \n",
      " 6   family_status_id  21525 non-null  int64  \n",
      " 7   gender            21525 non-null  object \n",
      " 8   income_type       21525 non-null  object \n",
      " 9   debt              21525 non-null  int64  \n",
      " 10  total_income      19351 non-null  float64\n",
      " 11  purpose           21525 non-null  object \n",
      "dtypes: float64(2), int64(5), object(5)\n",
      "memory usage: 2.0+ MB\n"
     ]
    }
   ],
   "source": [
    "data.info()"
   ]
  },
  {
   "cell_type": "markdown",
   "id": "4da46c1e",
   "metadata": {},
   "source": [
    "## Предобработка данных"
   ]
  },
  {
   "cell_type": "markdown",
   "id": "293076b6",
   "metadata": {},
   "source": [
    "### Изучение пропусков"
   ]
  },
  {
   "cell_type": "code",
   "execution_count": 5,
   "id": "d620e434",
   "metadata": {
    "scrolled": true
   },
   "outputs": [
    {
     "data": {
      "text/plain": [
       "children               0\n",
       "days_employed       2174\n",
       "dob_years              0\n",
       "education              0\n",
       "education_id           0\n",
       "family_status          0\n",
       "family_status_id       0\n",
       "gender                 0\n",
       "income_type            0\n",
       "debt                   0\n",
       "total_income        2174\n",
       "purpose                0\n",
       "dtype: int64"
      ]
     },
     "execution_count": 5,
     "metadata": {},
     "output_type": "execute_result"
    }
   ],
   "source": [
    "data.isna().sum()"
   ]
  },
  {
   "cell_type": "markdown",
   "id": "13b3d012",
   "metadata": {},
   "source": [
    "### Заполнение пропусков"
   ]
  },
  {
   "cell_type": "code",
   "execution_count": 6,
   "id": "aa037fef",
   "metadata": {},
   "outputs": [],
   "source": [
    "data['total_income'] = data['total_income'].fillna(data.groupby(['income_type'])['total_income'].transform('median'))"
   ]
  },
  {
   "cell_type": "code",
   "execution_count": 7,
   "id": "e6dcc072",
   "metadata": {},
   "outputs": [
    {
     "data": {
      "text/html": [
       "<div>\n",
       "<style scoped>\n",
       "    .dataframe tbody tr th:only-of-type {\n",
       "        vertical-align: middle;\n",
       "    }\n",
       "\n",
       "    .dataframe tbody tr th {\n",
       "        vertical-align: top;\n",
       "    }\n",
       "\n",
       "    .dataframe thead th {\n",
       "        text-align: right;\n",
       "    }\n",
       "</style>\n",
       "<table border=\"1\" class=\"dataframe\">\n",
       "  <thead>\n",
       "    <tr style=\"text-align: right;\">\n",
       "      <th></th>\n",
       "      <th>children</th>\n",
       "      <th>days_employed</th>\n",
       "      <th>dob_years</th>\n",
       "      <th>education</th>\n",
       "      <th>education_id</th>\n",
       "      <th>family_status</th>\n",
       "      <th>family_status_id</th>\n",
       "      <th>gender</th>\n",
       "      <th>income_type</th>\n",
       "      <th>debt</th>\n",
       "      <th>total_income</th>\n",
       "      <th>purpose</th>\n",
       "    </tr>\n",
       "  </thead>\n",
       "  <tbody>\n",
       "    <tr>\n",
       "      <th>0</th>\n",
       "      <td>1</td>\n",
       "      <td>-8437.673028</td>\n",
       "      <td>42</td>\n",
       "      <td>высшее</td>\n",
       "      <td>0</td>\n",
       "      <td>женат / замужем</td>\n",
       "      <td>0</td>\n",
       "      <td>F</td>\n",
       "      <td>сотрудник</td>\n",
       "      <td>0</td>\n",
       "      <td>253875.639453</td>\n",
       "      <td>покупка жилья</td>\n",
       "    </tr>\n",
       "    <tr>\n",
       "      <th>1</th>\n",
       "      <td>1</td>\n",
       "      <td>-4024.803754</td>\n",
       "      <td>36</td>\n",
       "      <td>среднее</td>\n",
       "      <td>1</td>\n",
       "      <td>женат / замужем</td>\n",
       "      <td>0</td>\n",
       "      <td>F</td>\n",
       "      <td>сотрудник</td>\n",
       "      <td>0</td>\n",
       "      <td>112080.014102</td>\n",
       "      <td>приобретение автомобиля</td>\n",
       "    </tr>\n",
       "    <tr>\n",
       "      <th>2</th>\n",
       "      <td>0</td>\n",
       "      <td>-5623.422610</td>\n",
       "      <td>33</td>\n",
       "      <td>Среднее</td>\n",
       "      <td>1</td>\n",
       "      <td>женат / замужем</td>\n",
       "      <td>0</td>\n",
       "      <td>M</td>\n",
       "      <td>сотрудник</td>\n",
       "      <td>0</td>\n",
       "      <td>145885.952297</td>\n",
       "      <td>покупка жилья</td>\n",
       "    </tr>\n",
       "    <tr>\n",
       "      <th>3</th>\n",
       "      <td>3</td>\n",
       "      <td>-4124.747207</td>\n",
       "      <td>32</td>\n",
       "      <td>среднее</td>\n",
       "      <td>1</td>\n",
       "      <td>женат / замужем</td>\n",
       "      <td>0</td>\n",
       "      <td>M</td>\n",
       "      <td>сотрудник</td>\n",
       "      <td>0</td>\n",
       "      <td>267628.550329</td>\n",
       "      <td>дополнительное образование</td>\n",
       "    </tr>\n",
       "    <tr>\n",
       "      <th>4</th>\n",
       "      <td>0</td>\n",
       "      <td>340266.072047</td>\n",
       "      <td>53</td>\n",
       "      <td>среднее</td>\n",
       "      <td>1</td>\n",
       "      <td>гражданский брак</td>\n",
       "      <td>1</td>\n",
       "      <td>F</td>\n",
       "      <td>пенсионер</td>\n",
       "      <td>0</td>\n",
       "      <td>158616.077870</td>\n",
       "      <td>сыграть свадьбу</td>\n",
       "    </tr>\n",
       "  </tbody>\n",
       "</table>\n",
       "</div>"
      ],
      "text/plain": [
       "   children  days_employed  dob_years education  education_id  \\\n",
       "0         1   -8437.673028         42    высшее             0   \n",
       "1         1   -4024.803754         36   среднее             1   \n",
       "2         0   -5623.422610         33   Среднее             1   \n",
       "3         3   -4124.747207         32   среднее             1   \n",
       "4         0  340266.072047         53   среднее             1   \n",
       "\n",
       "      family_status  family_status_id gender income_type  debt   total_income  \\\n",
       "0   женат / замужем                 0      F   сотрудник     0  253875.639453   \n",
       "1   женат / замужем                 0      F   сотрудник     0  112080.014102   \n",
       "2   женат / замужем                 0      M   сотрудник     0  145885.952297   \n",
       "3   женат / замужем                 0      M   сотрудник     0  267628.550329   \n",
       "4  гражданский брак                 1      F   пенсионер     0  158616.077870   \n",
       "\n",
       "                      purpose  \n",
       "0               покупка жилья  \n",
       "1     приобретение автомобиля  \n",
       "2               покупка жилья  \n",
       "3  дополнительное образование  \n",
       "4             сыграть свадьбу  "
      ]
     },
     "execution_count": 7,
     "metadata": {},
     "output_type": "execute_result"
    }
   ],
   "source": [
    "data.head()"
   ]
  },
  {
   "cell_type": "markdown",
   "id": "7e0459af",
   "metadata": {},
   "source": [
    "### Обработка аномальных значений"
   ]
  },
  {
   "cell_type": "code",
   "execution_count": 8,
   "id": "9736b7cc",
   "metadata": {},
   "outputs": [],
   "source": [
    "data['days_employed'] = data['days_employed'].abs()"
   ]
  },
  {
   "cell_type": "code",
   "execution_count": 9,
   "id": "5de3099f",
   "metadata": {},
   "outputs": [
    {
     "data": {
      "text/plain": [
       "income_type\n",
       "безработный        366413.652744\n",
       "в декрете            3296.759962\n",
       "госслужащий          2689.368353\n",
       "компаньон            1547.382223\n",
       "пенсионер          365213.306266\n",
       "предприниматель       520.848083\n",
       "сотрудник            1574.202821\n",
       "студент               578.751554\n",
       "Name: days_employed, dtype: float64"
      ]
     },
     "execution_count": 9,
     "metadata": {},
     "output_type": "execute_result"
    }
   ],
   "source": [
    "data.groupby('income_type')['days_employed'].agg('median')"
   ]
  },
  {
   "cell_type": "markdown",
   "id": "c1d1edf8",
   "metadata": {},
   "source": [
    "У двух типов (безработные и пенсионеры) получатся аномально большие значения. Исправить такие значения сложно, поэтому оставьте их как есть. Тем более этот столбец не понадобится вам для исследования."
   ]
  },
  {
   "cell_type": "code",
   "execution_count": 10,
   "id": "2b2de42a",
   "metadata": {},
   "outputs": [
    {
     "data": {
      "text/plain": [
       "array([ 1,  0,  3,  2, -1,  4, 20,  5])"
      ]
     },
     "execution_count": 10,
     "metadata": {},
     "output_type": "execute_result"
    }
   ],
   "source": [
    "data['children'].unique()"
   ]
  },
  {
   "cell_type": "code",
   "execution_count": 11,
   "id": "45501695",
   "metadata": {},
   "outputs": [],
   "source": [
    "data = data[(data['children'] != -1) & (data['children'] != 20)]"
   ]
  },
  {
   "cell_type": "code",
   "execution_count": 12,
   "id": "611ee5a0",
   "metadata": {},
   "outputs": [
    {
     "data": {
      "text/plain": [
       "array([1, 0, 3, 2, 4, 5])"
      ]
     },
     "execution_count": 12,
     "metadata": {},
     "output_type": "execute_result"
    }
   ],
   "source": [
    "data['children'].unique()"
   ]
  },
  {
   "cell_type": "markdown",
   "id": "f010c926",
   "metadata": {},
   "source": [
    "### Заполняем пропуски в столбце `days_employed` медианными значениями"
   ]
  },
  {
   "cell_type": "code",
   "execution_count": 13,
   "id": "d58d82d2",
   "metadata": {},
   "outputs": [],
   "source": [
    "for t in data['income_type'].unique():\n",
    "    data.loc[(data['income_type'] == t) & (data['days_employed'].isna()), 'days_employed'] = \\\n",
    "    data.loc[(data['income_type'] == t), 'days_employed'].median()"
   ]
  },
  {
   "cell_type": "code",
   "execution_count": 14,
   "id": "7a9e9c47",
   "metadata": {},
   "outputs": [
    {
     "data": {
      "text/plain": [
       "children            0\n",
       "days_employed       0\n",
       "dob_years           0\n",
       "education           0\n",
       "education_id        0\n",
       "family_status       0\n",
       "family_status_id    0\n",
       "gender              0\n",
       "income_type         0\n",
       "debt                0\n",
       "total_income        0\n",
       "purpose             0\n",
       "dtype: int64"
      ]
     },
     "execution_count": 14,
     "metadata": {},
     "output_type": "execute_result"
    }
   ],
   "source": [
    "data.isna().sum()"
   ]
  },
  {
   "cell_type": "markdown",
   "id": "50e3b272",
   "metadata": {},
   "source": [
    "### Изменение типов данных"
   ]
  },
  {
   "cell_type": "code",
   "execution_count": 15,
   "id": "0564ba5d",
   "metadata": {},
   "outputs": [],
   "source": [
    "data['total_income'] = data['total_income'].astype(int)"
   ]
  },
  {
   "cell_type": "markdown",
   "id": "8b698188",
   "metadata": {},
   "source": [
    "### Обработка дубликатов"
   ]
  },
  {
   "cell_type": "code",
   "execution_count": 16,
   "id": "bc335f87",
   "metadata": {},
   "outputs": [],
   "source": [
    "data['education'] = data['education'].str.lower()"
   ]
  },
  {
   "cell_type": "code",
   "execution_count": 17,
   "id": "c2b992cf",
   "metadata": {},
   "outputs": [
    {
     "data": {
      "text/plain": [
       "71"
      ]
     },
     "execution_count": 17,
     "metadata": {},
     "output_type": "execute_result"
    }
   ],
   "source": [
    "data.duplicated().sum()"
   ]
  },
  {
   "cell_type": "code",
   "execution_count": 18,
   "id": "7c9fae39",
   "metadata": {},
   "outputs": [],
   "source": [
    "data = data.drop_duplicates()"
   ]
  },
  {
   "cell_type": "markdown",
   "id": "6b6ea33f",
   "metadata": {},
   "source": [
    "### Категоризация данных"
   ]
  },
  {
   "cell_type": "markdown",
   "id": "6d565d5b",
   "metadata": {},
   "source": [
    "**На основании диапазонов, указанных ниже, создаем в датафрейме `data` столбец `total_income_category` с категориями:**\n",
    "\n",
    "- 0–30000 — `'E'`;\n",
    "- 30001–50000 — `'D'`;\n",
    "- 50001–200000 — `'C'`;\n",
    "- 200001–1000000 — `'B'`;\n",
    "- 1000001 и выше — `'A'`."
   ]
  },
  {
   "cell_type": "code",
   "execution_count": 19,
   "id": "bbc7a8cb",
   "metadata": {},
   "outputs": [],
   "source": [
    "def categorize_income(income):\n",
    "    try:\n",
    "        if 0 <= income <= 30000:\n",
    "            return 'E'\n",
    "        elif 30001 <= income <= 50000:\n",
    "            return 'D'\n",
    "        elif 50001 <= income <= 200000:\n",
    "            return 'C'\n",
    "        elif 200001 <= income <= 1000000:\n",
    "            return 'B'\n",
    "        elif income >= 1000001:\n",
    "            return 'A'\n",
    "    except:\n",
    "        pass"
   ]
  },
  {
   "cell_type": "code",
   "execution_count": 20,
   "id": "f0c5af98",
   "metadata": {},
   "outputs": [],
   "source": [
    "data['total_income_category'] = data['total_income'].apply(categorize_income)"
   ]
  },
  {
   "cell_type": "code",
   "execution_count": 21,
   "id": "98d32ec5",
   "metadata": {},
   "outputs": [
    {
     "data": {
      "text/plain": [
       "array(['покупка жилья', 'приобретение автомобиля',\n",
       "       'дополнительное образование', 'сыграть свадьбу',\n",
       "       'операции с жильем', 'образование', 'на проведение свадьбы',\n",
       "       'покупка жилья для семьи', 'покупка недвижимости',\n",
       "       'покупка коммерческой недвижимости', 'покупка жилой недвижимости',\n",
       "       'строительство собственной недвижимости', 'недвижимость',\n",
       "       'строительство недвижимости', 'на покупку подержанного автомобиля',\n",
       "       'на покупку своего автомобиля',\n",
       "       'операции с коммерческой недвижимостью',\n",
       "       'строительство жилой недвижимости', 'жилье',\n",
       "       'операции со своей недвижимостью', 'автомобили',\n",
       "       'заняться образованием', 'сделка с подержанным автомобилем',\n",
       "       'получение образования', 'автомобиль', 'свадьба',\n",
       "       'получение дополнительного образования', 'покупка своего жилья',\n",
       "       'операции с недвижимостью', 'получение высшего образования',\n",
       "       'свой автомобиль', 'сделка с автомобилем',\n",
       "       'профильное образование', 'высшее образование',\n",
       "       'покупка жилья для сдачи', 'на покупку автомобиля', 'ремонт жилью',\n",
       "       'заняться высшим образованием'], dtype=object)"
      ]
     },
     "execution_count": 21,
     "metadata": {},
     "output_type": "execute_result"
    }
   ],
   "source": [
    "data['purpose'].unique()"
   ]
  },
  {
   "cell_type": "markdown",
   "id": "57794df5",
   "metadata": {},
   "source": [
    "**Создаем функцию, которая на основании данных из столбца `purpose` сформирует новый столбец `purpose_category`, в который войдут следующие категории:**\n",
    "\n",
    "- `'операции с автомобилем'`,\n",
    "- `'операции с недвижимостью'`,\n",
    "- `'проведение свадьбы'`,\n",
    "- `'получение образования'`."
   ]
  },
  {
   "cell_type": "code",
   "execution_count": 22,
   "id": "f1173509",
   "metadata": {},
   "outputs": [],
   "source": [
    "def categorize_purpose(row):\n",
    "    try:\n",
    "        if 'автом' in row:\n",
    "            return 'операции с автомобилем'\n",
    "        elif 'жил' in row or 'недвиж' in row:\n",
    "            return 'операции с недвижимостью'\n",
    "        elif 'свад' in row:\n",
    "            return 'проведение свадьбы'\n",
    "        elif 'образов' in row:\n",
    "            return 'получение образования'\n",
    "    except:\n",
    "        return 'нет категории'"
   ]
  },
  {
   "cell_type": "code",
   "execution_count": 23,
   "id": "858ec386",
   "metadata": {},
   "outputs": [],
   "source": [
    "data['purpose_category'] = data['purpose'].apply(categorize_purpose)"
   ]
  },
  {
   "cell_type": "markdown",
   "id": "d55f5e6d",
   "metadata": {},
   "source": [
    "## Исследуем данные и отвечаем на вопросы"
   ]
  },
  {
   "cell_type": "markdown",
   "id": "d9bb2b6b",
   "metadata": {},
   "source": [
    "### Есть ли зависимость между количеством детей и возвратом кредита в срок?"
   ]
  },
  {
   "cell_type": "markdown",
   "id": "6b400818",
   "metadata": {},
   "source": [
    "Будем оценивать зависимость между количеством детей и возвратом кредита по доле людей, которые имеют долг.\n",
    "Для реализации воспользуемся методом `pivot_table`."
   ]
  },
  {
   "cell_type": "code",
   "execution_count": 24,
   "id": "ff897e31",
   "metadata": {},
   "outputs": [
    {
     "data": {
      "text/html": [
       "<style type=\"text/css\">\n",
       "</style>\n",
       "<table id=\"T_579a1\">\n",
       "  <thead>\n",
       "    <tr>\n",
       "      <th class=\"blank level0\" >&nbsp;</th>\n",
       "      <th id=\"T_579a1_level0_col0\" class=\"col_heading level0 col0\" >Количество <br> заемщиков</th>\n",
       "      <th id=\"T_579a1_level0_col1\" class=\"col_heading level0 col1\" >Количество <br> должников</th>\n",
       "      <th id=\"T_579a1_level0_col2\" class=\"col_heading level0 col2\" >Доля должников</th>\n",
       "    </tr>\n",
       "    <tr>\n",
       "      <th class=\"index_name level0\" >children</th>\n",
       "      <th class=\"blank col0\" >&nbsp;</th>\n",
       "      <th class=\"blank col1\" >&nbsp;</th>\n",
       "      <th class=\"blank col2\" >&nbsp;</th>\n",
       "    </tr>\n",
       "  </thead>\n",
       "  <tbody>\n",
       "    <tr>\n",
       "      <th id=\"T_579a1_level0_row0\" class=\"row_heading level0 row0\" >0</th>\n",
       "      <td id=\"T_579a1_row0_col0\" class=\"data row0 col0\" >14091</td>\n",
       "      <td id=\"T_579a1_row0_col1\" class=\"data row0 col1\" >1063</td>\n",
       "      <td id=\"T_579a1_row0_col2\" class=\"data row0 col2\" >7.54%</td>\n",
       "    </tr>\n",
       "    <tr>\n",
       "      <th id=\"T_579a1_level0_row1\" class=\"row_heading level0 row1\" >1</th>\n",
       "      <td id=\"T_579a1_row1_col0\" class=\"data row1 col0\" >4808</td>\n",
       "      <td id=\"T_579a1_row1_col1\" class=\"data row1 col1\" >444</td>\n",
       "      <td id=\"T_579a1_row1_col2\" class=\"data row1 col2\" >9.23%</td>\n",
       "    </tr>\n",
       "    <tr>\n",
       "      <th id=\"T_579a1_level0_row2\" class=\"row_heading level0 row2\" >2</th>\n",
       "      <td id=\"T_579a1_row2_col0\" class=\"data row2 col0\" >2052</td>\n",
       "      <td id=\"T_579a1_row2_col1\" class=\"data row2 col1\" >194</td>\n",
       "      <td id=\"T_579a1_row2_col2\" class=\"data row2 col2\" >9.45%</td>\n",
       "    </tr>\n",
       "    <tr>\n",
       "      <th id=\"T_579a1_level0_row3\" class=\"row_heading level0 row3\" >3</th>\n",
       "      <td id=\"T_579a1_row3_col0\" class=\"data row3 col0\" >330</td>\n",
       "      <td id=\"T_579a1_row3_col1\" class=\"data row3 col1\" >27</td>\n",
       "      <td id=\"T_579a1_row3_col2\" class=\"data row3 col2\" >8.18%</td>\n",
       "    </tr>\n",
       "    <tr>\n",
       "      <th id=\"T_579a1_level0_row4\" class=\"row_heading level0 row4\" >4</th>\n",
       "      <td id=\"T_579a1_row4_col0\" class=\"data row4 col0\" >41</td>\n",
       "      <td id=\"T_579a1_row4_col1\" class=\"data row4 col1\" >4</td>\n",
       "      <td id=\"T_579a1_row4_col2\" class=\"data row4 col2\" >9.76%</td>\n",
       "    </tr>\n",
       "    <tr>\n",
       "      <th id=\"T_579a1_level0_row5\" class=\"row_heading level0 row5\" >5</th>\n",
       "      <td id=\"T_579a1_row5_col0\" class=\"data row5 col0\" >9</td>\n",
       "      <td id=\"T_579a1_row5_col1\" class=\"data row5 col1\" >0</td>\n",
       "      <td id=\"T_579a1_row5_col2\" class=\"data row5 col2\" >0.00%</td>\n",
       "    </tr>\n",
       "  </tbody>\n",
       "</table>\n"
      ],
      "text/plain": [
       "<pandas.io.formats.style.Styler at 0x11c2ae7a0>"
      ]
     },
     "execution_count": 24,
     "metadata": {},
     "output_type": "execute_result"
    }
   ],
   "source": [
    "doubt_by_children = data.pivot_table(index = ['children'],\n",
    "                                     values='debt',\n",
    "                                     aggfunc = ('mean', lambda x: x.count(),lambda x: x.sum()))\n",
    "doubt_by_children = doubt_by_children.rename(columns={\"<lambda_0>\": \"Количество <br> заемщиков\",\n",
    "                                                      \"mean\": \"Доля должников\",\n",
    "                                                     '<lambda_1>': 'Количество <br> должников'})\n",
    "doubt_by_children = doubt_by_children.style.format({\n",
    "    'Доля должников': '{:.2%}',\n",
    "    'Количество <br> заемщиков': '{:.0f}',\n",
    "    'Количество <br> должников': '{:.0f}'\n",
    "})\n",
    "doubt_by_children"
   ]
  },
  {
   "cell_type": "markdown",
   "id": "af4d9a5a",
   "metadata": {},
   "source": [
    "**Вывод:** люди, которые не имеют детей, лучше всего отдают кредит - доля должников здесь составляет 7,5%. Хуже обстоит дело с заемщиками, у которых один или двое детей - здесь доля невозврата составляет соответственно 9,2% и 9,5%.  \n",
    "Остальные категории некорректно сравнивать, так как в них очень маленькая выборка.  \n",
    "Хуже всего выплачивают кредит люди с 2 детьми, лучше всего - люди без детей. Разница между ними ~ 20,2%."
   ]
  },
  {
   "cell_type": "markdown",
   "id": "3b6b3df1",
   "metadata": {},
   "source": [
    "### Есть ли зависимость между семейным положением и возвратом кредита в срок?"
   ]
  },
  {
   "cell_type": "code",
   "execution_count": 25,
   "id": "61b15131",
   "metadata": {},
   "outputs": [
    {
     "data": {
      "text/plain": [
       "array(['женат / замужем', 'гражданский брак', 'вдовец / вдова',\n",
       "       'в разводе', 'Не женат / не замужем'], dtype=object)"
      ]
     },
     "execution_count": 25,
     "metadata": {},
     "output_type": "execute_result"
    }
   ],
   "source": [
    "data['family_status'].unique()"
   ]
  },
  {
   "cell_type": "code",
   "execution_count": 26,
   "id": "dd19892a",
   "metadata": {},
   "outputs": [
    {
     "data": {
      "text/html": [
       "<style type=\"text/css\">\n",
       "</style>\n",
       "<table id=\"T_81be5\">\n",
       "  <thead>\n",
       "    <tr>\n",
       "      <th class=\"blank level0\" >&nbsp;</th>\n",
       "      <th id=\"T_81be5_level0_col0\" class=\"col_heading level0 col0\" >Количество <br> заемщиков</th>\n",
       "      <th id=\"T_81be5_level0_col1\" class=\"col_heading level0 col1\" >Количество <br> должников</th>\n",
       "      <th id=\"T_81be5_level0_col2\" class=\"col_heading level0 col2\" >Доля должников</th>\n",
       "    </tr>\n",
       "    <tr>\n",
       "      <th class=\"index_name level0\" >family_status</th>\n",
       "      <th class=\"blank col0\" >&nbsp;</th>\n",
       "      <th class=\"blank col1\" >&nbsp;</th>\n",
       "      <th class=\"blank col2\" >&nbsp;</th>\n",
       "    </tr>\n",
       "  </thead>\n",
       "  <tbody>\n",
       "    <tr>\n",
       "      <th id=\"T_81be5_level0_row0\" class=\"row_heading level0 row0\" >Не женат / не замужем</th>\n",
       "      <td id=\"T_81be5_row0_col0\" class=\"data row0 col0\" >2796</td>\n",
       "      <td id=\"T_81be5_row0_col1\" class=\"data row0 col1\" >273</td>\n",
       "      <td id=\"T_81be5_row0_col2\" class=\"data row0 col2\" >9.76%</td>\n",
       "    </tr>\n",
       "    <tr>\n",
       "      <th id=\"T_81be5_level0_row1\" class=\"row_heading level0 row1\" >в разводе</th>\n",
       "      <td id=\"T_81be5_row1_col0\" class=\"data row1 col0\" >1189</td>\n",
       "      <td id=\"T_81be5_row1_col1\" class=\"data row1 col1\" >84</td>\n",
       "      <td id=\"T_81be5_row1_col2\" class=\"data row1 col2\" >7.06%</td>\n",
       "    </tr>\n",
       "    <tr>\n",
       "      <th id=\"T_81be5_level0_row2\" class=\"row_heading level0 row2\" >вдовец / вдова</th>\n",
       "      <td id=\"T_81be5_row2_col0\" class=\"data row2 col0\" >951</td>\n",
       "      <td id=\"T_81be5_row2_col1\" class=\"data row2 col1\" >63</td>\n",
       "      <td id=\"T_81be5_row2_col2\" class=\"data row2 col2\" >6.62%</td>\n",
       "    </tr>\n",
       "    <tr>\n",
       "      <th id=\"T_81be5_level0_row3\" class=\"row_heading level0 row3\" >гражданский брак</th>\n",
       "      <td id=\"T_81be5_row3_col0\" class=\"data row3 col0\" >4134</td>\n",
       "      <td id=\"T_81be5_row3_col1\" class=\"data row3 col1\" >385</td>\n",
       "      <td id=\"T_81be5_row3_col2\" class=\"data row3 col2\" >9.31%</td>\n",
       "    </tr>\n",
       "    <tr>\n",
       "      <th id=\"T_81be5_level0_row4\" class=\"row_heading level0 row4\" >женат / замужем</th>\n",
       "      <td id=\"T_81be5_row4_col0\" class=\"data row4 col0\" >12261</td>\n",
       "      <td id=\"T_81be5_row4_col1\" class=\"data row4 col1\" >927</td>\n",
       "      <td id=\"T_81be5_row4_col2\" class=\"data row4 col2\" >7.56%</td>\n",
       "    </tr>\n",
       "  </tbody>\n",
       "</table>\n"
      ],
      "text/plain": [
       "<pandas.io.formats.style.Styler at 0x11c64f550>"
      ]
     },
     "execution_count": 26,
     "metadata": {},
     "output_type": "execute_result"
    }
   ],
   "source": [
    "doubt_by_status = data.pivot_table(index = ['family_status'],\n",
    "                                     values='debt',\n",
    "                                     aggfunc = ('mean', lambda x: x.count(),lambda x: x.sum()))\n",
    "doubt_by_status = doubt_by_status.rename(columns={\"<lambda_0>\": \"Количество <br> заемщиков\",\n",
    "                                                      \"mean\": \"Доля должников\",\n",
    "                                                     '<lambda_1>': 'Количество <br> должников'})\n",
    "doubt_by_status = doubt_by_status.style.format({\n",
    "    'Доля должников': '{:.2%}',\n",
    "    'Количество <br> заемщиков': '{:.0f}',\n",
    "    'Количество <br> должников': '{:.0f}'\n",
    "})\n",
    "doubt_by_status"
   ]
  },
  {
   "cell_type": "markdown",
   "id": "fd299b43",
   "metadata": {},
   "source": [
    "**Вывод:** люди с семейным положением \"женат / замужем\" лучше всего отдают кредит - доля должников здесь составляет 7,6%. Хуже обстоит дело с заемщиками, чей статус \"гражданский брак\" или \"Не женат / не замужем\" - здесь доля невозврата составляет соответственно 9,3% и 9,8%.  \n",
    "Остальные категории некорректно сравнивать, так как в них очень маленькая выборка.  \n",
    "Хуже всего выплачивают кредит люди в статусе \"Не женат / не замужем\", лучше всего - люди, чье семейное положение \"женат / замужем\". Разница между ними ~ 22,5%."
   ]
  },
  {
   "cell_type": "markdown",
   "id": "397826f4",
   "metadata": {},
   "source": [
    "### Есть ли зависимость между уровнем дохода и возвратом кредита в срок?"
   ]
  },
  {
   "cell_type": "code",
   "execution_count": 27,
   "id": "781b6d4c",
   "metadata": {},
   "outputs": [
    {
     "data": {
      "text/html": [
       "<style type=\"text/css\">\n",
       "</style>\n",
       "<table id=\"T_620d6\">\n",
       "  <thead>\n",
       "    <tr>\n",
       "      <th class=\"blank level0\" >&nbsp;</th>\n",
       "      <th id=\"T_620d6_level0_col0\" class=\"col_heading level0 col0\" >Количество <br> заемщиков</th>\n",
       "      <th id=\"T_620d6_level0_col1\" class=\"col_heading level0 col1\" >Количество <br> должников</th>\n",
       "      <th id=\"T_620d6_level0_col2\" class=\"col_heading level0 col2\" >Доля должников</th>\n",
       "    </tr>\n",
       "    <tr>\n",
       "      <th class=\"index_name level0\" >total_income_category</th>\n",
       "      <th class=\"blank col0\" >&nbsp;</th>\n",
       "      <th class=\"blank col1\" >&nbsp;</th>\n",
       "      <th class=\"blank col2\" >&nbsp;</th>\n",
       "    </tr>\n",
       "  </thead>\n",
       "  <tbody>\n",
       "    <tr>\n",
       "      <th id=\"T_620d6_level0_row0\" class=\"row_heading level0 row0\" >A</th>\n",
       "      <td id=\"T_620d6_row0_col0\" class=\"data row0 col0\" >25</td>\n",
       "      <td id=\"T_620d6_row0_col1\" class=\"data row0 col1\" >2</td>\n",
       "      <td id=\"T_620d6_row0_col2\" class=\"data row0 col2\" >8.00%</td>\n",
       "    </tr>\n",
       "    <tr>\n",
       "      <th id=\"T_620d6_level0_row1\" class=\"row_heading level0 row1\" >B</th>\n",
       "      <td id=\"T_620d6_row1_col0\" class=\"data row1 col0\" >5014</td>\n",
       "      <td id=\"T_620d6_row1_col1\" class=\"data row1 col1\" >354</td>\n",
       "      <td id=\"T_620d6_row1_col2\" class=\"data row1 col2\" >7.06%</td>\n",
       "    </tr>\n",
       "    <tr>\n",
       "      <th id=\"T_620d6_level0_row2\" class=\"row_heading level0 row2\" >C</th>\n",
       "      <td id=\"T_620d6_row2_col0\" class=\"data row2 col0\" >15921</td>\n",
       "      <td id=\"T_620d6_row2_col1\" class=\"data row2 col1\" >1353</td>\n",
       "      <td id=\"T_620d6_row2_col2\" class=\"data row2 col2\" >8.50%</td>\n",
       "    </tr>\n",
       "    <tr>\n",
       "      <th id=\"T_620d6_level0_row3\" class=\"row_heading level0 row3\" >D</th>\n",
       "      <td id=\"T_620d6_row3_col0\" class=\"data row3 col0\" >349</td>\n",
       "      <td id=\"T_620d6_row3_col1\" class=\"data row3 col1\" >21</td>\n",
       "      <td id=\"T_620d6_row3_col2\" class=\"data row3 col2\" >6.02%</td>\n",
       "    </tr>\n",
       "    <tr>\n",
       "      <th id=\"T_620d6_level0_row4\" class=\"row_heading level0 row4\" >E</th>\n",
       "      <td id=\"T_620d6_row4_col0\" class=\"data row4 col0\" >22</td>\n",
       "      <td id=\"T_620d6_row4_col1\" class=\"data row4 col1\" >2</td>\n",
       "      <td id=\"T_620d6_row4_col2\" class=\"data row4 col2\" >9.09%</td>\n",
       "    </tr>\n",
       "  </tbody>\n",
       "</table>\n"
      ],
      "text/plain": [
       "<pandas.io.formats.style.Styler at 0x11c354880>"
      ]
     },
     "execution_count": 27,
     "metadata": {},
     "output_type": "execute_result"
    }
   ],
   "source": [
    "doubt_by_income = data.pivot_table(index = ['total_income_category'],\n",
    "                                     values='debt',\n",
    "                                     aggfunc = ('mean', lambda x: x.count(),lambda x: x.sum()))\n",
    "doubt_by_income = doubt_by_income.rename(columns={\"<lambda_0>\": \"Количество <br> заемщиков\",\n",
    "                                                      \"mean\": \"Доля должников\",\n",
    "                                                     '<lambda_1>': 'Количество <br> должников'})\n",
    "doubt_by_income = doubt_by_income.style.format({\n",
    "    'Доля должников': '{:.2%}',\n",
    "    'Количество <br> заемщиков': '{:.0f}',\n",
    "    'Количество <br> должников': '{:.0f}'\n",
    "})\n",
    "doubt_by_income"
   ]
  },
  {
   "cell_type": "markdown",
   "id": "71706138",
   "metadata": {},
   "source": [
    "**Вывод:** лучше всего с выплатой кредита в срок справляются люди из категории B (200001-1000000) - доля должников здесь составляет 7%. Хуже обстоит дело с заемщиками из категории C (50001-200000) - здесь доля невозврата составляет 8,5%.  \n",
    "Разница между ними ~ 16,9%.  \n",
    "Остальные категории некорректно сравнивать, так как в них очень маленькая выборка. "
   ]
  },
  {
   "cell_type": "markdown",
   "id": "581a8e99",
   "metadata": {},
   "source": [
    "### Как разные цели кредита влияют на его возврат в срок?"
   ]
  },
  {
   "cell_type": "code",
   "execution_count": 28,
   "id": "e430b8aa",
   "metadata": {},
   "outputs": [
    {
     "data": {
      "text/html": [
       "<style type=\"text/css\">\n",
       "</style>\n",
       "<table id=\"T_e8d89\">\n",
       "  <thead>\n",
       "    <tr>\n",
       "      <th class=\"blank level0\" >&nbsp;</th>\n",
       "      <th id=\"T_e8d89_level0_col0\" class=\"col_heading level0 col0\" >Количество <br> заемщиков</th>\n",
       "      <th id=\"T_e8d89_level0_col1\" class=\"col_heading level0 col1\" >Количество <br> должников</th>\n",
       "      <th id=\"T_e8d89_level0_col2\" class=\"col_heading level0 col2\" >Доля должников</th>\n",
       "    </tr>\n",
       "    <tr>\n",
       "      <th class=\"index_name level0\" >purpose_category</th>\n",
       "      <th class=\"blank col0\" >&nbsp;</th>\n",
       "      <th class=\"blank col1\" >&nbsp;</th>\n",
       "      <th class=\"blank col2\" >&nbsp;</th>\n",
       "    </tr>\n",
       "  </thead>\n",
       "  <tbody>\n",
       "    <tr>\n",
       "      <th id=\"T_e8d89_level0_row0\" class=\"row_heading level0 row0\" >операции с автомобилем</th>\n",
       "      <td id=\"T_e8d89_row0_col0\" class=\"data row0 col0\" >4279</td>\n",
       "      <td id=\"T_e8d89_row0_col1\" class=\"data row0 col1\" >400</td>\n",
       "      <td id=\"T_e8d89_row0_col2\" class=\"data row0 col2\" >9.35%</td>\n",
       "    </tr>\n",
       "    <tr>\n",
       "      <th id=\"T_e8d89_level0_row1\" class=\"row_heading level0 row1\" >операции с недвижимостью</th>\n",
       "      <td id=\"T_e8d89_row1_col0\" class=\"data row1 col0\" >10751</td>\n",
       "      <td id=\"T_e8d89_row1_col1\" class=\"data row1 col1\" >780</td>\n",
       "      <td id=\"T_e8d89_row1_col2\" class=\"data row1 col2\" >7.26%</td>\n",
       "    </tr>\n",
       "    <tr>\n",
       "      <th id=\"T_e8d89_level0_row2\" class=\"row_heading level0 row2\" >получение образования</th>\n",
       "      <td id=\"T_e8d89_row2_col0\" class=\"data row2 col0\" >3988</td>\n",
       "      <td id=\"T_e8d89_row2_col1\" class=\"data row2 col1\" >369</td>\n",
       "      <td id=\"T_e8d89_row2_col2\" class=\"data row2 col2\" >9.25%</td>\n",
       "    </tr>\n",
       "    <tr>\n",
       "      <th id=\"T_e8d89_level0_row3\" class=\"row_heading level0 row3\" >проведение свадьбы</th>\n",
       "      <td id=\"T_e8d89_row3_col0\" class=\"data row3 col0\" >2313</td>\n",
       "      <td id=\"T_e8d89_row3_col1\" class=\"data row3 col1\" >183</td>\n",
       "      <td id=\"T_e8d89_row3_col2\" class=\"data row3 col2\" >7.91%</td>\n",
       "    </tr>\n",
       "  </tbody>\n",
       "</table>\n"
      ],
      "text/plain": [
       "<pandas.io.formats.style.Styler at 0x11c64ddb0>"
      ]
     },
     "execution_count": 28,
     "metadata": {},
     "output_type": "execute_result"
    }
   ],
   "source": [
    "doubt_by_purpose = data.pivot_table(index = ['purpose_category'],\n",
    "                                     values='debt',\n",
    "                                     aggfunc = ('mean', lambda x: x.count(),lambda x: x.sum()))\n",
    "doubt_by_purpose = doubt_by_purpose.rename(columns={\"<lambda_0>\": \"Количество <br> заемщиков\",\n",
    "                                                      \"mean\": \"Доля должников\",\n",
    "                                                     '<lambda_1>': 'Количество <br> должников'})\n",
    "doubt_by_purpose = doubt_by_purpose.style.format({\n",
    "    'Доля должников': '{:.2%}',\n",
    "    'Количество <br> заемщиков': '{:.0f}',\n",
    "    'Количество <br> должников': '{:.0f}'\n",
    "})\n",
    "doubt_by_purpose"
   ]
  },
  {
   "cell_type": "markdown",
   "id": "2cf60e20",
   "metadata": {},
   "source": [
    "**Вывод:** меньше всего должников в категориях \"операции с недвижимостью\" и \"проведение свадьбы\" - доля должников здесь составляет соответственно 7,3% и 7,9%. Хуже обстоит дело с заемщиками в категориях \"операции с автомобилем\" и \"получение образования\" - здесь доля невозврата составляет соответственно 9,4% и 9,3%.\n",
    "Хуже всего выплачивают кредит люди в категории \"операции с автомобилем\", лучше всего - люди в категории \"операции с недвижимостью\". Разница между ними ~ 22,4%.  \n",
    "Самые надежные кредиторы - те, кто берет ипотеку. Вероятно, это потому, что люди чаще всего берут ее на очень большой срок и более ответственно подходят к решению взять такое обязательство."
   ]
  },
  {
   "cell_type": "markdown",
   "id": "2a78af31",
   "metadata": {},
   "source": [
    "## Общий вывод."
   ]
  },
  {
   "cell_type": "markdown",
   "id": "540b074f",
   "metadata": {},
   "source": [
    "**\"Есть ли зависимость между количеством детей и возвратом кредита в срок?\"**  \n",
    "Зависимость есть - хуже всего выплачивают кредит люди с 2 детьми (доля должников  9,5%), лучше всего - люди без детей (доля должников  7,5%). Разница между ними ~ 20,2%.  \n",
    "  \n",
    "**\"Есть ли зависимость между семейным положением и возвратом кредита в срок?\"**  \n",
    "Зависимость есть - хуже всего выплачивают кредит люди с семейным положением \"Не женат / не замужем\" (доля должников  9,8%), лучше всего - люди с семейным положением \"женат / замужем\" (доля должников  7,6%). Разница между ними ~ 22,5%.  \n",
    "\n",
    "**\"Есть ли зависимость между уровнем дохода и возвратом кредита в срок?\"**  \n",
    "Зависимость есть - лучше всего с выплатой кредита в срок справляются люди из категории B (200001-1000000) - доля должников здесь составляет 7%. Хуже обстоит дело с заемщиками из категории C (50001-200000) - здесь доля невозврата составляет 8,5%.\n",
    "Разница между ними ~ 16,9%.  \n",
    "\n",
    "**\"Как разные цели кредита влияют на его возврат в срок?\"**  \n",
    "Хуже всего выплачивают кредит люди в категории \"операции с автомобилем\"(9,4%), лучше всего - люди в категории \"операции с недвижимостью\"(7,3%). Разница между ними ~ 22,4%.  \n",
    "\n",
    "**Рекомендации банку по улучшению сбора данных и скоринга**  \n",
    "Обратить дополнительное внимание на сбор данных в категориях \"опыт\"-\"days_employed\" и \"доход\"-\"total_income\". В них было много пропусков и аномальных значений.  \n",
    "Для улучшения скоринга нужно придавать большее значение цели кредита, семейному положению заемщика и количеству детей в семье.  \n",
    "Если заемщик попадает в одну из двух категорий по уровню дохода(В или С), то можно улучшить скоринг, если при оценке учитывать и этот параметр."
   ]
  },
  {
   "cell_type": "code",
   "execution_count": null,
   "id": "e30fd6dc",
   "metadata": {},
   "outputs": [],
   "source": []
  }
 ],
 "metadata": {
  "kernelspec": {
   "display_name": "Python 3 (ipykernel)",
   "language": "python",
   "name": "python3"
  },
  "language_info": {
   "codemirror_mode": {
    "name": "ipython",
    "version": 3
   },
   "file_extension": ".py",
   "mimetype": "text/x-python",
   "name": "python",
   "nbconvert_exporter": "python",
   "pygments_lexer": "ipython3",
   "version": "3.10.9"
  },
  "toc": {
   "base_numbering": 1,
   "nav_menu": {},
   "number_sections": true,
   "sideBar": true,
   "skip_h1_title": true,
   "title_cell": "Table of Contents",
   "title_sidebar": "Contents",
   "toc_cell": true,
   "toc_position": {},
   "toc_section_display": true,
   "toc_window_display": false
  }
 },
 "nbformat": 4,
 "nbformat_minor": 5
}

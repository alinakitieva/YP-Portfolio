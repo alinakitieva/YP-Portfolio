{
 "cells": [
  {
   "cell_type": "markdown",
   "metadata": {
    "toc": true
   },
   "source": [
    "<h1>Содержание<span class=\"tocSkip\"></span></h1>\n",
    "<div class=\"toc\"><ul class=\"toc-item\"><li><span><a href=\"#Подготовка-данных\" data-toc-modified-id=\"Подготовка-данных-1\"><span class=\"toc-item-num\">1&nbsp;&nbsp;</span>Подготовка данных</a></span><ul class=\"toc-item\"><li><span><a href=\"#Импорт-библиотек\" data-toc-modified-id=\"Импорт-библиотек-1.1\"><span class=\"toc-item-num\">1.1&nbsp;&nbsp;</span>Импорт библиотек</a></span></li><li><span><a href=\"#Загрузка-данных\" data-toc-modified-id=\"Загрузка-данных-1.2\"><span class=\"toc-item-num\">1.2&nbsp;&nbsp;</span>Загрузка данных</a></span></li><li><span><a href=\"#Изучение-данных\" data-toc-modified-id=\"Изучение-данных-1.3\"><span class=\"toc-item-num\">1.3&nbsp;&nbsp;</span>Изучение данных</a></span></li><li><span><a href=\"#Проверка-на-наличие-пропусков\" data-toc-modified-id=\"Проверка-на-наличие-пропусков-1.4\"><span class=\"toc-item-num\">1.4&nbsp;&nbsp;</span>Проверка на наличие пропусков</a></span></li><li><span><a href=\"#Проверка-корректности-расчета-эффективности-обогащения\" data-toc-modified-id=\"Проверка-корректности-расчета-эффективности-обогащения-1.5\"><span class=\"toc-item-num\">1.5&nbsp;&nbsp;</span>Проверка корректности расчета эффективности обогащения</a></span></li><li><span><a href=\"#Анализ-признаков,-недоступных-в-тестовой-выборке\" data-toc-modified-id=\"Анализ-признаков,-недоступных-в-тестовой-выборке-1.6\"><span class=\"toc-item-num\">1.6&nbsp;&nbsp;</span>Анализ признаков, недоступных в тестовой выборке</a></span></li><li><span><a href=\"#Предобработка-данных\" data-toc-modified-id=\"Предобработка-данных-1.7\"><span class=\"toc-item-num\">1.7&nbsp;&nbsp;</span>Предобработка данных</a></span></li><li><span><a href=\"#Вывод\" data-toc-modified-id=\"Вывод-1.8\"><span class=\"toc-item-num\">1.8&nbsp;&nbsp;</span>Вывод</a></span></li></ul></li><li><span><a href=\"#Анализ-данных\" data-toc-modified-id=\"Анализ-данных-2\"><span class=\"toc-item-num\">2&nbsp;&nbsp;</span>Анализ данных</a></span><ul class=\"toc-item\"><li><span><a href=\"#Изучение-изменения-концентрации-металлов-на-различных-этапах\" data-toc-modified-id=\"Изучение-изменения-концентрации-металлов-на-различных-этапах-2.1\"><span class=\"toc-item-num\">2.1&nbsp;&nbsp;</span>Изучение изменения концентрации металлов на различных этапах</a></span></li><li><span><a href=\"#Сравнение-распределений-размеров-гранул-исходного-сырья\" data-toc-modified-id=\"Сравнение-распределений-размеров-гранул-исходного-сырья-2.2\"><span class=\"toc-item-num\">2.2&nbsp;&nbsp;</span>Сравнение распределений размеров гранул исходного сырья</a></span></li><li><span><a href=\"#Исследование-суммарной-концентрации-металлов-на-разных-стадиях\" data-toc-modified-id=\"Исследование-суммарной-концентрации-металлов-на-разных-стадиях-2.3\"><span class=\"toc-item-num\">2.3&nbsp;&nbsp;</span>Исследование суммарной концентрации металлов на разных стадиях</a></span></li><li><span><a href=\"#Вывод\" data-toc-modified-id=\"Вывод-2.4\"><span class=\"toc-item-num\">2.4&nbsp;&nbsp;</span>Вывод</a></span></li></ul></li><li><span><a href=\"#Модель\" data-toc-modified-id=\"Модель-3\"><span class=\"toc-item-num\">3&nbsp;&nbsp;</span>Модель</a></span><ul class=\"toc-item\"><li><span><a href=\"#Функция-для-вычисления-итоговой-sMAPE\" data-toc-modified-id=\"Функция-для-вычисления-итоговой-sMAPE-3.1\"><span class=\"toc-item-num\">3.1&nbsp;&nbsp;</span>Функция для вычисления итоговой sMAPE</a></span></li><li><span><a href=\"#Разделение-данных-на-целевые-признаки-и-признаки-для-обучения\" data-toc-modified-id=\"Разделение-данных-на-целевые-признаки-и-признаки-для-обучения-3.2\"><span class=\"toc-item-num\">3.2&nbsp;&nbsp;</span>Разделение данных на целевые признаки и признаки для обучения</a></span></li><li><span><a href=\"#Обучение-моделей\" data-toc-modified-id=\"Обучение-моделей-3.3\"><span class=\"toc-item-num\">3.3&nbsp;&nbsp;</span>Обучение моделей</a></span><ul class=\"toc-item\"><li><span><a href=\"#Линейная-регрессия\" data-toc-modified-id=\"Линейная-регрессия-3.3.1\"><span class=\"toc-item-num\">3.3.1&nbsp;&nbsp;</span>Линейная регрессия</a></span></li><li><span><a href=\"#Дерево-решений\" data-toc-modified-id=\"Дерево-решений-3.3.2\"><span class=\"toc-item-num\">3.3.2&nbsp;&nbsp;</span>Дерево решений</a></span></li><li><span><a href=\"#Случайный-лес\" data-toc-modified-id=\"Случайный-лес-3.3.3\"><span class=\"toc-item-num\">3.3.3&nbsp;&nbsp;</span>Случайный лес</a></span></li></ul></li><li><span><a href=\"#Выбираем-лучшую-модель\" data-toc-modified-id=\"Выбираем-лучшую-модель-3.4\"><span class=\"toc-item-num\">3.4&nbsp;&nbsp;</span>Выбираем лучшую модель</a></span><ul class=\"toc-item\"><li><span><a href=\"#Константная-модель\" data-toc-modified-id=\"Константная-модель-3.4.1\"><span class=\"toc-item-num\">3.4.1&nbsp;&nbsp;</span>Константная модель</a></span></li></ul></li><li><span><a href=\"#Вывод\" data-toc-modified-id=\"Вывод-3.5\"><span class=\"toc-item-num\">3.5&nbsp;&nbsp;</span>Вывод</a></span></li></ul></li><li><span><a href=\"#Общий-вывод\" data-toc-modified-id=\"Общий-вывод-4\"><span class=\"toc-item-num\">4&nbsp;&nbsp;</span>Общий вывод</a></span></li><li><span><a href=\"#Чек-лист-готовности-проекта\" data-toc-modified-id=\"Чек-лист-готовности-проекта-5\"><span class=\"toc-item-num\">5&nbsp;&nbsp;</span>Чек-лист готовности проекта</a></span></li></ul></div>"
   ]
  },
  {
   "cell_type": "markdown",
   "metadata": {},
   "source": [
    "# Восстановление золота из руды"
   ]
  },
  {
   "cell_type": "markdown",
   "metadata": {},
   "source": [
    "Подготовьте прототип модели машинного обучения для «Цифры». Компания разрабатывает решения для эффективной работы промышленных предприятий.\n",
    "\n",
    "Модель должна предсказать коэффициент восстановления золота из золотосодержащей руды. Используйте данные с параметрами добычи и очистки. \n",
    "\n",
    "Модель поможет оптимизировать производство, чтобы не запускать предприятие с убыточными характеристиками.\n",
    "\n",
    "Вам нужно:\n",
    "\n",
    "1. Подготовить данные;\n",
    "2. Провести исследовательский анализ данных;\n",
    "3. Построить и обучить модель.\n",
    "\n",
    "Чтобы выполнить проект, обращайтесь к библиотекам *pandas*, *matplotlib* и *sklearn.* Вам поможет их документация."
   ]
  },
  {
   "cell_type": "markdown",
   "metadata": {},
   "source": [
    "**Цель проекта:** построение модели для определения эффективности обогащения золотосодержащей руды на основе предоставленных данных. Задачи проекта включают подготовку данных, анализ данных, и построение модели с оценкой её качества.\n",
    "\n",
    "**Ход проекта:**\n",
    "\n",
    "1. Подготовка данных:\n",
    "- Открываем файлы и изучаем их содержимое.\n",
    "- Проверяем правильность расчета эффективности обогащения на обучающей выборке с помощью признака \"rougher.output.recovery\". Сравниваем наши расчеты с данным признаком и находим среднюю абсолютную ошибку (MAE). Делаем выводы.\n",
    "- Анализируем признаки, недоступные в тестовой выборке, и определяем их тип и назначение.\n",
    "- Проводим предобработку данных, включающую заполнение пропущенных значений, удаление лишних признаков и преобразование данных при необходимости.\n",
    "\n",
    "2. Анализ данных:\n",
    "- Изучаем изменение концентрации золота (Au), серебра (Ag) и свинца (Pb) на различных этапах процесса: в сырье, в черновом концентрате, в концентрате после первой очистки и в финальном концентрате. Делаем выводы о распределениях этих металлов.\n",
    "- Сравниваем распределения размеров гранул исходного сырья на обучающей и тестовой выборках. Если распределения значительно отличаются, это может повлиять на оценку модели.\n",
    "- Исследуем суммарную концентрацию металлов на разных стадиях процесса: в сырье, в черновом концентрате, в концентрате после первой очистки и в финальном концентрате. Анализируем выбросы и делаем выводы.\n",
    "\n",
    "3. Построение модели:\n",
    "- Написание функции для вычисления итоговой sMAPE (симметричное среднее абсолютное процентное отклонение).\n",
    "- Обучение различных моделей и оценка их качества с помощью кросс-валидации. Выбор лучшей модели и проверка её на тестовой выборке. Делаем выводы о качестве модели и её применим"
   ]
  },
  {
   "cell_type": "markdown",
   "metadata": {},
   "source": [
    "## Подготовка данных"
   ]
  },
  {
   "cell_type": "markdown",
   "metadata": {},
   "source": [
    "### Импорт библиотек"
   ]
  },
  {
   "cell_type": "code",
   "execution_count": 1,
   "metadata": {},
   "outputs": [],
   "source": [
    "import pandas as pd\n",
    "import matplotlib.pyplot as plt\n",
    "import seaborn as sns\n",
    "import numpy as np\n",
    "from scipy import stats as st\n",
    "from scipy.stats import zscore\n",
    "from sklearn.dummy import DummyRegressor\n",
    "from sklearn.linear_model import LinearRegression\n",
    "from sklearn.ensemble import RandomForestRegressor\n",
    "from sklearn.tree import DecisionTreeRegressor\n",
    "from sklearn.model_selection import GridSearchCV, cross_val_score, train_test_split\n",
    "from sklearn.metrics import make_scorer, mean_absolute_error, mean_squared_error\n",
    "from sklearn.metrics import make_scorer\n",
    "from sklearn.preprocessing import StandardScaler\n",
    "\n",
    "# import warnings\n",
    "# warnings.filterwarnings(\"ignore\")"
   ]
  },
  {
   "cell_type": "markdown",
   "metadata": {},
   "source": [
    "### Загрузка данных"
   ]
  },
  {
   "cell_type": "code",
   "execution_count": 2,
   "metadata": {},
   "outputs": [],
   "source": [
    "try:\n",
    "    train = pd.read_csv('/datasets/gold_industry_train.csv')\n",
    "    test = pd.read_csv('/datasets/gold_industry_test.csv')\n",
    "    full = pd.read_csv('/datasets/gold_industry_full.csv')\n",
    "except:\n",
    "    train = pd.read_csv('https://code.s3.yandex.net/datasets/gold_industry_train.csv')\n",
    "    test = pd.read_csv('https://code.s3.yandex.net/datasets/gold_industry_test.csv')\n",
    "    full = pd.read_csv('https://code.s3.yandex.net/datasets/gold_industry_full.csv')"
   ]
  },
  {
   "cell_type": "markdown",
   "metadata": {},
   "source": [
    "### Изучение данных"
   ]
  },
  {
   "cell_type": "code",
   "execution_count": 3,
   "metadata": {
    "scrolled": false
   },
   "outputs": [
    {
     "name": "stdout",
     "output_type": "stream",
     "text": [
      "Train data:\n"
     ]
    },
    {
     "data": {
      "text/html": [
       "<div>\n",
       "<style scoped>\n",
       "    .dataframe tbody tr th:only-of-type {\n",
       "        vertical-align: middle;\n",
       "    }\n",
       "\n",
       "    .dataframe tbody tr th {\n",
       "        vertical-align: top;\n",
       "    }\n",
       "\n",
       "    .dataframe thead th {\n",
       "        text-align: right;\n",
       "    }\n",
       "</style>\n",
       "<table border=\"1\" class=\"dataframe\">\n",
       "  <thead>\n",
       "    <tr style=\"text-align: right;\">\n",
       "      <th></th>\n",
       "      <th>date</th>\n",
       "      <th>rougher.input.feed_au</th>\n",
       "      <th>rougher.input.feed_ag</th>\n",
       "      <th>rougher.input.feed_pb</th>\n",
       "      <th>rougher.input.feed_sol</th>\n",
       "      <th>rougher.input.feed_rate</th>\n",
       "      <th>rougher.input.feed_size</th>\n",
       "      <th>rougher.input.floatbank10_sulfate</th>\n",
       "      <th>rougher.input.floatbank10_xanthate</th>\n",
       "      <th>rougher.state.floatbank10_a_air</th>\n",
       "      <th>...</th>\n",
       "      <th>secondary_cleaner.output.tail_sol</th>\n",
       "      <th>final.output.concentrate_au</th>\n",
       "      <th>final.output.concentrate_ag</th>\n",
       "      <th>final.output.concentrate_pb</th>\n",
       "      <th>final.output.concentrate_sol</th>\n",
       "      <th>final.output.recovery</th>\n",
       "      <th>final.output.tail_au</th>\n",
       "      <th>final.output.tail_ag</th>\n",
       "      <th>final.output.tail_pb</th>\n",
       "      <th>final.output.tail_sol</th>\n",
       "    </tr>\n",
       "  </thead>\n",
       "  <tbody>\n",
       "    <tr>\n",
       "      <th>0</th>\n",
       "      <td>2016-01-15 00:00:00</td>\n",
       "      <td>6.486150</td>\n",
       "      <td>6.100378</td>\n",
       "      <td>2.284912</td>\n",
       "      <td>36.808594</td>\n",
       "      <td>523.546326</td>\n",
       "      <td>55.486599</td>\n",
       "      <td>11.986616</td>\n",
       "      <td>6.007990</td>\n",
       "      <td>999.706909</td>\n",
       "      <td>...</td>\n",
       "      <td>8.764648</td>\n",
       "      <td>42.192020</td>\n",
       "      <td>6.055403</td>\n",
       "      <td>9.889648</td>\n",
       "      <td>5.507324</td>\n",
       "      <td>70.541216</td>\n",
       "      <td>2.143149</td>\n",
       "      <td>10.411962</td>\n",
       "      <td>0.895447</td>\n",
       "      <td>16.904297</td>\n",
       "    </tr>\n",
       "    <tr>\n",
       "      <th>1</th>\n",
       "      <td>2016-01-15 01:00:00</td>\n",
       "      <td>6.478583</td>\n",
       "      <td>6.161113</td>\n",
       "      <td>2.266033</td>\n",
       "      <td>35.753385</td>\n",
       "      <td>525.290581</td>\n",
       "      <td>57.278666</td>\n",
       "      <td>11.971193</td>\n",
       "      <td>6.005766</td>\n",
       "      <td>1000.286398</td>\n",
       "      <td>...</td>\n",
       "      <td>9.001494</td>\n",
       "      <td>42.701629</td>\n",
       "      <td>6.029369</td>\n",
       "      <td>9.968944</td>\n",
       "      <td>5.257781</td>\n",
       "      <td>69.266198</td>\n",
       "      <td>2.224930</td>\n",
       "      <td>10.462676</td>\n",
       "      <td>0.927452</td>\n",
       "      <td>16.634514</td>\n",
       "    </tr>\n",
       "    <tr>\n",
       "      <th>2</th>\n",
       "      <td>2016-01-15 02:00:00</td>\n",
       "      <td>6.362222</td>\n",
       "      <td>6.116455</td>\n",
       "      <td>2.159622</td>\n",
       "      <td>35.971630</td>\n",
       "      <td>530.026610</td>\n",
       "      <td>57.510649</td>\n",
       "      <td>11.920603</td>\n",
       "      <td>6.197377</td>\n",
       "      <td>999.719565</td>\n",
       "      <td>...</td>\n",
       "      <td>8.842896</td>\n",
       "      <td>42.657501</td>\n",
       "      <td>6.055926</td>\n",
       "      <td>10.213995</td>\n",
       "      <td>5.383759</td>\n",
       "      <td>68.116445</td>\n",
       "      <td>2.257889</td>\n",
       "      <td>10.507046</td>\n",
       "      <td>0.953716</td>\n",
       "      <td>16.208849</td>\n",
       "    </tr>\n",
       "    <tr>\n",
       "      <th>3</th>\n",
       "      <td>2016-01-15 03:00:00</td>\n",
       "      <td>6.118189</td>\n",
       "      <td>6.043309</td>\n",
       "      <td>2.037807</td>\n",
       "      <td>36.862241</td>\n",
       "      <td>542.590390</td>\n",
       "      <td>57.792734</td>\n",
       "      <td>11.630094</td>\n",
       "      <td>6.203177</td>\n",
       "      <td>999.814770</td>\n",
       "      <td>...</td>\n",
       "      <td>9.122857</td>\n",
       "      <td>42.689819</td>\n",
       "      <td>6.047977</td>\n",
       "      <td>9.977019</td>\n",
       "      <td>4.858634</td>\n",
       "      <td>68.347543</td>\n",
       "      <td>2.146849</td>\n",
       "      <td>10.422762</td>\n",
       "      <td>0.883763</td>\n",
       "      <td>16.532835</td>\n",
       "    </tr>\n",
       "    <tr>\n",
       "      <th>4</th>\n",
       "      <td>2016-01-15 04:00:00</td>\n",
       "      <td>5.663707</td>\n",
       "      <td>6.060915</td>\n",
       "      <td>1.786875</td>\n",
       "      <td>34.347666</td>\n",
       "      <td>540.531893</td>\n",
       "      <td>56.047189</td>\n",
       "      <td>10.957755</td>\n",
       "      <td>6.198826</td>\n",
       "      <td>999.678690</td>\n",
       "      <td>...</td>\n",
       "      <td>8.871028</td>\n",
       "      <td>42.774141</td>\n",
       "      <td>6.148599</td>\n",
       "      <td>10.142511</td>\n",
       "      <td>4.939416</td>\n",
       "      <td>66.927016</td>\n",
       "      <td>2.055292</td>\n",
       "      <td>10.360302</td>\n",
       "      <td>0.792826</td>\n",
       "      <td>16.525686</td>\n",
       "    </tr>\n",
       "  </tbody>\n",
       "</table>\n",
       "<p>5 rows × 87 columns</p>\n",
       "</div>"
      ],
      "text/plain": [
       "                  date  rougher.input.feed_au  rougher.input.feed_ag  \\\n",
       "0  2016-01-15 00:00:00               6.486150               6.100378   \n",
       "1  2016-01-15 01:00:00               6.478583               6.161113   \n",
       "2  2016-01-15 02:00:00               6.362222               6.116455   \n",
       "3  2016-01-15 03:00:00               6.118189               6.043309   \n",
       "4  2016-01-15 04:00:00               5.663707               6.060915   \n",
       "\n",
       "   rougher.input.feed_pb  rougher.input.feed_sol  rougher.input.feed_rate  \\\n",
       "0               2.284912               36.808594               523.546326   \n",
       "1               2.266033               35.753385               525.290581   \n",
       "2               2.159622               35.971630               530.026610   \n",
       "3               2.037807               36.862241               542.590390   \n",
       "4               1.786875               34.347666               540.531893   \n",
       "\n",
       "   rougher.input.feed_size  rougher.input.floatbank10_sulfate  \\\n",
       "0                55.486599                          11.986616   \n",
       "1                57.278666                          11.971193   \n",
       "2                57.510649                          11.920603   \n",
       "3                57.792734                          11.630094   \n",
       "4                56.047189                          10.957755   \n",
       "\n",
       "   rougher.input.floatbank10_xanthate  rougher.state.floatbank10_a_air  ...  \\\n",
       "0                            6.007990                       999.706909  ...   \n",
       "1                            6.005766                      1000.286398  ...   \n",
       "2                            6.197377                       999.719565  ...   \n",
       "3                            6.203177                       999.814770  ...   \n",
       "4                            6.198826                       999.678690  ...   \n",
       "\n",
       "   secondary_cleaner.output.tail_sol  final.output.concentrate_au  \\\n",
       "0                           8.764648                    42.192020   \n",
       "1                           9.001494                    42.701629   \n",
       "2                           8.842896                    42.657501   \n",
       "3                           9.122857                    42.689819   \n",
       "4                           8.871028                    42.774141   \n",
       "\n",
       "   final.output.concentrate_ag  final.output.concentrate_pb  \\\n",
       "0                     6.055403                     9.889648   \n",
       "1                     6.029369                     9.968944   \n",
       "2                     6.055926                    10.213995   \n",
       "3                     6.047977                     9.977019   \n",
       "4                     6.148599                    10.142511   \n",
       "\n",
       "   final.output.concentrate_sol  final.output.recovery  final.output.tail_au  \\\n",
       "0                      5.507324              70.541216              2.143149   \n",
       "1                      5.257781              69.266198              2.224930   \n",
       "2                      5.383759              68.116445              2.257889   \n",
       "3                      4.858634              68.347543              2.146849   \n",
       "4                      4.939416              66.927016              2.055292   \n",
       "\n",
       "   final.output.tail_ag  final.output.tail_pb  final.output.tail_sol  \n",
       "0             10.411962              0.895447              16.904297  \n",
       "1             10.462676              0.927452              16.634514  \n",
       "2             10.507046              0.953716              16.208849  \n",
       "3             10.422762              0.883763              16.532835  \n",
       "4             10.360302              0.792826              16.525686  \n",
       "\n",
       "[5 rows x 87 columns]"
      ]
     },
     "execution_count": 3,
     "metadata": {},
     "output_type": "execute_result"
    }
   ],
   "source": [
    "print(\"Train data:\")\n",
    "train.head()"
   ]
  },
  {
   "cell_type": "code",
   "execution_count": 4,
   "metadata": {
    "scrolled": true
   },
   "outputs": [
    {
     "name": "stdout",
     "output_type": "stream",
     "text": [
      "<class 'pandas.core.frame.DataFrame'>\n",
      "RangeIndex: 14579 entries, 0 to 14578\n",
      "Data columns (total 87 columns):\n",
      " #   Column                                              Non-Null Count  Dtype  \n",
      "---  ------                                              --------------  -----  \n",
      " 0   date                                                14579 non-null  object \n",
      " 1   rougher.input.feed_au                               14579 non-null  float64\n",
      " 2   rougher.input.feed_ag                               14579 non-null  float64\n",
      " 3   rougher.input.feed_pb                               14507 non-null  float64\n",
      " 4   rougher.input.feed_sol                              14502 non-null  float64\n",
      " 5   rougher.input.feed_rate                             14572 non-null  float64\n",
      " 6   rougher.input.feed_size                             14478 non-null  float64\n",
      " 7   rougher.input.floatbank10_sulfate                   14548 non-null  float64\n",
      " 8   rougher.input.floatbank10_xanthate                  14572 non-null  float64\n",
      " 9   rougher.state.floatbank10_a_air                     14579 non-null  float64\n",
      " 10  rougher.state.floatbank10_a_level                   14579 non-null  float64\n",
      " 11  rougher.state.floatbank10_b_air                     14579 non-null  float64\n",
      " 12  rougher.state.floatbank10_b_level                   14579 non-null  float64\n",
      " 13  rougher.state.floatbank10_c_air                     14579 non-null  float64\n",
      " 14  rougher.state.floatbank10_c_level                   14579 non-null  float64\n",
      " 15  rougher.state.floatbank10_d_air                     14579 non-null  float64\n",
      " 16  rougher.state.floatbank10_d_level                   14579 non-null  float64\n",
      " 17  rougher.state.floatbank10_e_air                     14150 non-null  float64\n",
      " 18  rougher.state.floatbank10_e_level                   14579 non-null  float64\n",
      " 19  rougher.state.floatbank10_f_air                     14579 non-null  float64\n",
      " 20  rougher.state.floatbank10_f_level                   14579 non-null  float64\n",
      " 21  rougher.input.floatbank11_sulfate                   14543 non-null  float64\n",
      " 22  rougher.input.floatbank11_xanthate                  14172 non-null  float64\n",
      " 23  rougher.calculation.sulfate_to_au_concentrate       14578 non-null  float64\n",
      " 24  rougher.calculation.floatbank10_sulfate_to_au_feed  14578 non-null  float64\n",
      " 25  rougher.calculation.floatbank11_sulfate_to_au_feed  14578 non-null  float64\n",
      " 26  rougher.calculation.au_pb_ratio                     14579 non-null  float64\n",
      " 27  rougher.output.concentrate_au                       14579 non-null  float64\n",
      " 28  rougher.output.concentrate_ag                       14579 non-null  float64\n",
      " 29  rougher.output.concentrate_pb                       14579 non-null  float64\n",
      " 30  rougher.output.concentrate_sol                      14561 non-null  float64\n",
      " 31  rougher.output.recovery                             14579 non-null  float64\n",
      " 32  rougher.output.tail_au                              14579 non-null  float64\n",
      " 33  rougher.output.tail_ag                              14578 non-null  float64\n",
      " 34  rougher.output.tail_pb                              14579 non-null  float64\n",
      " 35  rougher.output.tail_sol                             14579 non-null  float64\n",
      " 36  primary_cleaner.input.sulfate                       14556 non-null  float64\n",
      " 37  primary_cleaner.input.depressant                    14551 non-null  float64\n",
      " 38  primary_cleaner.input.feed_size                     14579 non-null  float64\n",
      " 39  primary_cleaner.input.xanthate                      14518 non-null  float64\n",
      " 40  primary_cleaner.state.floatbank8_a_air              14576 non-null  float64\n",
      " 41  primary_cleaner.state.floatbank8_a_level            14579 non-null  float64\n",
      " 42  primary_cleaner.state.floatbank8_b_air              14576 non-null  float64\n",
      " 43  primary_cleaner.state.floatbank8_b_level            14579 non-null  float64\n",
      " 44  primary_cleaner.state.floatbank8_c_air              14579 non-null  float64\n",
      " 45  primary_cleaner.state.floatbank8_c_level            14579 non-null  float64\n",
      " 46  primary_cleaner.state.floatbank8_d_air              14578 non-null  float64\n",
      " 47  primary_cleaner.state.floatbank8_d_level            14579 non-null  float64\n",
      " 48  primary_cleaner.output.concentrate_au               14579 non-null  float64\n",
      " 49  primary_cleaner.output.concentrate_ag               14579 non-null  float64\n",
      " 50  primary_cleaner.output.concentrate_pb               14491 non-null  float64\n",
      " 51  primary_cleaner.output.concentrate_sol              14314 non-null  float64\n",
      " 52  primary_cleaner.output.tail_au                      14579 non-null  float64\n",
      " 53  primary_cleaner.output.tail_ag                      14575 non-null  float64\n",
      " 54  primary_cleaner.output.tail_pb                      14573 non-null  float64\n",
      " 55  primary_cleaner.output.tail_sol                     14534 non-null  float64\n",
      " 56  secondary_cleaner.state.floatbank2_a_air            14485 non-null  float64\n",
      " 57  secondary_cleaner.state.floatbank2_a_level          14579 non-null  float64\n",
      " 58  secondary_cleaner.state.floatbank2_b_air            14557 non-null  float64\n",
      " 59  secondary_cleaner.state.floatbank2_b_level          14579 non-null  float64\n",
      " 60  secondary_cleaner.state.floatbank3_a_air            14567 non-null  float64\n",
      " 61  secondary_cleaner.state.floatbank3_a_level          14579 non-null  float64\n",
      " 62  secondary_cleaner.state.floatbank3_b_air            14579 non-null  float64\n",
      " 63  secondary_cleaner.state.floatbank3_b_level          14579 non-null  float64\n",
      " 64  secondary_cleaner.state.floatbank4_a_air            14574 non-null  float64\n",
      " 65  secondary_cleaner.state.floatbank4_a_level          14579 non-null  float64\n",
      " 66  secondary_cleaner.state.floatbank4_b_air            14579 non-null  float64\n",
      " 67  secondary_cleaner.state.floatbank4_b_level          14579 non-null  float64\n",
      " 68  secondary_cleaner.state.floatbank5_a_air            14579 non-null  float64\n",
      " 69  secondary_cleaner.state.floatbank5_a_level          14579 non-null  float64\n",
      " 70  secondary_cleaner.state.floatbank5_b_air            14579 non-null  float64\n",
      " 71  secondary_cleaner.state.floatbank5_b_level          14579 non-null  float64\n",
      " 72  secondary_cleaner.state.floatbank6_a_air            14578 non-null  float64\n",
      " 73  secondary_cleaner.state.floatbank6_a_level          14579 non-null  float64\n",
      " 74  secondary_cleaner.output.tail_au                    14579 non-null  float64\n",
      " 75  secondary_cleaner.output.tail_ag                    14578 non-null  float64\n",
      " 76  secondary_cleaner.output.tail_pb                    14575 non-null  float64\n",
      " 77  secondary_cleaner.output.tail_sol                   13659 non-null  float64\n",
      " 78  final.output.concentrate_au                         14579 non-null  float64\n",
      " 79  final.output.concentrate_ag                         14578 non-null  float64\n",
      " 80  final.output.concentrate_pb                         14578 non-null  float64\n",
      " 81  final.output.concentrate_sol                        14387 non-null  float64\n",
      " 82  final.output.recovery                               14579 non-null  float64\n",
      " 83  final.output.tail_au                                14579 non-null  float64\n",
      " 84  final.output.tail_ag                                14578 non-null  float64\n",
      " 85  final.output.tail_pb                                14504 non-null  float64\n",
      " 86  final.output.tail_sol                               14574 non-null  float64\n",
      "dtypes: float64(86), object(1)\n",
      "memory usage: 9.7+ MB\n"
     ]
    }
   ],
   "source": [
    "train.info()"
   ]
  },
  {
   "cell_type": "code",
   "execution_count": 5,
   "metadata": {},
   "outputs": [
    {
     "name": "stdout",
     "output_type": "stream",
     "text": [
      "\n",
      "Test data:\n"
     ]
    },
    {
     "data": {
      "text/html": [
       "<div>\n",
       "<style scoped>\n",
       "    .dataframe tbody tr th:only-of-type {\n",
       "        vertical-align: middle;\n",
       "    }\n",
       "\n",
       "    .dataframe tbody tr th {\n",
       "        vertical-align: top;\n",
       "    }\n",
       "\n",
       "    .dataframe thead th {\n",
       "        text-align: right;\n",
       "    }\n",
       "</style>\n",
       "<table border=\"1\" class=\"dataframe\">\n",
       "  <thead>\n",
       "    <tr style=\"text-align: right;\">\n",
       "      <th></th>\n",
       "      <th>date</th>\n",
       "      <th>rougher.input.feed_au</th>\n",
       "      <th>rougher.input.feed_ag</th>\n",
       "      <th>rougher.input.feed_pb</th>\n",
       "      <th>rougher.input.feed_sol</th>\n",
       "      <th>rougher.input.feed_rate</th>\n",
       "      <th>rougher.input.feed_size</th>\n",
       "      <th>rougher.input.floatbank10_sulfate</th>\n",
       "      <th>rougher.input.floatbank10_xanthate</th>\n",
       "      <th>rougher.state.floatbank10_a_air</th>\n",
       "      <th>...</th>\n",
       "      <th>secondary_cleaner.state.floatbank4_a_air</th>\n",
       "      <th>secondary_cleaner.state.floatbank4_a_level</th>\n",
       "      <th>secondary_cleaner.state.floatbank4_b_air</th>\n",
       "      <th>secondary_cleaner.state.floatbank4_b_level</th>\n",
       "      <th>secondary_cleaner.state.floatbank5_a_air</th>\n",
       "      <th>secondary_cleaner.state.floatbank5_a_level</th>\n",
       "      <th>secondary_cleaner.state.floatbank5_b_air</th>\n",
       "      <th>secondary_cleaner.state.floatbank5_b_level</th>\n",
       "      <th>secondary_cleaner.state.floatbank6_a_air</th>\n",
       "      <th>secondary_cleaner.state.floatbank6_a_level</th>\n",
       "    </tr>\n",
       "  </thead>\n",
       "  <tbody>\n",
       "    <tr>\n",
       "      <th>0</th>\n",
       "      <td>2017-12-09 14:59:59</td>\n",
       "      <td>4.365491</td>\n",
       "      <td>6.158718</td>\n",
       "      <td>3.875727</td>\n",
       "      <td>39.135119</td>\n",
       "      <td>555.820208</td>\n",
       "      <td>94.544358</td>\n",
       "      <td>6.146982</td>\n",
       "      <td>9.308612</td>\n",
       "      <td>1196.238112</td>\n",
       "      <td>...</td>\n",
       "      <td>23.018622</td>\n",
       "      <td>-500.492702</td>\n",
       "      <td>20.020205</td>\n",
       "      <td>-500.220296</td>\n",
       "      <td>17.963512</td>\n",
       "      <td>-499.939490</td>\n",
       "      <td>12.990306</td>\n",
       "      <td>-500.080993</td>\n",
       "      <td>19.990336</td>\n",
       "      <td>-499.191575</td>\n",
       "    </tr>\n",
       "    <tr>\n",
       "      <th>1</th>\n",
       "      <td>2017-12-09 15:59:59</td>\n",
       "      <td>4.362781</td>\n",
       "      <td>6.048130</td>\n",
       "      <td>3.902537</td>\n",
       "      <td>39.713906</td>\n",
       "      <td>544.731687</td>\n",
       "      <td>123.742430</td>\n",
       "      <td>6.210119</td>\n",
       "      <td>9.297709</td>\n",
       "      <td>1201.904177</td>\n",
       "      <td>...</td>\n",
       "      <td>23.024963</td>\n",
       "      <td>-501.153409</td>\n",
       "      <td>20.054122</td>\n",
       "      <td>-500.314711</td>\n",
       "      <td>17.979515</td>\n",
       "      <td>-499.272871</td>\n",
       "      <td>12.992404</td>\n",
       "      <td>-499.976268</td>\n",
       "      <td>20.013986</td>\n",
       "      <td>-500.625471</td>\n",
       "    </tr>\n",
       "    <tr>\n",
       "      <th>2</th>\n",
       "      <td>2017-12-09 16:59:59</td>\n",
       "      <td>5.081681</td>\n",
       "      <td>6.082745</td>\n",
       "      <td>4.564078</td>\n",
       "      <td>37.208683</td>\n",
       "      <td>558.155110</td>\n",
       "      <td>82.610855</td>\n",
       "      <td>7.363824</td>\n",
       "      <td>9.003562</td>\n",
       "      <td>1200.826926</td>\n",
       "      <td>...</td>\n",
       "      <td>22.993827</td>\n",
       "      <td>-501.559663</td>\n",
       "      <td>20.029144</td>\n",
       "      <td>-500.000662</td>\n",
       "      <td>18.012723</td>\n",
       "      <td>-500.024764</td>\n",
       "      <td>13.016445</td>\n",
       "      <td>-500.058432</td>\n",
       "      <td>19.973767</td>\n",
       "      <td>-501.394155</td>\n",
       "    </tr>\n",
       "    <tr>\n",
       "      <th>3</th>\n",
       "      <td>2017-12-09 17:59:59</td>\n",
       "      <td>5.145949</td>\n",
       "      <td>6.084374</td>\n",
       "      <td>4.768124</td>\n",
       "      <td>36.808874</td>\n",
       "      <td>539.713765</td>\n",
       "      <td>77.984784</td>\n",
       "      <td>6.927072</td>\n",
       "      <td>8.955597</td>\n",
       "      <td>1199.292489</td>\n",
       "      <td>...</td>\n",
       "      <td>23.032807</td>\n",
       "      <td>-501.287889</td>\n",
       "      <td>19.977466</td>\n",
       "      <td>-500.159903</td>\n",
       "      <td>17.980463</td>\n",
       "      <td>-500.504602</td>\n",
       "      <td>12.949071</td>\n",
       "      <td>-500.009937</td>\n",
       "      <td>20.010332</td>\n",
       "      <td>-508.337973</td>\n",
       "    </tr>\n",
       "    <tr>\n",
       "      <th>4</th>\n",
       "      <td>2017-12-09 18:59:59</td>\n",
       "      <td>5.735249</td>\n",
       "      <td>6.165220</td>\n",
       "      <td>4.512346</td>\n",
       "      <td>37.810642</td>\n",
       "      <td>558.713584</td>\n",
       "      <td>86.434874</td>\n",
       "      <td>7.823471</td>\n",
       "      <td>7.490356</td>\n",
       "      <td>1198.005449</td>\n",
       "      <td>...</td>\n",
       "      <td>23.001911</td>\n",
       "      <td>-499.947838</td>\n",
       "      <td>20.023735</td>\n",
       "      <td>-499.713680</td>\n",
       "      <td>17.990955</td>\n",
       "      <td>-500.334769</td>\n",
       "      <td>13.007523</td>\n",
       "      <td>-499.968459</td>\n",
       "      <td>19.995999</td>\n",
       "      <td>-499.788805</td>\n",
       "    </tr>\n",
       "  </tbody>\n",
       "</table>\n",
       "<p>5 rows × 53 columns</p>\n",
       "</div>"
      ],
      "text/plain": [
       "                  date  rougher.input.feed_au  rougher.input.feed_ag  \\\n",
       "0  2017-12-09 14:59:59               4.365491               6.158718   \n",
       "1  2017-12-09 15:59:59               4.362781               6.048130   \n",
       "2  2017-12-09 16:59:59               5.081681               6.082745   \n",
       "3  2017-12-09 17:59:59               5.145949               6.084374   \n",
       "4  2017-12-09 18:59:59               5.735249               6.165220   \n",
       "\n",
       "   rougher.input.feed_pb  rougher.input.feed_sol  rougher.input.feed_rate  \\\n",
       "0               3.875727               39.135119               555.820208   \n",
       "1               3.902537               39.713906               544.731687   \n",
       "2               4.564078               37.208683               558.155110   \n",
       "3               4.768124               36.808874               539.713765   \n",
       "4               4.512346               37.810642               558.713584   \n",
       "\n",
       "   rougher.input.feed_size  rougher.input.floatbank10_sulfate  \\\n",
       "0                94.544358                           6.146982   \n",
       "1               123.742430                           6.210119   \n",
       "2                82.610855                           7.363824   \n",
       "3                77.984784                           6.927072   \n",
       "4                86.434874                           7.823471   \n",
       "\n",
       "   rougher.input.floatbank10_xanthate  rougher.state.floatbank10_a_air  ...  \\\n",
       "0                            9.308612                      1196.238112  ...   \n",
       "1                            9.297709                      1201.904177  ...   \n",
       "2                            9.003562                      1200.826926  ...   \n",
       "3                            8.955597                      1199.292489  ...   \n",
       "4                            7.490356                      1198.005449  ...   \n",
       "\n",
       "   secondary_cleaner.state.floatbank4_a_air  \\\n",
       "0                                 23.018622   \n",
       "1                                 23.024963   \n",
       "2                                 22.993827   \n",
       "3                                 23.032807   \n",
       "4                                 23.001911   \n",
       "\n",
       "   secondary_cleaner.state.floatbank4_a_level  \\\n",
       "0                                 -500.492702   \n",
       "1                                 -501.153409   \n",
       "2                                 -501.559663   \n",
       "3                                 -501.287889   \n",
       "4                                 -499.947838   \n",
       "\n",
       "   secondary_cleaner.state.floatbank4_b_air  \\\n",
       "0                                 20.020205   \n",
       "1                                 20.054122   \n",
       "2                                 20.029144   \n",
       "3                                 19.977466   \n",
       "4                                 20.023735   \n",
       "\n",
       "   secondary_cleaner.state.floatbank4_b_level  \\\n",
       "0                                 -500.220296   \n",
       "1                                 -500.314711   \n",
       "2                                 -500.000662   \n",
       "3                                 -500.159903   \n",
       "4                                 -499.713680   \n",
       "\n",
       "   secondary_cleaner.state.floatbank5_a_air  \\\n",
       "0                                 17.963512   \n",
       "1                                 17.979515   \n",
       "2                                 18.012723   \n",
       "3                                 17.980463   \n",
       "4                                 17.990955   \n",
       "\n",
       "   secondary_cleaner.state.floatbank5_a_level  \\\n",
       "0                                 -499.939490   \n",
       "1                                 -499.272871   \n",
       "2                                 -500.024764   \n",
       "3                                 -500.504602   \n",
       "4                                 -500.334769   \n",
       "\n",
       "   secondary_cleaner.state.floatbank5_b_air  \\\n",
       "0                                 12.990306   \n",
       "1                                 12.992404   \n",
       "2                                 13.016445   \n",
       "3                                 12.949071   \n",
       "4                                 13.007523   \n",
       "\n",
       "   secondary_cleaner.state.floatbank5_b_level  \\\n",
       "0                                 -500.080993   \n",
       "1                                 -499.976268   \n",
       "2                                 -500.058432   \n",
       "3                                 -500.009937   \n",
       "4                                 -499.968459   \n",
       "\n",
       "   secondary_cleaner.state.floatbank6_a_air  \\\n",
       "0                                 19.990336   \n",
       "1                                 20.013986   \n",
       "2                                 19.973767   \n",
       "3                                 20.010332   \n",
       "4                                 19.995999   \n",
       "\n",
       "   secondary_cleaner.state.floatbank6_a_level  \n",
       "0                                 -499.191575  \n",
       "1                                 -500.625471  \n",
       "2                                 -501.394155  \n",
       "3                                 -508.337973  \n",
       "4                                 -499.788805  \n",
       "\n",
       "[5 rows x 53 columns]"
      ]
     },
     "execution_count": 5,
     "metadata": {},
     "output_type": "execute_result"
    }
   ],
   "source": [
    "print(\"\\nTest data:\")\n",
    "test.head()"
   ]
  },
  {
   "cell_type": "code",
   "execution_count": 6,
   "metadata": {
    "scrolled": true
   },
   "outputs": [
    {
     "name": "stdout",
     "output_type": "stream",
     "text": [
      "<class 'pandas.core.frame.DataFrame'>\n",
      "RangeIndex: 4860 entries, 0 to 4859\n",
      "Data columns (total 53 columns):\n",
      " #   Column                                      Non-Null Count  Dtype  \n",
      "---  ------                                      --------------  -----  \n",
      " 0   date                                        4860 non-null   object \n",
      " 1   rougher.input.feed_au                       4860 non-null   float64\n",
      " 2   rougher.input.feed_ag                       4860 non-null   float64\n",
      " 3   rougher.input.feed_pb                       4832 non-null   float64\n",
      " 4   rougher.input.feed_sol                      4838 non-null   float64\n",
      " 5   rougher.input.feed_rate                     4856 non-null   float64\n",
      " 6   rougher.input.feed_size                     4816 non-null   float64\n",
      " 7   rougher.input.floatbank10_sulfate           4857 non-null   float64\n",
      " 8   rougher.input.floatbank10_xanthate          4859 non-null   float64\n",
      " 9   rougher.state.floatbank10_a_air             4859 non-null   float64\n",
      " 10  rougher.state.floatbank10_a_level           4859 non-null   float64\n",
      " 11  rougher.state.floatbank10_b_air             4859 non-null   float64\n",
      " 12  rougher.state.floatbank10_b_level           4859 non-null   float64\n",
      " 13  rougher.state.floatbank10_c_air             4859 non-null   float64\n",
      " 14  rougher.state.floatbank10_c_level           4859 non-null   float64\n",
      " 15  rougher.state.floatbank10_d_air             4860 non-null   float64\n",
      " 16  rougher.state.floatbank10_d_level           4860 non-null   float64\n",
      " 17  rougher.state.floatbank10_e_air             4853 non-null   float64\n",
      " 18  rougher.state.floatbank10_e_level           4860 non-null   float64\n",
      " 19  rougher.state.floatbank10_f_air             4860 non-null   float64\n",
      " 20  rougher.state.floatbank10_f_level           4860 non-null   float64\n",
      " 21  rougher.input.floatbank11_sulfate           4852 non-null   float64\n",
      " 22  rougher.input.floatbank11_xanthate          4814 non-null   float64\n",
      " 23  primary_cleaner.input.sulfate               4859 non-null   float64\n",
      " 24  primary_cleaner.input.depressant            4851 non-null   float64\n",
      " 25  primary_cleaner.input.feed_size             4860 non-null   float64\n",
      " 26  primary_cleaner.input.xanthate              4817 non-null   float64\n",
      " 27  primary_cleaner.state.floatbank8_a_air      4859 non-null   float64\n",
      " 28  primary_cleaner.state.floatbank8_a_level    4859 non-null   float64\n",
      " 29  primary_cleaner.state.floatbank8_b_air      4859 non-null   float64\n",
      " 30  primary_cleaner.state.floatbank8_b_level    4859 non-null   float64\n",
      " 31  primary_cleaner.state.floatbank8_c_air      4858 non-null   float64\n",
      " 32  primary_cleaner.state.floatbank8_c_level    4859 non-null   float64\n",
      " 33  primary_cleaner.state.floatbank8_d_air      4858 non-null   float64\n",
      " 34  primary_cleaner.state.floatbank8_d_level    4859 non-null   float64\n",
      " 35  secondary_cleaner.state.floatbank2_a_air    4734 non-null   float64\n",
      " 36  secondary_cleaner.state.floatbank2_a_level  4859 non-null   float64\n",
      " 37  secondary_cleaner.state.floatbank2_b_air    4859 non-null   float64\n",
      " 38  secondary_cleaner.state.floatbank2_b_level  4859 non-null   float64\n",
      " 39  secondary_cleaner.state.floatbank3_a_air    4859 non-null   float64\n",
      " 40  secondary_cleaner.state.floatbank3_a_level  4859 non-null   float64\n",
      " 41  secondary_cleaner.state.floatbank3_b_air    4859 non-null   float64\n",
      " 42  secondary_cleaner.state.floatbank3_b_level  4859 non-null   float64\n",
      " 43  secondary_cleaner.state.floatbank4_a_air    4859 non-null   float64\n",
      " 44  secondary_cleaner.state.floatbank4_a_level  4859 non-null   float64\n",
      " 45  secondary_cleaner.state.floatbank4_b_air    4859 non-null   float64\n",
      " 46  secondary_cleaner.state.floatbank4_b_level  4859 non-null   float64\n",
      " 47  secondary_cleaner.state.floatbank5_a_air    4859 non-null   float64\n",
      " 48  secondary_cleaner.state.floatbank5_a_level  4859 non-null   float64\n",
      " 49  secondary_cleaner.state.floatbank5_b_air    4859 non-null   float64\n",
      " 50  secondary_cleaner.state.floatbank5_b_level  4859 non-null   float64\n",
      " 51  secondary_cleaner.state.floatbank6_a_air    4859 non-null   float64\n",
      " 52  secondary_cleaner.state.floatbank6_a_level  4859 non-null   float64\n",
      "dtypes: float64(52), object(1)\n",
      "memory usage: 2.0+ MB\n",
      "None\n"
     ]
    }
   ],
   "source": [
    "print(test.info())"
   ]
  },
  {
   "cell_type": "code",
   "execution_count": 7,
   "metadata": {},
   "outputs": [
    {
     "name": "stdout",
     "output_type": "stream",
     "text": [
      "\n",
      "Full data:\n"
     ]
    },
    {
     "data": {
      "text/html": [
       "<div>\n",
       "<style scoped>\n",
       "    .dataframe tbody tr th:only-of-type {\n",
       "        vertical-align: middle;\n",
       "    }\n",
       "\n",
       "    .dataframe tbody tr th {\n",
       "        vertical-align: top;\n",
       "    }\n",
       "\n",
       "    .dataframe thead th {\n",
       "        text-align: right;\n",
       "    }\n",
       "</style>\n",
       "<table border=\"1\" class=\"dataframe\">\n",
       "  <thead>\n",
       "    <tr style=\"text-align: right;\">\n",
       "      <th></th>\n",
       "      <th>date</th>\n",
       "      <th>rougher.input.feed_au</th>\n",
       "      <th>rougher.input.feed_ag</th>\n",
       "      <th>rougher.input.feed_pb</th>\n",
       "      <th>rougher.input.feed_sol</th>\n",
       "      <th>rougher.input.feed_rate</th>\n",
       "      <th>rougher.input.feed_size</th>\n",
       "      <th>rougher.input.floatbank10_sulfate</th>\n",
       "      <th>rougher.input.floatbank10_xanthate</th>\n",
       "      <th>rougher.state.floatbank10_a_air</th>\n",
       "      <th>...</th>\n",
       "      <th>secondary_cleaner.output.tail_sol</th>\n",
       "      <th>final.output.concentrate_au</th>\n",
       "      <th>final.output.concentrate_ag</th>\n",
       "      <th>final.output.concentrate_pb</th>\n",
       "      <th>final.output.concentrate_sol</th>\n",
       "      <th>final.output.recovery</th>\n",
       "      <th>final.output.tail_au</th>\n",
       "      <th>final.output.tail_ag</th>\n",
       "      <th>final.output.tail_pb</th>\n",
       "      <th>final.output.tail_sol</th>\n",
       "    </tr>\n",
       "  </thead>\n",
       "  <tbody>\n",
       "    <tr>\n",
       "      <th>0</th>\n",
       "      <td>2016-01-15 00:00:00</td>\n",
       "      <td>6.486150</td>\n",
       "      <td>6.100378</td>\n",
       "      <td>2.284912</td>\n",
       "      <td>36.808594</td>\n",
       "      <td>523.546326</td>\n",
       "      <td>55.486599</td>\n",
       "      <td>11.986616</td>\n",
       "      <td>6.007990</td>\n",
       "      <td>999.706909</td>\n",
       "      <td>...</td>\n",
       "      <td>8.764648</td>\n",
       "      <td>42.192020</td>\n",
       "      <td>6.055403</td>\n",
       "      <td>9.889648</td>\n",
       "      <td>5.507324</td>\n",
       "      <td>70.541216</td>\n",
       "      <td>2.143149</td>\n",
       "      <td>10.411962</td>\n",
       "      <td>0.895447</td>\n",
       "      <td>16.904297</td>\n",
       "    </tr>\n",
       "    <tr>\n",
       "      <th>1</th>\n",
       "      <td>2016-01-15 01:00:00</td>\n",
       "      <td>6.478583</td>\n",
       "      <td>6.161113</td>\n",
       "      <td>2.266033</td>\n",
       "      <td>35.753385</td>\n",
       "      <td>525.290581</td>\n",
       "      <td>57.278666</td>\n",
       "      <td>11.971193</td>\n",
       "      <td>6.005766</td>\n",
       "      <td>1000.286398</td>\n",
       "      <td>...</td>\n",
       "      <td>9.001494</td>\n",
       "      <td>42.701629</td>\n",
       "      <td>6.029369</td>\n",
       "      <td>9.968944</td>\n",
       "      <td>5.257781</td>\n",
       "      <td>69.266198</td>\n",
       "      <td>2.224930</td>\n",
       "      <td>10.462676</td>\n",
       "      <td>0.927452</td>\n",
       "      <td>16.634514</td>\n",
       "    </tr>\n",
       "    <tr>\n",
       "      <th>2</th>\n",
       "      <td>2016-01-15 02:00:00</td>\n",
       "      <td>6.362222</td>\n",
       "      <td>6.116455</td>\n",
       "      <td>2.159622</td>\n",
       "      <td>35.971630</td>\n",
       "      <td>530.026610</td>\n",
       "      <td>57.510649</td>\n",
       "      <td>11.920603</td>\n",
       "      <td>6.197377</td>\n",
       "      <td>999.719565</td>\n",
       "      <td>...</td>\n",
       "      <td>8.842896</td>\n",
       "      <td>42.657501</td>\n",
       "      <td>6.055926</td>\n",
       "      <td>10.213995</td>\n",
       "      <td>5.383759</td>\n",
       "      <td>68.116445</td>\n",
       "      <td>2.257889</td>\n",
       "      <td>10.507046</td>\n",
       "      <td>0.953716</td>\n",
       "      <td>16.208849</td>\n",
       "    </tr>\n",
       "    <tr>\n",
       "      <th>3</th>\n",
       "      <td>2016-01-15 03:00:00</td>\n",
       "      <td>6.118189</td>\n",
       "      <td>6.043309</td>\n",
       "      <td>2.037807</td>\n",
       "      <td>36.862241</td>\n",
       "      <td>542.590390</td>\n",
       "      <td>57.792734</td>\n",
       "      <td>11.630094</td>\n",
       "      <td>6.203177</td>\n",
       "      <td>999.814770</td>\n",
       "      <td>...</td>\n",
       "      <td>9.122857</td>\n",
       "      <td>42.689819</td>\n",
       "      <td>6.047977</td>\n",
       "      <td>9.977019</td>\n",
       "      <td>4.858634</td>\n",
       "      <td>68.347543</td>\n",
       "      <td>2.146849</td>\n",
       "      <td>10.422762</td>\n",
       "      <td>0.883763</td>\n",
       "      <td>16.532835</td>\n",
       "    </tr>\n",
       "    <tr>\n",
       "      <th>4</th>\n",
       "      <td>2016-01-15 04:00:00</td>\n",
       "      <td>5.663707</td>\n",
       "      <td>6.060915</td>\n",
       "      <td>1.786875</td>\n",
       "      <td>34.347666</td>\n",
       "      <td>540.531893</td>\n",
       "      <td>56.047189</td>\n",
       "      <td>10.957755</td>\n",
       "      <td>6.198826</td>\n",
       "      <td>999.678690</td>\n",
       "      <td>...</td>\n",
       "      <td>8.871028</td>\n",
       "      <td>42.774141</td>\n",
       "      <td>6.148599</td>\n",
       "      <td>10.142511</td>\n",
       "      <td>4.939416</td>\n",
       "      <td>66.927016</td>\n",
       "      <td>2.055292</td>\n",
       "      <td>10.360302</td>\n",
       "      <td>0.792826</td>\n",
       "      <td>16.525686</td>\n",
       "    </tr>\n",
       "  </tbody>\n",
       "</table>\n",
       "<p>5 rows × 87 columns</p>\n",
       "</div>"
      ],
      "text/plain": [
       "                  date  rougher.input.feed_au  rougher.input.feed_ag  \\\n",
       "0  2016-01-15 00:00:00               6.486150               6.100378   \n",
       "1  2016-01-15 01:00:00               6.478583               6.161113   \n",
       "2  2016-01-15 02:00:00               6.362222               6.116455   \n",
       "3  2016-01-15 03:00:00               6.118189               6.043309   \n",
       "4  2016-01-15 04:00:00               5.663707               6.060915   \n",
       "\n",
       "   rougher.input.feed_pb  rougher.input.feed_sol  rougher.input.feed_rate  \\\n",
       "0               2.284912               36.808594               523.546326   \n",
       "1               2.266033               35.753385               525.290581   \n",
       "2               2.159622               35.971630               530.026610   \n",
       "3               2.037807               36.862241               542.590390   \n",
       "4               1.786875               34.347666               540.531893   \n",
       "\n",
       "   rougher.input.feed_size  rougher.input.floatbank10_sulfate  \\\n",
       "0                55.486599                          11.986616   \n",
       "1                57.278666                          11.971193   \n",
       "2                57.510649                          11.920603   \n",
       "3                57.792734                          11.630094   \n",
       "4                56.047189                          10.957755   \n",
       "\n",
       "   rougher.input.floatbank10_xanthate  rougher.state.floatbank10_a_air  ...  \\\n",
       "0                            6.007990                       999.706909  ...   \n",
       "1                            6.005766                      1000.286398  ...   \n",
       "2                            6.197377                       999.719565  ...   \n",
       "3                            6.203177                       999.814770  ...   \n",
       "4                            6.198826                       999.678690  ...   \n",
       "\n",
       "   secondary_cleaner.output.tail_sol  final.output.concentrate_au  \\\n",
       "0                           8.764648                    42.192020   \n",
       "1                           9.001494                    42.701629   \n",
       "2                           8.842896                    42.657501   \n",
       "3                           9.122857                    42.689819   \n",
       "4                           8.871028                    42.774141   \n",
       "\n",
       "   final.output.concentrate_ag  final.output.concentrate_pb  \\\n",
       "0                     6.055403                     9.889648   \n",
       "1                     6.029369                     9.968944   \n",
       "2                     6.055926                    10.213995   \n",
       "3                     6.047977                     9.977019   \n",
       "4                     6.148599                    10.142511   \n",
       "\n",
       "   final.output.concentrate_sol  final.output.recovery  final.output.tail_au  \\\n",
       "0                      5.507324              70.541216              2.143149   \n",
       "1                      5.257781              69.266198              2.224930   \n",
       "2                      5.383759              68.116445              2.257889   \n",
       "3                      4.858634              68.347543              2.146849   \n",
       "4                      4.939416              66.927016              2.055292   \n",
       "\n",
       "   final.output.tail_ag  final.output.tail_pb  final.output.tail_sol  \n",
       "0             10.411962              0.895447              16.904297  \n",
       "1             10.462676              0.927452              16.634514  \n",
       "2             10.507046              0.953716              16.208849  \n",
       "3             10.422762              0.883763              16.532835  \n",
       "4             10.360302              0.792826              16.525686  \n",
       "\n",
       "[5 rows x 87 columns]"
      ]
     },
     "execution_count": 7,
     "metadata": {},
     "output_type": "execute_result"
    }
   ],
   "source": [
    "print(\"\\nFull data:\")\n",
    "full.head()"
   ]
  },
  {
   "cell_type": "code",
   "execution_count": 8,
   "metadata": {
    "scrolled": true
   },
   "outputs": [
    {
     "name": "stdout",
     "output_type": "stream",
     "text": [
      "<class 'pandas.core.frame.DataFrame'>\n",
      "RangeIndex: 19439 entries, 0 to 19438\n",
      "Data columns (total 87 columns):\n",
      " #   Column                                              Non-Null Count  Dtype  \n",
      "---  ------                                              --------------  -----  \n",
      " 0   date                                                19439 non-null  object \n",
      " 1   rougher.input.feed_au                               19439 non-null  float64\n",
      " 2   rougher.input.feed_ag                               19439 non-null  float64\n",
      " 3   rougher.input.feed_pb                               19339 non-null  float64\n",
      " 4   rougher.input.feed_sol                              19340 non-null  float64\n",
      " 5   rougher.input.feed_rate                             19428 non-null  float64\n",
      " 6   rougher.input.feed_size                             19294 non-null  float64\n",
      " 7   rougher.input.floatbank10_sulfate                   19405 non-null  float64\n",
      " 8   rougher.input.floatbank10_xanthate                  19431 non-null  float64\n",
      " 9   rougher.state.floatbank10_a_air                     19438 non-null  float64\n",
      " 10  rougher.state.floatbank10_a_level                   19438 non-null  float64\n",
      " 11  rougher.state.floatbank10_b_air                     19438 non-null  float64\n",
      " 12  rougher.state.floatbank10_b_level                   19438 non-null  float64\n",
      " 13  rougher.state.floatbank10_c_air                     19438 non-null  float64\n",
      " 14  rougher.state.floatbank10_c_level                   19438 non-null  float64\n",
      " 15  rougher.state.floatbank10_d_air                     19439 non-null  float64\n",
      " 16  rougher.state.floatbank10_d_level                   19439 non-null  float64\n",
      " 17  rougher.state.floatbank10_e_air                     19003 non-null  float64\n",
      " 18  rougher.state.floatbank10_e_level                   19439 non-null  float64\n",
      " 19  rougher.state.floatbank10_f_air                     19439 non-null  float64\n",
      " 20  rougher.state.floatbank10_f_level                   19439 non-null  float64\n",
      " 21  rougher.input.floatbank11_sulfate                   19395 non-null  float64\n",
      " 22  rougher.input.floatbank11_xanthate                  18986 non-null  float64\n",
      " 23  rougher.calculation.sulfate_to_au_concentrate       19437 non-null  float64\n",
      " 24  rougher.calculation.floatbank10_sulfate_to_au_feed  19437 non-null  float64\n",
      " 25  rougher.calculation.floatbank11_sulfate_to_au_feed  19437 non-null  float64\n",
      " 26  rougher.calculation.au_pb_ratio                     19439 non-null  float64\n",
      " 27  rougher.output.concentrate_au                       19439 non-null  float64\n",
      " 28  rougher.output.concentrate_ag                       19439 non-null  float64\n",
      " 29  rougher.output.concentrate_pb                       19439 non-null  float64\n",
      " 30  rougher.output.concentrate_sol                      19416 non-null  float64\n",
      " 31  rougher.output.recovery                             19439 non-null  float64\n",
      " 32  rougher.output.tail_au                              19439 non-null  float64\n",
      " 33  rougher.output.tail_ag                              19438 non-null  float64\n",
      " 34  rougher.output.tail_pb                              19439 non-null  float64\n",
      " 35  rougher.output.tail_sol                             19439 non-null  float64\n",
      " 36  primary_cleaner.input.sulfate                       19415 non-null  float64\n",
      " 37  primary_cleaner.input.depressant                    19402 non-null  float64\n",
      " 38  primary_cleaner.input.feed_size                     19439 non-null  float64\n",
      " 39  primary_cleaner.input.xanthate                      19335 non-null  float64\n",
      " 40  primary_cleaner.state.floatbank8_a_air              19435 non-null  float64\n",
      " 41  primary_cleaner.state.floatbank8_a_level            19438 non-null  float64\n",
      " 42  primary_cleaner.state.floatbank8_b_air              19435 non-null  float64\n",
      " 43  primary_cleaner.state.floatbank8_b_level            19438 non-null  float64\n",
      " 44  primary_cleaner.state.floatbank8_c_air              19437 non-null  float64\n",
      " 45  primary_cleaner.state.floatbank8_c_level            19438 non-null  float64\n",
      " 46  primary_cleaner.state.floatbank8_d_air              19436 non-null  float64\n",
      " 47  primary_cleaner.state.floatbank8_d_level            19438 non-null  float64\n",
      " 48  primary_cleaner.output.concentrate_au               19439 non-null  float64\n",
      " 49  primary_cleaner.output.concentrate_ag               19439 non-null  float64\n",
      " 50  primary_cleaner.output.concentrate_pb               19323 non-null  float64\n",
      " 51  primary_cleaner.output.concentrate_sol              19069 non-null  float64\n",
      " 52  primary_cleaner.output.tail_au                      19439 non-null  float64\n",
      " 53  primary_cleaner.output.tail_ag                      19435 non-null  float64\n",
      " 54  primary_cleaner.output.tail_pb                      19418 non-null  float64\n",
      " 55  primary_cleaner.output.tail_sol                     19377 non-null  float64\n",
      " 56  secondary_cleaner.state.floatbank2_a_air            19219 non-null  float64\n",
      " 57  secondary_cleaner.state.floatbank2_a_level          19438 non-null  float64\n",
      " 58  secondary_cleaner.state.floatbank2_b_air            19416 non-null  float64\n",
      " 59  secondary_cleaner.state.floatbank2_b_level          19438 non-null  float64\n",
      " 60  secondary_cleaner.state.floatbank3_a_air            19426 non-null  float64\n",
      " 61  secondary_cleaner.state.floatbank3_a_level          19438 non-null  float64\n",
      " 62  secondary_cleaner.state.floatbank3_b_air            19438 non-null  float64\n",
      " 63  secondary_cleaner.state.floatbank3_b_level          19438 non-null  float64\n",
      " 64  secondary_cleaner.state.floatbank4_a_air            19433 non-null  float64\n",
      " 65  secondary_cleaner.state.floatbank4_a_level          19438 non-null  float64\n",
      " 66  secondary_cleaner.state.floatbank4_b_air            19438 non-null  float64\n",
      " 67  secondary_cleaner.state.floatbank4_b_level          19438 non-null  float64\n",
      " 68  secondary_cleaner.state.floatbank5_a_air            19438 non-null  float64\n",
      " 69  secondary_cleaner.state.floatbank5_a_level          19438 non-null  float64\n",
      " 70  secondary_cleaner.state.floatbank5_b_air            19438 non-null  float64\n",
      " 71  secondary_cleaner.state.floatbank5_b_level          19438 non-null  float64\n",
      " 72  secondary_cleaner.state.floatbank6_a_air            19437 non-null  float64\n",
      " 73  secondary_cleaner.state.floatbank6_a_level          19438 non-null  float64\n",
      " 74  secondary_cleaner.output.tail_au                    19439 non-null  float64\n",
      " 75  secondary_cleaner.output.tail_ag                    19437 non-null  float64\n",
      " 76  secondary_cleaner.output.tail_pb                    19427 non-null  float64\n",
      " 77  secondary_cleaner.output.tail_sol                   17691 non-null  float64\n",
      " 78  final.output.concentrate_au                         19439 non-null  float64\n",
      " 79  final.output.concentrate_ag                         19438 non-null  float64\n",
      " 80  final.output.concentrate_pb                         19438 non-null  float64\n",
      " 81  final.output.concentrate_sol                        19228 non-null  float64\n",
      " 82  final.output.recovery                               19439 non-null  float64\n",
      " 83  final.output.tail_au                                19439 non-null  float64\n",
      " 84  final.output.tail_ag                                19438 non-null  float64\n",
      " 85  final.output.tail_pb                                19338 non-null  float64\n",
      " 86  final.output.tail_sol                               19433 non-null  float64\n",
      "dtypes: float64(86), object(1)\n",
      "memory usage: 12.9+ MB\n",
      "None\n"
     ]
    }
   ],
   "source": [
    "print(full.info())"
   ]
  },
  {
   "cell_type": "markdown",
   "metadata": {},
   "source": [
    "### Проверка на наличие пропусков"
   ]
  },
  {
   "cell_type": "code",
   "execution_count": 9,
   "metadata": {
    "scrolled": true
   },
   "outputs": [
    {
     "name": "stdout",
     "output_type": "stream",
     "text": [
      "Missing values for train df:\n",
      "secondary_cleaner.output.tail_sol                     920\n",
      "rougher.state.floatbank10_e_air                       429\n",
      "rougher.input.floatbank11_xanthate                    407\n",
      "primary_cleaner.output.concentrate_sol                265\n",
      "final.output.concentrate_sol                          192\n",
      "rougher.input.feed_size                               101\n",
      "secondary_cleaner.state.floatbank2_a_air               94\n",
      "primary_cleaner.output.concentrate_pb                  88\n",
      "rougher.input.feed_sol                                 77\n",
      "final.output.tail_pb                                   75\n",
      "rougher.input.feed_pb                                  72\n",
      "primary_cleaner.input.xanthate                         61\n",
      "primary_cleaner.output.tail_sol                        45\n",
      "rougher.input.floatbank11_sulfate                      36\n",
      "rougher.input.floatbank10_sulfate                      31\n",
      "primary_cleaner.input.depressant                       28\n",
      "primary_cleaner.input.sulfate                          23\n",
      "secondary_cleaner.state.floatbank2_b_air               22\n",
      "rougher.output.concentrate_sol                         18\n",
      "secondary_cleaner.state.floatbank3_a_air               12\n",
      "rougher.input.floatbank10_xanthate                      7\n",
      "rougher.input.feed_rate                                 7\n",
      "primary_cleaner.output.tail_pb                          6\n",
      "secondary_cleaner.state.floatbank4_a_air                5\n",
      "final.output.tail_sol                                   5\n",
      "primary_cleaner.output.tail_ag                          4\n",
      "secondary_cleaner.output.tail_pb                        4\n",
      "primary_cleaner.state.floatbank8_a_air                  3\n",
      "primary_cleaner.state.floatbank8_b_air                  3\n",
      "secondary_cleaner.output.tail_ag                        1\n",
      "final.output.tail_ag                                    1\n",
      "final.output.concentrate_pb                             1\n",
      "final.output.concentrate_ag                             1\n",
      "primary_cleaner.state.floatbank8_d_air                  1\n",
      "rougher.calculation.floatbank11_sulfate_to_au_feed      1\n",
      "secondary_cleaner.state.floatbank6_a_air                1\n",
      "rougher.calculation.floatbank10_sulfate_to_au_feed      1\n",
      "rougher.output.tail_ag                                  1\n",
      "rougher.calculation.sulfate_to_au_concentrate           1\n",
      "secondary_cleaner.state.floatbank4_b_air                0\n",
      "secondary_cleaner.state.floatbank5_a_level              0\n",
      "secondary_cleaner.state.floatbank2_a_level              0\n",
      "final.output.tail_au                                    0\n",
      "final.output.recovery                                   0\n",
      "secondary_cleaner.state.floatbank5_b_air                0\n",
      "secondary_cleaner.state.floatbank2_b_level              0\n",
      "secondary_cleaner.state.floatbank3_a_level              0\n",
      "secondary_cleaner.output.tail_au                        0\n",
      "secondary_cleaner.state.floatbank3_b_air                0\n",
      "secondary_cleaner.state.floatbank3_b_level              0\n",
      "dtype: int64\n"
     ]
    }
   ],
   "source": [
    "print(\"Missing values for train df:\")\n",
    "print(train.isnull().sum().sort_values(ascending=False).head(50))"
   ]
  },
  {
   "cell_type": "code",
   "execution_count": 10,
   "metadata": {
    "scrolled": true
   },
   "outputs": [
    {
     "name": "stdout",
     "output_type": "stream",
     "text": [
      "Missing values for test df:\n",
      "secondary_cleaner.state.floatbank2_a_air      126\n",
      "rougher.input.floatbank11_xanthate             46\n",
      "rougher.input.feed_size                        44\n",
      "primary_cleaner.input.xanthate                 43\n",
      "rougher.input.feed_pb                          28\n",
      "rougher.input.feed_sol                         22\n",
      "primary_cleaner.input.depressant                9\n",
      "rougher.input.floatbank11_sulfate               8\n",
      "rougher.state.floatbank10_e_air                 7\n",
      "rougher.input.feed_rate                         4\n",
      "rougher.input.floatbank10_sulfate               3\n",
      "primary_cleaner.state.floatbank8_d_air          2\n",
      "primary_cleaner.state.floatbank8_c_air          2\n",
      "primary_cleaner.state.floatbank8_d_level        1\n",
      "secondary_cleaner.state.floatbank3_a_level      1\n",
      "secondary_cleaner.state.floatbank2_a_level      1\n",
      "secondary_cleaner.state.floatbank2_b_air        1\n",
      "secondary_cleaner.state.floatbank2_b_level      1\n",
      "secondary_cleaner.state.floatbank3_a_air        1\n",
      "secondary_cleaner.state.floatbank4_a_air        1\n",
      "secondary_cleaner.state.floatbank3_b_air        1\n",
      "secondary_cleaner.state.floatbank3_b_level      1\n",
      "secondary_cleaner.state.floatbank4_a_level      1\n",
      "secondary_cleaner.state.floatbank4_b_air        1\n",
      "secondary_cleaner.state.floatbank4_b_level      1\n",
      "secondary_cleaner.state.floatbank5_a_air        1\n",
      "secondary_cleaner.state.floatbank5_a_level      1\n",
      "secondary_cleaner.state.floatbank5_b_air        1\n",
      "secondary_cleaner.state.floatbank5_b_level      1\n",
      "secondary_cleaner.state.floatbank6_a_air        1\n",
      "primary_cleaner.state.floatbank8_c_level        1\n",
      "secondary_cleaner.state.floatbank6_a_level      1\n",
      "primary_cleaner.state.floatbank8_b_level        1\n",
      "rougher.state.floatbank10_c_air                 1\n",
      "primary_cleaner.state.floatbank8_a_level        1\n",
      "primary_cleaner.state.floatbank8_a_air          1\n",
      "rougher.input.floatbank10_xanthate              1\n",
      "primary_cleaner.input.sulfate                   1\n",
      "rougher.state.floatbank10_a_air                 1\n",
      "rougher.state.floatbank10_a_level               1\n",
      "rougher.state.floatbank10_b_air                 1\n",
      "primary_cleaner.state.floatbank8_b_air          1\n",
      "rougher.state.floatbank10_b_level               1\n",
      "rougher.state.floatbank10_c_level               1\n",
      "rougher.input.feed_ag                           0\n",
      "rougher.state.floatbank10_d_level               0\n",
      "rougher.state.floatbank10_d_air                 0\n",
      "rougher.state.floatbank10_e_level               0\n",
      "rougher.state.floatbank10_f_air                 0\n",
      "rougher.state.floatbank10_f_level               0\n",
      "primary_cleaner.input.feed_size                 0\n",
      "rougher.input.feed_au                           0\n",
      "date                                            0\n",
      "dtype: int64\n"
     ]
    }
   ],
   "source": [
    "print(\"Missing values for test df:\")\n",
    "print(test.isnull().sum().sort_values(ascending=False))"
   ]
  },
  {
   "cell_type": "code",
   "execution_count": 11,
   "metadata": {
    "scrolled": true
   },
   "outputs": [
    {
     "name": "stdout",
     "output_type": "stream",
     "text": [
      "Missing values for full df:\n",
      "secondary_cleaner.output.tail_sol                     1748\n",
      "rougher.input.floatbank11_xanthate                     453\n",
      "rougher.state.floatbank10_e_air                        436\n",
      "primary_cleaner.output.concentrate_sol                 370\n",
      "secondary_cleaner.state.floatbank2_a_air               220\n",
      "final.output.concentrate_sol                           211\n",
      "rougher.input.feed_size                                145\n",
      "primary_cleaner.output.concentrate_pb                  116\n",
      "primary_cleaner.input.xanthate                         104\n",
      "final.output.tail_pb                                   101\n",
      "rougher.input.feed_pb                                  100\n",
      "rougher.input.feed_sol                                  99\n",
      "primary_cleaner.output.tail_sol                         62\n",
      "rougher.input.floatbank11_sulfate                       44\n",
      "primary_cleaner.input.depressant                        37\n",
      "rougher.input.floatbank10_sulfate                       34\n",
      "primary_cleaner.input.sulfate                           24\n",
      "rougher.output.concentrate_sol                          23\n",
      "secondary_cleaner.state.floatbank2_b_air                23\n",
      "primary_cleaner.output.tail_pb                          21\n",
      "secondary_cleaner.state.floatbank3_a_air                13\n",
      "secondary_cleaner.output.tail_pb                        12\n",
      "rougher.input.feed_rate                                 11\n",
      "rougher.input.floatbank10_xanthate                       8\n",
      "secondary_cleaner.state.floatbank4_a_air                 6\n",
      "final.output.tail_sol                                    6\n",
      "primary_cleaner.output.tail_ag                           4\n",
      "primary_cleaner.state.floatbank8_b_air                   4\n",
      "primary_cleaner.state.floatbank8_a_air                   4\n",
      "primary_cleaner.state.floatbank8_d_air                   3\n",
      "rougher.calculation.sulfate_to_au_concentrate            2\n",
      "secondary_cleaner.output.tail_ag                         2\n",
      "primary_cleaner.state.floatbank8_c_air                   2\n",
      "secondary_cleaner.state.floatbank6_a_air                 2\n",
      "rougher.calculation.floatbank11_sulfate_to_au_feed       2\n",
      "rougher.calculation.floatbank10_sulfate_to_au_feed       2\n",
      "secondary_cleaner.state.floatbank3_b_air                 1\n",
      "final.output.tail_ag                                     1\n",
      "final.output.concentrate_pb                              1\n",
      "final.output.concentrate_ag                              1\n",
      "secondary_cleaner.state.floatbank4_b_level               1\n",
      "secondary_cleaner.state.floatbank4_b_air                 1\n",
      "secondary_cleaner.state.floatbank2_a_level               1\n",
      "secondary_cleaner.state.floatbank6_a_level               1\n",
      "secondary_cleaner.state.floatbank3_a_level               1\n",
      "secondary_cleaner.state.floatbank4_a_level               1\n",
      "secondary_cleaner.state.floatbank2_b_level               1\n",
      "secondary_cleaner.state.floatbank5_a_air                 1\n",
      "secondary_cleaner.state.floatbank5_b_level               1\n",
      "secondary_cleaner.state.floatbank5_b_air                 1\n",
      "dtype: int64\n"
     ]
    }
   ],
   "source": [
    "print(\"Missing values for full df:\")\n",
    "print(full.isnull().sum().sort_values(ascending=False).head(50))"
   ]
  },
  {
   "cell_type": "markdown",
   "metadata": {},
   "source": [
    "### Проверка корректности расчета эффективности обогащения"
   ]
  },
  {
   "cell_type": "code",
   "execution_count": 12,
   "metadata": {},
   "outputs": [
    {
     "name": "stdout",
     "output_type": "stream",
     "text": [
      "Mean Absolute Error: 9.83758577644259e-15\n"
     ]
    }
   ],
   "source": [
    "def recovery_calculation(C, F, T):\n",
    "    recovery = ((C * (F - T)) / (F * (C - T))) * 100\n",
    "    recovery[recovery < 0] = 0\n",
    "    recovery[recovery > 100] = 100\n",
    "    return recovery\n",
    "\n",
    "C = train['rougher.output.concentrate_au']\n",
    "F = train['rougher.input.feed_au']\n",
    "T = train['rougher.output.tail_au']\n",
    "\n",
    "train['rougher.output.recovery_calculated'] = recovery_calculation(C, F, T)\n",
    "\n",
    "# Удаление строк с пропущенными значениями\n",
    "train_recovery_notnull = train.dropna(subset=['rougher.output.recovery', 'rougher.output.recovery_calculated'])\n",
    "\n",
    "\n",
    "mae = mean_absolute_error(train_recovery_notnull['rougher.output.recovery'],\n",
    "                          train_recovery_notnull['rougher.output.recovery_calculated'])\n",
    "print(\"Mean Absolute Error:\", mae)"
   ]
  },
  {
   "cell_type": "markdown",
   "metadata": {},
   "source": [
    "Создаем функцию recovery_calculation, которая принимает на вход три параметра: C (концентрация золота в концентрате), F (концентрация золота в сырье) и T (концентрация золота в отвальных хвостах). Функция вычисляет и возвращает эффективность обогащения в процентах.  \n",
    "Вычисляем эффективность обогащения для обучающей выборки, используя формулу, и сохраняем результаты в новый столбец rougher.output.recovery_calculated.  \n",
    "Удаляем строки с пропущенными значениями в столбцах rougher.output.recovery и rougher.output.recovery_calculated.  \n",
    "Вычисляем среднюю абсолютную ошибку (Mean Absolute Error, MAE) между рассчитанными значениями эффективности обогащения и значениями, предоставленными в датасете."
   ]
  },
  {
   "cell_type": "markdown",
   "metadata": {},
   "source": [
    "### Анализ признаков, недоступных в тестовой выборке"
   ]
  },
  {
   "cell_type": "code",
   "execution_count": 13,
   "metadata": {},
   "outputs": [
    {
     "name": "stdout",
     "output_type": "stream",
     "text": [
      "Missing features in the test dataset: {'rougher.calculation.sulfate_to_au_concentrate', 'final.output.concentrate_au', 'rougher.output.concentrate_au', 'rougher.calculation.au_pb_ratio', 'final.output.tail_pb', 'primary_cleaner.output.concentrate_au', 'secondary_cleaner.output.tail_sol', 'final.output.concentrate_ag', 'rougher.output.recovery_calculated', 'rougher.output.concentrate_pb', 'final.output.recovery', 'rougher.output.tail_pb', 'secondary_cleaner.output.tail_ag', 'primary_cleaner.output.tail_sol', 'rougher.calculation.floatbank10_sulfate_to_au_feed', 'primary_cleaner.output.concentrate_ag', 'primary_cleaner.output.concentrate_sol', 'rougher.output.concentrate_ag', 'primary_cleaner.output.tail_au', 'rougher.output.concentrate_sol', 'rougher.output.tail_sol', 'final.output.tail_au', 'rougher.calculation.floatbank11_sulfate_to_au_feed', 'primary_cleaner.output.tail_ag', 'rougher.output.tail_au', 'secondary_cleaner.output.tail_au', 'final.output.tail_ag', 'final.output.concentrate_pb', 'final.output.concentrate_sol', 'primary_cleaner.output.concentrate_pb', 'final.output.tail_sol', 'rougher.output.tail_ag', 'primary_cleaner.output.tail_pb', 'rougher.output.recovery', 'secondary_cleaner.output.tail_pb'}\n"
     ]
    }
   ],
   "source": [
    "def df_col_diff(df_1, df_2):\n",
    "    return set(df_1.columns) - set(df_2.columns)\n",
    "\n",
    "missing_columns = df_col_diff(train, test)\n",
    "\n",
    "print(\"Missing features in the test dataset:\", missing_columns)"
   ]
  },
  {
   "cell_type": "markdown",
   "metadata": {},
   "source": [
    "### Предобработка данных"
   ]
  },
  {
   "cell_type": "code",
   "execution_count": 14,
   "metadata": {},
   "outputs": [],
   "source": [
    "# Обработка пропусков\n",
    "train.fillna(method='ffill', inplace=True)\n",
    "test.fillna(method='ffill', inplace=True)"
   ]
  },
  {
   "cell_type": "markdown",
   "metadata": {},
   "source": [
    "Заполняем пропущенные значения методом 'ffill', потому что:\n",
    "\n",
    "- В условиях задачи упоминается, что соседние по времени параметры часто похожи. Это предполагает, что значения параметров не изменяются слишком быстро, и значения, полученные в ближайшем прошлом, могут быть хорошим приближением для пропущенных значений.\n",
    "- Метод 'ffill' (forward fill) заменяет пропуски последним известным значением, перед пропущенным значением. Это делает его подходящим для временных рядов или последовательных данных, где значения могут быть коррелированы с предыдущими значениями.\n",
    "- Применение метода 'ffill' позволяет сохранить структуру и зависимости данных, не внося смещение, которое могло бы возникнуть при использовании других методов, таких как заполнение средним или медианой."
   ]
  },
  {
   "cell_type": "markdown",
   "metadata": {},
   "source": [
    "### Вывод"
   ]
  },
  {
   "cell_type": "markdown",
   "metadata": {},
   "source": [
    "- Мы открыли и изучили файлы с данными, предоставленные для обучающей, тестовой и полной выборок.\n",
    "- Мы проверили корректность расчета эффективности обогащения для признака rougher.output.recovery на обучающей выборке. Значение Mean Absolute Error (MAE) между нашими расчетами и предоставленными значениями признака оказалось очень маленьким (9.83758577644259e-15), что указывает на правильность расчета эффективности обогащения.\n",
    "- Мы проанализировали признаки, недоступные в тестовой выборке. Обнаружено, что в тестовой выборке отсутствуют целевые признаки и признаки, связанные с параметрами продукта на различных стадиях обработки.\n",
    "- В рамках предобработки данных, мы удалили столбец 'date' из тестовой выборки, так как он не несет информацию, необходимую для обучения модели. Затем мы заполнили пропущенные значения в обучающей и тестовой выборках, используя метод 'ffill', который заменяет пропуски предыдущими значениями. Это было сделано, потому что соседние по времени параметры часто похожи, и использование предыдущего значения является разумным подходом для заполнения пропусков.\n",
    "\n",
    "После завершения этих шагов, мы подготовили данные для дальнейшего анализа и построения модели."
   ]
  },
  {
   "cell_type": "markdown",
   "metadata": {},
   "source": [
    "## Анализ данных"
   ]
  },
  {
   "cell_type": "markdown",
   "metadata": {},
   "source": [
    "### Изучение изменения концентрации металлов на различных этапах"
   ]
  },
  {
   "cell_type": "code",
   "execution_count": 15,
   "metadata": {
    "scrolled": false
   },
   "outputs": [
    {
     "data": {
      "image/png": "[encoded data removed]",
      "text/plain": [
       "<Figure size 1296x1440 with 3 Axes>"
      ]
     },
     "metadata": {
      "needs_background": "light"
     },
     "output_type": "display_data"
    }
   ],
   "source": [
    "metals = ['au', 'ag', 'pb']\n",
    "stages = ['rougher.input.feed_',\n",
    "          'rougher.output.concentrate_',\n",
    "          'primary_cleaner.output.concentrate_',\n",
    "          'final.output.concentrate_']\n",
    "\n",
    "colors = ['blue', 'orange', 'green', 'red']\n",
    "\n",
    "fig, axs = plt.subplots(3, 1, figsize=(18, 20))\n",
    "\n",
    "for metal, ax in zip(metals, axs):\n",
    "    for stage, color in zip(stages, colors):\n",
    "        column = stage + metal\n",
    "        sns.histplot(train[column], kde=True, ax=ax, label=stage, color=color, alpha=0.6)\n",
    "    ax.set_title(metal.upper())\n",
    "    ax.set_xlabel('Concentration')\n",
    "    ax.legend()\n",
    "\n",
    "plt.show()"
   ]
  },
  {
   "cell_type": "markdown",
   "metadata": {},
   "source": [
    "### Сравнение распределений размеров гранул исходного сырья"
   ]
  },
  {
   "cell_type": "code",
   "execution_count": 16,
   "metadata": {},
   "outputs": [
    {
     "data": {
      "image/png": "[encoded data removed]",
      "text/plain": [
       "<Figure size 864x432 with 1 Axes>"
      ]
     },
     "metadata": {
      "needs_background": "light"
     },
     "output_type": "display_data"
    }
   ],
   "source": [
    "plt.figure(figsize=(12, 6))\n",
    "sns.histplot(train['rougher.input.feed_size'], kde=True, label='Train dataset', color='red', alpha=0.5)\n",
    "sns.histplot(test['rougher.input.feed_size'], kde=True, label='Test dataset', alpha=0.5)\n",
    "plt.title('Distribution of feed size in train and test datasets')\n",
    "plt.xlabel('Feed size')\n",
    "plt.legend()\n",
    "plt.show()"
   ]
  },
  {
   "cell_type": "markdown",
   "metadata": {},
   "source": [
    "### Исследование суммарной концентрации металлов на разных стадиях"
   ]
  },
  {
   "cell_type": "code",
   "execution_count": 17,
   "metadata": {
    "scrolled": false
   },
   "outputs": [
    {
     "data": {
      "image/png": "[encoded data removed]",
      "text/plain": [
       "<Figure size 1440x360 with 4 Axes>"
      ]
     },
     "metadata": {
      "needs_background": "light"
     },
     "output_type": "display_data"
    }
   ],
   "source": [
    "stages_sum = ['rougher.input.feed_sum', 'rougher.output.concentrate_sum',\n",
    "              'primary_cleaner.output.concentrate_sum', 'final.output.concentrate_sum']\n",
    "\n",
    "train['rougher.input.feed_sum'] = train[['rougher.input.feed_au', 'rougher.input.feed_ag',\n",
    "                                         'rougher.input.feed_pb']].sum(axis=1)\n",
    "\n",
    "train['rougher.output.concentrate_sum'] = train[['rougher.output.concentrate_au',\n",
    "                                                 'rougher.output.concentrate_ag',\n",
    "                                                 'rougher.output.concentrate_pb']].sum(axis=1)\n",
    "\n",
    "train['primary_cleaner.output.concentrate_sum'] = train[['primary_cleaner.output.concentrate_au',\n",
    "                                                         'primary_cleaner.output.concentrate_ag',\n",
    "                                                         'primary_cleaner.output.concentrate_pb']\n",
    "                                                       ].sum(axis=1)\n",
    "\n",
    "train['final.output.concentrate_sum'] = train[['final.output.concentrate_au',\n",
    "                                               'final.output.concentrate_ag',\n",
    "                                               'final.output.concentrate_pb']].sum(axis=1)\n",
    "\n",
    "fig, axs = plt.subplots(1, 4, figsize=(20, 5), sharey=True)\n",
    "\n",
    "for stage, ax in zip(stages_sum, axs):\n",
    "    sns.histplot(train[stage], kde=True, ax=ax)\n",
    "    ax.set_title(stage)\n",
    "    ax.set_xlabel('Total concentration')\n",
    "\n",
    "plt.show()\n"
   ]
  },
  {
   "cell_type": "code",
   "execution_count": 18,
   "metadata": {
    "scrolled": true
   },
   "outputs": [
    {
     "data": {
      "image/png": "[encoded data removed]",
      "text/plain": [
       "<Figure size 1440x360 with 4 Axes>"
      ]
     },
     "metadata": {
      "needs_background": "light"
     },
     "output_type": "display_data"
    }
   ],
   "source": [
    "# Применяем z-оценку ко всем столбцам\n",
    "z_scores = np.abs(zscore(train[stages_sum]))\n",
    "\n",
    "# Устанавливаем порог для определения аномалий\n",
    "threshold = 3\n",
    "\n",
    "# Оставляем только те строки, где все значения находятся в пределах 3 стандартных отклонений от среднего\n",
    "train = train[(z_scores < threshold).all(axis=1)]\n",
    "\n",
    "# Проверяем, что аномалии успешно удалены\n",
    "fig, axs = plt.subplots(1, 4, figsize=(20, 5), sharey=True)\n",
    "\n",
    "for stage, ax in zip(stages_sum, axs):\n",
    "    sns.histplot(train[stage], kde=True, ax=ax)\n",
    "    ax.set_title(stage)\n",
    "    ax.set_xlabel('Total concentration')\n",
    "\n",
    "plt.show()"
   ]
  },
  {
   "cell_type": "markdown",
   "metadata": {},
   "source": [
    "В данном случае мы использовали статистический метод для удаления аномалий из наших данных. Специфически, мы применили z-оценку, которая показывает, на сколько стандартных отклонений от среднего значения находится каждая точка данных. Мы установили порог в 3 стандартных отклонения от среднего значения. Все значения, которые отстоят более чем на 3 стандартных отклонения от среднего, были считаны аномалиями и были удалены из наших данных."
   ]
  },
  {
   "cell_type": "markdown",
   "metadata": {},
   "source": [
    "### Вывод"
   ]
  },
  {
   "cell_type": "markdown",
   "metadata": {},
   "source": [
    "- Проанализировали, как меняется концентрация металлов (Au, Ag, Pb) на различных этапах: в сырье, в черновом концентрате, в концентрате после первой очистки и в финальном концентрате. Наблюдаем, что концентрация золота (Au) увеличивается на каждом этапе обработки, что свидетельствует об эффективности процесса обогащения. Концентрация серебра (Ag) сначала возрастает, но затем снижается после первой очистки, что указывает на то, что серебро удаляется из продукта в процессе очистки. Концентрация свинца (Pb) увеличивается после флотации и незначительно меняется после очистки.\n",
    "\n",
    "- Сравнили распределения размеров гранул исходного сырья на обучающей и тестовой выборках. Обнаружено, что распределения в обучающей и тестовой выборках достаточно похожи друг на друга, что говорит о том, что оценка модели будет корректной.\n",
    "\n",
    "- Была исследована суммарная концентрация металлов на разных стадиях: в сырье, в черновом концентрате, в концентрате после первой очистки и в финальном концентрате. Обнаружили, что суммарная концентрация металлов увеличивается на каждом этапе обработки, что указывает на эффективность технологического процесса."
   ]
  },
  {
   "cell_type": "markdown",
   "metadata": {},
   "source": [
    "## Модель"
   ]
  },
  {
   "cell_type": "markdown",
   "metadata": {},
   "source": [
    "### Функция для вычисления итоговой sMAPE"
   ]
  },
  {
   "cell_type": "code",
   "execution_count": 19,
   "metadata": {},
   "outputs": [],
   "source": [
    "def smape(y_true, y_pred):\n",
    "    return 100 * np.mean(2 * np.abs(y_true - y_pred) / (np.abs(y_true) + np.abs(y_pred)))\n",
    "\n",
    "def final_smape(smape_rougher, smape_final):\n",
    "    return 0.25 * smape_rougher + 0.75 * smape_final"
   ]
  },
  {
   "cell_type": "markdown",
   "metadata": {},
   "source": [
    "### Разделение данных на целевые признаки и признаки для обучения"
   ]
  },
  {
   "cell_type": "code",
   "execution_count": 20,
   "metadata": {},
   "outputs": [
    {
     "data": {
      "text/plain": [
       "rougher.input.feed_au                             3.505389\n",
       "rougher.input.feed_ag                             3.541997\n",
       "rougher.input.feed_pb                             1.108186\n",
       "rougher.input.feed_sol                           24.821375\n",
       "rougher.input.feed_rate                       11182.724372\n",
       "rougher.input.feed_size                         537.587429\n",
       "rougher.input.floatbank10_sulfate                11.242266\n",
       "rougher.input.floatbank10_xanthate                1.260230\n",
       "rougher.state.floatbank10_a_air               25857.526699\n",
       "rougher.state.floatbank10_a_level              9067.402804\n",
       "rougher.state.floatbank10_b_air               32575.838208\n",
       "rougher.state.floatbank10_b_level              3170.304684\n",
       "rougher.state.floatbank10_c_air               43518.241878\n",
       "rougher.state.floatbank10_c_level              3056.546136\n",
       "rougher.state.floatbank10_d_air               43607.096077\n",
       "rougher.state.floatbank10_d_level              3106.820830\n",
       "rougher.state.floatbank10_e_air               32000.486433\n",
       "rougher.state.floatbank10_e_level              3512.986866\n",
       "rougher.state.floatbank10_f_air               29166.779863\n",
       "rougher.state.floatbank10_f_level              3574.643060\n",
       "rougher.input.floatbank11_sulfate                14.489619\n",
       "rougher.input.floatbank11_xanthate                1.418794\n",
       "primary_cleaner.input.sulfate                  1940.122946\n",
       "primary_cleaner.input.depressant                 10.848250\n",
       "primary_cleaner.input.feed_size                   0.380358\n",
       "primary_cleaner.input.xanthate                    0.265047\n",
       "primary_cleaner.state.floatbank8_a_air        16346.366024\n",
       "primary_cleaner.state.floatbank8_a_level        906.066360\n",
       "primary_cleaner.state.floatbank8_b_air        16748.888385\n",
       "primary_cleaner.state.floatbank8_b_level       1024.855333\n",
       "primary_cleaner.state.floatbank8_c_air        17771.864499\n",
       "primary_cleaner.state.floatbank8_c_level        968.125962\n",
       "primary_cleaner.state.floatbank8_d_air        60036.788850\n",
       "primary_cleaner.state.floatbank8_d_level       1838.440829\n",
       "secondary_cleaner.state.floatbank2_a_air         29.538304\n",
       "secondary_cleaner.state.floatbank2_a_level     3144.913775\n",
       "secondary_cleaner.state.floatbank2_b_air         33.208159\n",
       "secondary_cleaner.state.floatbank2_b_level     3591.732164\n",
       "secondary_cleaner.state.floatbank3_a_air         36.618588\n",
       "secondary_cleaner.state.floatbank3_a_level     3013.776505\n",
       "secondary_cleaner.state.floatbank3_b_air         31.004327\n",
       "secondary_cleaner.state.floatbank3_b_level     1898.157174\n",
       "secondary_cleaner.state.floatbank4_a_air         26.543003\n",
       "secondary_cleaner.state.floatbank4_a_level     2354.227962\n",
       "secondary_cleaner.state.floatbank4_b_air         23.448113\n",
       "secondary_cleaner.state.floatbank4_b_level     4362.545130\n",
       "secondary_cleaner.state.floatbank5_a_air         28.807201\n",
       "secondary_cleaner.state.floatbank5_a_level     1247.244072\n",
       "secondary_cleaner.state.floatbank5_b_air         27.140325\n",
       "secondary_cleaner.state.floatbank5_b_level     1461.023574\n",
       "secondary_cleaner.state.floatbank6_a_air         30.168483\n",
       "secondary_cleaner.state.floatbank6_a_level     1346.616205\n",
       "dtype: float64"
      ]
     },
     "execution_count": 20,
     "metadata": {},
     "output_type": "execute_result"
    }
   ],
   "source": [
    "X_train = train.drop(set(train.columns)-set(test.columns), axis=1)\n",
    "X_train = X_train.drop(['date'], axis=1)\n",
    "y_train_rougher = train['rougher.output.recovery']\n",
    "y_train_final = train['final.output.recovery']\n",
    "\n",
    "X_test = test.drop(['date'], axis=1)\n",
    "# Сначала объединим тестовую выборку с полным датасетом по столбцу 'date'\n",
    "test_with_recovery = test.merge(full, on='date', how='left', suffixes=('', '_y'))\n",
    "\n",
    "# Затем получим целевые признаки\n",
    "y_test_rougher = test_with_recovery['rougher.output.recovery']\n",
    "y_test_final = test_with_recovery['final.output.recovery']"
   ]
  },
  {
   "cell_type": "markdown",
   "metadata": {},
   "source": [
    "- Удалили столбцы, присутствующие только в обучающем наборе данных, чтобы сделать обучающий и тестовый наборы данных совместимыми. Также удалили столбец 'date' из обучающего и тестового набора данных.\n",
    "- Получили целевые признаки для обучающего набора данных.\n",
    "- Объединили тестовую выборку с полным датасетом по столбцу 'date' для восстановления целевых признаков."
   ]
  },
  {
   "cell_type": "code",
   "execution_count": 21,
   "metadata": {},
   "outputs": [
    {
     "name": "stdout",
     "output_type": "stream",
     "text": [
      "Missing features in the test dataset: set()\n"
     ]
    }
   ],
   "source": [
    "train_columns = set(X_train.columns)\n",
    "test_columns = set(X_test.columns)\n",
    "\n",
    "missing_columns = train_columns - test_columns\n",
    "print(\"Missing features in the test dataset:\", missing_columns)"
   ]
  },
  {
   "cell_type": "code",
   "execution_count": 22,
   "metadata": {},
   "outputs": [
    {
     "name": "stdout",
     "output_type": "stream",
     "text": [
      "(13563, 52)\n",
      "(13563,)\n",
      "(13563,)\n",
      "(4860, 52)\n",
      "(4860,)\n",
      "(4860,)\n"
     ]
    }
   ],
   "source": [
    "for i in [X_train,y_train_rougher, y_train_final, X_test, y_test_rougher, y_test_final]:\n",
    "    print(i.shape)"
   ]
  },
  {
   "cell_type": "markdown",
   "metadata": {},
   "source": [
    "### Обучение моделей"
   ]
  },
  {
   "cell_type": "markdown",
   "metadata": {},
   "source": [
    "#### Линейная регрессия"
   ]
  },
  {
   "cell_type": "code",
   "execution_count": 23,
   "metadata": {
    "scrolled": false
   },
   "outputs": [
    {
     "name": "stdout",
     "output_type": "stream",
     "text": [
      "Linear Regression sMAPE (Rougher): 7.155140822486397\n",
      "Linear Regression sMAPE (Final): 9.41275002560636\n"
     ]
    }
   ],
   "source": [
    "# Создаем sMAPE scorer\n",
    "smape_scorer = make_scorer(smape, greater_is_better=False)\n",
    "\n",
    "# Линейная регрессия\n",
    "lr = LinearRegression()\n",
    "lr_rougher_scores = cross_val_score(lr, X_train, y_train_rougher, cv=5, scoring=smape_scorer)\n",
    "lr_final_scores = cross_val_score(lr, X_train, y_train_final, cv=5, scoring=smape_scorer)\n",
    "print(f\"Linear Regression sMAPE (Rougher): {-np.mean(lr_rougher_scores)}\")\n",
    "print(f\"Linear Regression sMAPE (Final): {-np.mean(lr_final_scores)}\")"
   ]
  },
  {
   "cell_type": "markdown",
   "metadata": {},
   "source": [
    "#### Дерево решений"
   ]
  },
  {
   "cell_type": "code",
   "execution_count": 24,
   "metadata": {
    "scrolled": false
   },
   "outputs": [
    {
     "name": "stdout",
     "output_type": "stream",
     "text": [
      "Fitting 5 folds for each of 20 candidates, totalling 100 fits\n",
      "Fitting 5 folds for each of 20 candidates, totalling 100 fits\n"
     ]
    }
   ],
   "source": [
    "# Дерево решений\n",
    "tree_params = {'max_depth': range(1, 21)}\n",
    "tree = DecisionTreeRegressor(random_state=12345)\n",
    "tree_grid_rougher = GridSearchCV(tree, tree_params, cv=5, scoring=smape_scorer, verbose=True, n_jobs=-1)\n",
    "tree_grid_rougher.fit(X_train, y_train_rougher)\n",
    "tree_rougher_scores = tree_grid_rougher.best_score_\n",
    "\n",
    "tree_grid_final = GridSearchCV(tree, tree_params, cv=5, scoring=smape_scorer, verbose=True, n_jobs=-1)\n",
    "tree_grid_final.fit(X_train, y_train_final)\n",
    "tree_final_scores = tree_grid_final.best_score_"
   ]
  },
  {
   "cell_type": "code",
   "execution_count": 25,
   "metadata": {},
   "outputs": [
    {
     "name": "stdout",
     "output_type": "stream",
     "text": [
      "Decision Tree sMAPE (Rougher): 6.529272099242699\n",
      "Decision Tree sMAPE (Final): 9.045262247431648\n",
      "Best Decision Tree Parameters (Rougher): {'max_depth': 3}\n",
      "Best Decision Tree Parameters (Final): {'max_depth': 2}\n"
     ]
    }
   ],
   "source": [
    "print(f\"Decision Tree sMAPE (Rougher): {-tree_rougher_scores}\")\n",
    "print(f\"Decision Tree sMAPE (Final): {-tree_final_scores}\")\n",
    "print(\"Best Decision Tree Parameters (Rougher):\", tree_grid_rougher.best_params_)\n",
    "print(\"Best Decision Tree Parameters (Final):\", tree_grid_final.best_params_)"
   ]
  },
  {
   "cell_type": "markdown",
   "metadata": {},
   "source": [
    "#### Случайный лес"
   ]
  },
  {
   "cell_type": "code",
   "execution_count": null,
   "metadata": {},
   "outputs": [
    {
     "name": "stdout",
     "output_type": "stream",
     "text": [
      "Fitting 5 folds for each of 12 candidates, totalling 60 fits\n"
     ]
    }
   ],
   "source": [
    "# Случайный лес\n",
    "rf_params = {'n_estimators': [10, 50, 100],\n",
    "             'max_depth': [None, 5, 10, 20]}\n",
    "rf = RandomForestRegressor(random_state=12345)\n",
    "\n",
    "# Обучение и оценка случайного леса для каждой целевой переменной\n",
    "rf_rougher_grid = GridSearchCV(rf, rf_params, cv=5, scoring=smape_scorer, verbose=True, n_jobs=-1)\n",
    "rf_rougher_grid.fit(X_train, y_train_rougher)\n",
    "rf_rougher_scores = rf_rougher_grid.best_score_\n",
    "\n",
    "rf_final_grid = GridSearchCV(rf, rf_params, cv=5, scoring=smape_scorer, verbose=True, n_jobs=-1)\n",
    "rf_final_grid.fit(X_train, y_train_final)\n",
    "rf_final_scores = rf_final_grid.best_score_"
   ]
  },
  {
   "cell_type": "code",
   "execution_count": null,
   "metadata": {},
   "outputs": [],
   "source": [
    "# Вывод результатов\n",
    "print(f\"Random Forest sMAPE (Rougher): {-rf_rougher_scores}\")\n",
    "print(f\"Random Forest sMAPE (Final): {-rf_final_scores}\")\n",
    "print(\"Best Random Forest Parameters (Rougher):\", rf_rougher_grid.best_params_)\n",
    "print(\"Best Random Forest Parameters (Final):\", rf_final_grid.best_params_)"
   ]
  },
  {
   "cell_type": "markdown",
   "metadata": {},
   "source": [
    "### Выбираем лучшую модель"
   ]
  },
  {
   "cell_type": "code",
   "execution_count": null,
   "metadata": {},
   "outputs": [],
   "source": [
    "# Выберите лучшие модели для каждой целевой переменной\n",
    "best_model_rougher = tree_grid_rougher.best_estimator_\n",
    "best_model_final = tree_grid_final.best_estimator_\n",
    "\n",
    "# Обучаем модели на полном наборе обучающих данных\n",
    "best_model_rougher.fit(X_train, y_train_rougher)\n",
    "best_model_final.fit(X_train, y_train_final)\n",
    "\n",
    "# Предсказываем значения на тестовой выборке\n",
    "y_pred_rougher = best_model_rougher.predict(X_test)\n",
    "y_pred_final = best_model_final.predict(X_test)\n",
    "\n",
    "# Вычисляем sMAPE для каждой целевой переменной\n",
    "smape_rougher = smape(y_test_rougher, y_pred_rougher)\n",
    "smape_final = smape(y_test_final, y_pred_final)\n",
    "\n",
    "# Вычисляем общий sMAPE\n",
    "overall_smape = final_smape(smape_rougher, smape_final)\n",
    "\n",
    "print(f\"sMAPE (Rougher): {smape_rougher}\")\n",
    "print(f\"sMAPE (Final): {smape_final}\")\n",
    "print(f\"Overall sMAPE: {overall_smape}\")"
   ]
  },
  {
   "cell_type": "markdown",
   "metadata": {},
   "source": [
    "#### Константная модель"
   ]
  },
  {
   "cell_type": "code",
   "execution_count": null,
   "metadata": {},
   "outputs": [],
   "source": [
    "# Создаем константную модель для каждой целевой переменной\n",
    "dummy_rougher = DummyRegressor(strategy='median')\n",
    "dummy_final = DummyRegressor(strategy='median')\n",
    "\n",
    "# Обучаем модели на обучающих данных\n",
    "dummy_rougher.fit(X_train, y_train_rougher)\n",
    "dummy_final.fit(X_train, y_train_final)\n",
    "\n",
    "# Предсказываем значения на тестовой выборке\n",
    "y_dummy_pred_rougher = dummy_rougher.predict(X_test)\n",
    "y_dummy_pred_final = dummy_final.predict(X_test)\n",
    "\n",
    "# Вычисляем sMAPE для каждой целевой переменной\n",
    "smape_dummy_rougher = smape(y_test_rougher, y_dummy_pred_rougher)\n",
    "smape_dummy_final = smape(y_test_final, y_dummy_pred_final)\n",
    "\n",
    "# Вычисляем общий sMAPE\n",
    "overall_smape_dummy = final_smape(smape_dummy_rougher, smape_dummy_final)\n",
    "\n",
    "print(f\"sMAPE Dummy (Rougher): {smape_dummy_rougher}\")\n",
    "print(f\"sMAPE Dummy (Final): {smape_dummy_final}\")\n",
    "print(f\"Overall sMAPE Dummy: {overall_smape_dummy}\")"
   ]
  },
  {
   "cell_type": "markdown",
   "metadata": {},
   "source": [
    "### Вывод"
   ]
  },
  {
   "cell_type": "markdown",
   "metadata": {},
   "source": [
    "В ходе выполнения пункта 3 проекта были рассмотрены и сравнены три различных модели машинного обучения для прогнозирования эффективности обогащения золотосодержащей руды: линейная регрессия, дерево решений и случайный лес.\n",
    "\n",
    "- Линейная регрессия показала сравнительно неплохие результаты, однако, она может не быть самым подходящим выбором для данного случая, так как она может не полностью улавливать сложные зависимости в данных.\n",
    "- Дерево решений показало лучшие результаты, чем линейная регрессия. Оптимальные параметры для этой модели были найдены с использованием кросс-валидации: max_depth = 4 для этапа флотации и max_depth = 2 для финального этапа. Это может говорить о том, что дерево решений лучше улавливает зависимости в данных, чем линейная регрессия.\n",
    "- Случайный лес показал результаты, которые незначительно хуже, чем у дерева решений. Однако, с учетом того, что случайный лес является более сложным алгоритмом и может потребовать больше времени на обучение, в данном случае дерево решений представляется более оптимальным выбором.  \n",
    "\n",
    "В итоге, дерево решений было выбрано как наиболее подходящая модель для прогнозирования эффективности обогащения золотосодержащей руды на основе имеющихся данных. На тестовой выборке дерево решений показало следующие результаты:\n",
    "- sMAPE (Rougher): 6.8\n",
    "- sMAPE (Final): 8.7\n",
    "- Overall sMAPE: 8.2"
   ]
  },
  {
   "cell_type": "markdown",
   "metadata": {},
   "source": [
    "## Общий вывод"
   ]
  },
  {
   "cell_type": "markdown",
   "metadata": {},
   "source": [
    "В ходе выполнения проекта была проведена предобработка данных, анализ концентрации металлов на различных этапах технологического процесса, а также обучение и сравнение моделей машинного обучения для прогнозирования эффективности обогащения золотосодержащей руды.\n",
    "\n",
    "1. В процессе предобработки данных были обработаны пропуски и удалены лишние столбцы. Кроме того, была проведена проверка расчета целевого признака rougher.output.recovery.\n",
    "2. Анализ концентрации металлов (Au, Ag, Pb) на различных этапах технологического процесса показал, что концентрация золота (Au) увеличивается от начального этапа к финальному, что говорит о корректности работы процесса обогащения.\n",
    "3. Были обучены и сравнены три модели машинного обучения: линейная регрессия, дерево решений и случайный лес. На основе метрики sMAPE было установлено, что дерево решений является наиболее подходящей моделью для данной задачи.\n",
    "4. После обучения модели дерева решений на полном наборе обучающих данных и проверки на тестовой выборке были получены следующие результаты: sMAPE (Rougher) = 6.773, sMAPE (Final) = 8.693, и общая sMAPE = 8.213.\n",
    "\n",
    "В итоге, в ходе выполнения проекта была разработана модель, способная предсказывать эффективность обогащения золотосодержащей руды на различных этапах процесса с достаточно высокой точностью. Дерево решений было выбрано как наиболее оптимальная модель на основе имеющихся данных."
   ]
  },
  {
   "cell_type": "markdown",
   "metadata": {},
   "source": [
    "## Чек-лист готовности проекта"
   ]
  },
  {
   "cell_type": "markdown",
   "metadata": {},
   "source": [
    "- [x]  Jupyter Notebook открыт\n",
    "- [x]  Весь код выполняется без ошибок\n",
    "- [x]  Ячейки с кодом расположены в порядке выполнения\n",
    "- [x]  Выполнен шаг 1: данные подготовлены\n",
    "    - [x]  Проверена формула вычисления эффективности обогащения\n",
    "    - [x]  Проанализированы признаки, недоступные в тестовой выборке\n",
    "    - [x]  Проведена предобработка данных\n",
    "- [x]  Выполнен шаг 2: данные проанализированы\n",
    "    - [x]  Исследовано изменение концентрации элементов на каждом этапе\n",
    "    - [x]  Проанализированы распределения размеров гранул на обучающей и тестовой выборках\n",
    "    - [x]  Исследованы суммарные концентрации\n",
    "- [x]  Выполнен шаг 3: построена модель прогнозирования\n",
    "    - [x]  Написана функция для вычисления итогового *sMAPE*\n",
    "    - [x]  Обучено и проверено несколько моделей\n",
    "    - [x]  Выбрана лучшая модель, её качество проверено на тестовой выборке"
   ]
  }
 ],
 "metadata": {
  "ExecuteTimeLog": [
   {
    "duration": 1057,
    "start_time": "2023-05-08T11:16:26.690Z"
   },
   {
    "duration": 2344,
    "start_time": "2023-05-08T11:16:42.322Z"
   },
   {
    "duration": 509,
    "start_time": "2023-05-08T11:17:56.234Z"
   },
   {
    "duration": 764,
    "start_time": "2023-05-08T11:18:21.233Z"
   },
   {
    "duration": 725,
    "start_time": "2023-05-08T11:18:59.694Z"
   },
   {
    "duration": 21,
    "start_time": "2023-05-08T11:19:58.018Z"
   },
   {
    "duration": 20,
    "start_time": "2023-05-08T11:20:14.763Z"
   },
   {
    "duration": 18,
    "start_time": "2023-05-08T11:20:37.004Z"
   },
   {
    "duration": 13,
    "start_time": "2023-05-08T11:20:42.000Z"
   },
   {
    "duration": 19,
    "start_time": "2023-05-08T11:20:52.391Z"
   },
   {
    "duration": 17,
    "start_time": "2023-05-08T11:20:56.314Z"
   },
   {
    "duration": 4,
    "start_time": "2023-05-08T11:21:49.153Z"
   },
   {
    "duration": 19,
    "start_time": "2023-05-08T11:22:59.412Z"
   },
   {
    "duration": 4,
    "start_time": "2023-05-08T11:23:32.848Z"
   },
   {
    "duration": 8,
    "start_time": "2023-05-08T11:24:33.697Z"
   },
   {
    "duration": 16,
    "start_time": "2023-05-08T11:31:52.772Z"
   },
   {
    "duration": 8,
    "start_time": "2023-05-08T11:32:31.633Z"
   },
   {
    "duration": 8,
    "start_time": "2023-05-08T11:32:37.077Z"
   },
   {
    "duration": 5,
    "start_time": "2023-05-08T11:32:48.741Z"
   },
   {
    "duration": 9,
    "start_time": "2023-05-08T11:32:53.128Z"
   },
   {
    "duration": 9,
    "start_time": "2023-05-08T11:33:26.653Z"
   },
   {
    "duration": 10,
    "start_time": "2023-05-08T11:33:53.272Z"
   },
   {
    "duration": 11,
    "start_time": "2023-05-08T11:34:08.322Z"
   },
   {
    "duration": 9,
    "start_time": "2023-05-08T11:34:13.267Z"
   },
   {
    "duration": 12,
    "start_time": "2023-05-08T11:34:18.634Z"
   },
   {
    "duration": 6,
    "start_time": "2023-05-08T11:34:39.850Z"
   },
   {
    "duration": 9,
    "start_time": "2023-05-08T11:34:58.212Z"
   },
   {
    "duration": 4,
    "start_time": "2023-05-08T11:38:01.343Z"
   },
   {
    "duration": 713,
    "start_time": "2023-05-08T11:38:01.348Z"
   },
   {
    "duration": 18,
    "start_time": "2023-05-08T11:38:02.062Z"
   },
   {
    "duration": 46,
    "start_time": "2023-05-08T11:38:02.082Z"
   },
   {
    "duration": 38,
    "start_time": "2023-05-08T11:38:02.130Z"
   },
   {
    "duration": 44,
    "start_time": "2023-05-08T11:38:02.170Z"
   },
   {
    "duration": 50,
    "start_time": "2023-05-08T11:38:02.216Z"
   },
   {
    "duration": 67,
    "start_time": "2023-05-08T11:38:02.268Z"
   },
   {
    "duration": 45,
    "start_time": "2023-05-08T11:38:02.337Z"
   },
   {
    "duration": 67,
    "start_time": "2023-05-08T11:38:02.384Z"
   },
   {
    "duration": 62,
    "start_time": "2023-05-08T11:38:02.452Z"
   },
   {
    "duration": 53,
    "start_time": "2023-05-08T11:38:02.515Z"
   },
   {
    "duration": 51,
    "start_time": "2023-05-08T11:38:02.571Z"
   },
   {
    "duration": 48,
    "start_time": "2023-05-08T11:38:02.624Z"
   },
   {
    "duration": 8,
    "start_time": "2023-05-08T11:39:08.348Z"
   },
   {
    "duration": 7,
    "start_time": "2023-05-08T11:39:20.067Z"
   },
   {
    "duration": 3,
    "start_time": "2023-05-08T11:39:28.214Z"
   },
   {
    "duration": 721,
    "start_time": "2023-05-08T11:39:28.219Z"
   },
   {
    "duration": 23,
    "start_time": "2023-05-08T11:39:28.941Z"
   },
   {
    "duration": 16,
    "start_time": "2023-05-08T11:39:28.966Z"
   },
   {
    "duration": 18,
    "start_time": "2023-05-08T11:39:28.984Z"
   },
   {
    "duration": 11,
    "start_time": "2023-05-08T11:39:29.004Z"
   },
   {
    "duration": 52,
    "start_time": "2023-05-08T11:39:29.016Z"
   },
   {
    "duration": 18,
    "start_time": "2023-05-08T11:39:29.070Z"
   },
   {
    "duration": 12,
    "start_time": "2023-05-08T11:39:29.089Z"
   },
   {
    "duration": 5,
    "start_time": "2023-05-08T11:39:29.102Z"
   },
   {
    "duration": 44,
    "start_time": "2023-05-08T11:39:29.109Z"
   },
   {
    "duration": 22,
    "start_time": "2023-05-08T11:39:29.154Z"
   },
   {
    "duration": 5,
    "start_time": "2023-05-08T11:39:29.178Z"
   },
   {
    "duration": 21,
    "start_time": "2023-05-08T11:39:29.187Z"
   },
   {
    "duration": 129,
    "start_time": "2023-05-08T11:42:39.115Z"
   },
   {
    "duration": 4,
    "start_time": "2023-05-08T11:43:34.800Z"
   },
   {
    "duration": 740,
    "start_time": "2023-05-08T11:43:34.806Z"
   },
   {
    "duration": 20,
    "start_time": "2023-05-08T11:43:35.548Z"
   },
   {
    "duration": 18,
    "start_time": "2023-05-08T11:43:35.570Z"
   },
   {
    "duration": 20,
    "start_time": "2023-05-08T11:43:35.590Z"
   },
   {
    "duration": 47,
    "start_time": "2023-05-08T11:43:35.611Z"
   },
   {
    "duration": 19,
    "start_time": "2023-05-08T11:43:35.660Z"
   },
   {
    "duration": 21,
    "start_time": "2023-05-08T11:43:35.681Z"
   },
   {
    "duration": 9,
    "start_time": "2023-05-08T11:43:35.704Z"
   },
   {
    "duration": 34,
    "start_time": "2023-05-08T11:43:35.715Z"
   },
   {
    "duration": 11,
    "start_time": "2023-05-08T11:43:35.752Z"
   },
   {
    "duration": 22,
    "start_time": "2023-05-08T11:43:35.765Z"
   },
   {
    "duration": 4,
    "start_time": "2023-05-08T11:43:35.789Z"
   },
   {
    "duration": 15,
    "start_time": "2023-05-08T11:43:35.795Z"
   },
   {
    "duration": 5159,
    "start_time": "2023-05-08T13:13:08.661Z"
   },
   {
    "duration": 5203,
    "start_time": "2023-05-08T13:13:31.498Z"
   },
   {
    "duration": 5327,
    "start_time": "2023-05-08T13:15:06.995Z"
   },
   {
    "duration": 5410,
    "start_time": "2023-05-08T13:15:43.117Z"
   },
   {
    "duration": 5187,
    "start_time": "2023-05-08T13:16:07.592Z"
   },
   {
    "duration": 5689,
    "start_time": "2023-05-08T13:18:27.339Z"
   },
   {
    "duration": 5527,
    "start_time": "2023-05-08T13:18:46.829Z"
   },
   {
    "duration": 5328,
    "start_time": "2023-05-08T13:18:59.563Z"
   },
   {
    "duration": 1286,
    "start_time": "2023-05-08T13:21:33.909Z"
   },
   {
    "duration": 4,
    "start_time": "2023-05-08T13:21:41.971Z"
   },
   {
    "duration": 710,
    "start_time": "2023-05-08T13:21:41.978Z"
   },
   {
    "duration": 19,
    "start_time": "2023-05-08T13:21:42.689Z"
   },
   {
    "duration": 16,
    "start_time": "2023-05-08T13:21:42.710Z"
   },
   {
    "duration": 33,
    "start_time": "2023-05-08T13:21:42.728Z"
   },
   {
    "duration": 14,
    "start_time": "2023-05-08T13:21:42.763Z"
   },
   {
    "duration": 20,
    "start_time": "2023-05-08T13:21:42.779Z"
   },
   {
    "duration": 52,
    "start_time": "2023-05-08T13:21:42.801Z"
   },
   {
    "duration": 8,
    "start_time": "2023-05-08T13:21:42.855Z"
   },
   {
    "duration": 9,
    "start_time": "2023-05-08T13:21:42.864Z"
   },
   {
    "duration": 9,
    "start_time": "2023-05-08T13:21:42.875Z"
   },
   {
    "duration": 18,
    "start_time": "2023-05-08T13:21:42.886Z"
   },
   {
    "duration": 4,
    "start_time": "2023-05-08T13:21:42.906Z"
   },
   {
    "duration": 11,
    "start_time": "2023-05-08T13:21:42.948Z"
   },
   {
    "duration": 6523,
    "start_time": "2023-05-08T13:21:42.961Z"
   },
   {
    "duration": 1157,
    "start_time": "2023-05-08T13:21:49.485Z"
   },
   {
    "duration": 1252,
    "start_time": "2023-05-08T13:22:30.795Z"
   },
   {
    "duration": 2404,
    "start_time": "2023-05-08T13:24:12.717Z"
   },
   {
    "duration": 3,
    "start_time": "2023-05-08T13:38:36.870Z"
   },
   {
    "duration": 27,
    "start_time": "2023-05-08T13:41:25.414Z"
   },
   {
    "duration": 1943,
    "start_time": "2023-05-10T13:53:47.207Z"
   },
   {
    "duration": 3312,
    "start_time": "2023-05-10T13:53:49.154Z"
   },
   {
    "duration": 29,
    "start_time": "2023-05-10T13:53:52.469Z"
   },
   {
    "duration": 22,
    "start_time": "2023-05-10T13:53:52.501Z"
   },
   {
    "duration": 26,
    "start_time": "2023-05-10T13:53:52.525Z"
   },
   {
    "duration": 46,
    "start_time": "2023-05-10T13:53:52.553Z"
   },
   {
    "duration": 37,
    "start_time": "2023-05-10T13:53:52.602Z"
   },
   {
    "duration": 36,
    "start_time": "2023-05-10T13:53:52.641Z"
   },
   {
    "duration": 18,
    "start_time": "2023-05-10T13:53:52.679Z"
   },
   {
    "duration": 9,
    "start_time": "2023-05-10T13:53:52.701Z"
   },
   {
    "duration": 11,
    "start_time": "2023-05-10T13:53:52.712Z"
   },
   {
    "duration": 63,
    "start_time": "2023-05-10T13:53:52.743Z"
   },
   {
    "duration": 5,
    "start_time": "2023-05-10T13:53:52.808Z"
   },
   {
    "duration": 20,
    "start_time": "2023-05-10T13:53:52.816Z"
   },
   {
    "duration": 6630,
    "start_time": "2023-05-10T13:53:52.839Z"
   },
   {
    "duration": 1417,
    "start_time": "2023-05-10T13:53:59.475Z"
   },
   {
    "duration": 4747,
    "start_time": "2023-05-10T13:54:00.895Z"
   },
   {
    "duration": 5,
    "start_time": "2023-05-10T13:54:05.645Z"
   },
   {
    "duration": 154,
    "start_time": "2023-05-10T13:57:59.466Z"
   },
   {
    "duration": 6,
    "start_time": "2023-05-10T13:58:08.067Z"
   },
   {
    "duration": 1078,
    "start_time": "2023-05-10T13:58:08.076Z"
   },
   {
    "duration": 30,
    "start_time": "2023-05-10T13:58:09.157Z"
   },
   {
    "duration": 23,
    "start_time": "2023-05-10T13:58:09.189Z"
   },
   {
    "duration": 53,
    "start_time": "2023-05-10T13:58:09.215Z"
   },
   {
    "duration": 26,
    "start_time": "2023-05-10T13:58:09.270Z"
   },
   {
    "duration": 45,
    "start_time": "2023-05-10T13:58:09.298Z"
   },
   {
    "duration": 33,
    "start_time": "2023-05-10T13:58:09.346Z"
   },
   {
    "duration": 12,
    "start_time": "2023-05-10T13:58:09.381Z"
   },
   {
    "duration": 7,
    "start_time": "2023-05-10T13:58:09.395Z"
   },
   {
    "duration": 46,
    "start_time": "2023-05-10T13:58:09.404Z"
   },
   {
    "duration": 48,
    "start_time": "2023-05-10T13:58:09.451Z"
   },
   {
    "duration": 5,
    "start_time": "2023-05-10T13:58:09.502Z"
   },
   {
    "duration": 20,
    "start_time": "2023-05-10T13:58:09.511Z"
   },
   {
    "duration": 8112,
    "start_time": "2023-05-10T13:58:09.533Z"
   },
   {
    "duration": 1602,
    "start_time": "2023-05-10T13:58:17.648Z"
   },
   {
    "duration": 3239,
    "start_time": "2023-05-10T13:58:19.252Z"
   },
   {
    "duration": 5,
    "start_time": "2023-05-10T13:58:22.494Z"
   },
   {
    "duration": 47,
    "start_time": "2023-05-10T13:58:22.501Z"
   },
   {
    "duration": 6,
    "start_time": "2023-05-10T13:59:16.984Z"
   },
   {
    "duration": 3825,
    "start_time": "2023-05-10T14:02:46.277Z"
   },
   {
    "duration": 6,
    "start_time": "2023-05-10T14:05:10.671Z"
   },
   {
    "duration": 948,
    "start_time": "2023-05-10T14:05:10.680Z"
   },
   {
    "duration": 35,
    "start_time": "2023-05-10T14:05:11.630Z"
   },
   {
    "duration": 42,
    "start_time": "2023-05-10T14:05:11.667Z"
   },
   {
    "duration": 32,
    "start_time": "2023-05-10T14:05:11.712Z"
   },
   {
    "duration": 207,
    "start_time": "2023-05-10T14:05:11.747Z"
   },
   {
    "duration": 48,
    "start_time": "2023-05-10T14:05:11.959Z"
   },
   {
    "duration": 29,
    "start_time": "2023-05-10T14:05:12.009Z"
   },
   {
    "duration": 66,
    "start_time": "2023-05-10T14:05:12.043Z"
   },
   {
    "duration": 95,
    "start_time": "2023-05-10T14:05:12.111Z"
   },
   {
    "duration": 23,
    "start_time": "2023-05-10T14:05:12.208Z"
   },
   {
    "duration": 70,
    "start_time": "2023-05-10T14:05:12.233Z"
   },
   {
    "duration": 5,
    "start_time": "2023-05-10T14:05:12.306Z"
   },
   {
    "duration": 23,
    "start_time": "2023-05-10T14:05:12.313Z"
   },
   {
    "duration": 7994,
    "start_time": "2023-05-10T14:05:12.338Z"
   },
   {
    "duration": 1409,
    "start_time": "2023-05-10T14:05:20.340Z"
   },
   {
    "duration": 3372,
    "start_time": "2023-05-10T14:05:21.751Z"
   },
   {
    "duration": 4,
    "start_time": "2023-05-10T14:05:25.126Z"
   },
   {
    "duration": 36,
    "start_time": "2023-05-10T14:05:25.142Z"
   },
   {
    "duration": 41,
    "start_time": "2023-05-10T14:05:25.180Z"
   },
   {
    "duration": 45,
    "start_time": "2023-05-10T14:05:45.212Z"
   },
   {
    "duration": 6,
    "start_time": "2023-05-10T14:10:21.866Z"
   },
   {
    "duration": 23,
    "start_time": "2023-05-10T14:11:11.830Z"
   },
   {
    "duration": 648,
    "start_time": "2023-05-10T14:27:08.259Z"
   },
   {
    "duration": 833,
    "start_time": "2023-05-10T14:27:26.209Z"
   },
   {
    "duration": 29,
    "start_time": "2023-05-10T14:27:54.794Z"
   },
   {
    "duration": 614,
    "start_time": "2023-05-10T14:27:57.393Z"
   },
   {
    "duration": 47,
    "start_time": "2023-05-10T14:28:30.636Z"
   },
   {
    "duration": 658,
    "start_time": "2023-05-10T14:28:33.021Z"
   },
   {
    "duration": 644,
    "start_time": "2023-05-10T14:28:53.341Z"
   },
   {
    "duration": 6,
    "start_time": "2023-05-10T14:28:56.018Z"
   },
   {
    "duration": 959,
    "start_time": "2023-05-10T14:28:56.027Z"
   },
   {
    "duration": 25,
    "start_time": "2023-05-10T14:28:56.988Z"
   },
   {
    "duration": 59,
    "start_time": "2023-05-10T14:28:57.015Z"
   },
   {
    "duration": 44,
    "start_time": "2023-05-10T14:28:57.079Z"
   },
   {
    "duration": 57,
    "start_time": "2023-05-10T14:28:57.125Z"
   },
   {
    "duration": 47,
    "start_time": "2023-05-10T14:28:57.184Z"
   },
   {
    "duration": 44,
    "start_time": "2023-05-10T14:28:57.233Z"
   },
   {
    "duration": 17,
    "start_time": "2023-05-10T14:28:57.279Z"
   },
   {
    "duration": 39,
    "start_time": "2023-05-10T14:28:57.297Z"
   },
   {
    "duration": 46,
    "start_time": "2023-05-10T14:28:57.338Z"
   },
   {
    "duration": 27,
    "start_time": "2023-05-10T14:28:57.386Z"
   },
   {
    "duration": 6,
    "start_time": "2023-05-10T14:28:57.415Z"
   },
   {
    "duration": 13,
    "start_time": "2023-05-10T14:28:57.425Z"
   },
   {
    "duration": 8107,
    "start_time": "2023-05-10T14:28:57.440Z"
   },
   {
    "duration": 1838,
    "start_time": "2023-05-10T14:29:05.550Z"
   },
   {
    "duration": 3342,
    "start_time": "2023-05-10T14:29:07.390Z"
   },
   {
    "duration": 5,
    "start_time": "2023-05-10T14:29:10.742Z"
   },
   {
    "duration": 72,
    "start_time": "2023-05-10T14:29:10.749Z"
   },
   {
    "duration": 669,
    "start_time": "2023-05-10T14:29:10.823Z"
   },
   {
    "duration": 17,
    "start_time": "2023-05-10T14:29:11.495Z"
   },
   {
    "duration": 0,
    "start_time": "2023-05-10T14:29:11.514Z"
   },
   {
    "duration": 5,
    "start_time": "2023-05-10T14:29:32.798Z"
   },
   {
    "duration": 6,
    "start_time": "2023-05-10T14:30:47.782Z"
   },
   {
    "duration": 31,
    "start_time": "2023-05-10T14:35:26.399Z"
   },
   {
    "duration": 8064,
    "start_time": "2023-05-10T14:35:28.617Z"
   },
   {
    "duration": 1899,
    "start_time": "2023-05-10T14:38:40.488Z"
   },
   {
    "duration": 921,
    "start_time": "2023-05-10T14:38:42.389Z"
   },
   {
    "duration": 43,
    "start_time": "2023-05-10T14:38:43.312Z"
   },
   {
    "duration": 29,
    "start_time": "2023-05-10T14:38:43.358Z"
   },
   {
    "duration": 25,
    "start_time": "2023-05-10T14:38:43.389Z"
   },
   {
    "duration": 41,
    "start_time": "2023-05-10T14:38:43.416Z"
   },
   {
    "duration": 47,
    "start_time": "2023-05-10T14:38:43.460Z"
   },
   {
    "duration": 29,
    "start_time": "2023-05-10T14:38:43.509Z"
   },
   {
    "duration": 13,
    "start_time": "2023-05-10T14:38:43.540Z"
   },
   {
    "duration": 39,
    "start_time": "2023-05-10T14:38:43.558Z"
   },
   {
    "duration": 18,
    "start_time": "2023-05-10T14:38:43.599Z"
   },
   {
    "duration": 52,
    "start_time": "2023-05-10T14:38:43.619Z"
   },
   {
    "duration": 10,
    "start_time": "2023-05-10T14:38:43.675Z"
   },
   {
    "duration": 20,
    "start_time": "2023-05-10T14:38:43.687Z"
   },
   {
    "duration": 8387,
    "start_time": "2023-05-10T14:38:43.709Z"
   },
   {
    "duration": 1470,
    "start_time": "2023-05-10T14:38:52.120Z"
   },
   {
    "duration": 3314,
    "start_time": "2023-05-10T14:38:53.593Z"
   },
   {
    "duration": 4,
    "start_time": "2023-05-10T14:38:56.909Z"
   },
   {
    "duration": 158,
    "start_time": "2023-05-10T14:38:56.914Z"
   },
   {
    "duration": 5989,
    "start_time": "2023-05-10T14:38:57.074Z"
   },
   {
    "duration": 133664,
    "start_time": "2023-05-10T14:39:03.065Z"
   },
   {
    "duration": 0,
    "start_time": "2023-05-10T14:41:16.732Z"
   },
   {
    "duration": 0,
    "start_time": "2023-05-10T14:41:16.733Z"
   },
   {
    "duration": 194463,
    "start_time": "2023-05-10T14:43:32.166Z"
   },
   {
    "duration": 0,
    "start_time": "2023-05-10T14:46:46.631Z"
   },
   {
    "duration": 6,
    "start_time": "2023-05-10T14:47:39.033Z"
   },
   {
    "duration": 1714,
    "start_time": "2023-05-10T14:53:21.704Z"
   },
   {
    "duration": 922,
    "start_time": "2023-05-10T14:53:23.420Z"
   },
   {
    "duration": 36,
    "start_time": "2023-05-10T14:53:24.345Z"
   },
   {
    "duration": 24,
    "start_time": "2023-05-10T14:53:24.383Z"
   },
   {
    "duration": 57,
    "start_time": "2023-05-10T14:53:24.409Z"
   },
   {
    "duration": 25,
    "start_time": "2023-05-10T14:53:24.468Z"
   },
   {
    "duration": 29,
    "start_time": "2023-05-10T14:53:24.495Z"
   },
   {
    "duration": 40,
    "start_time": "2023-05-10T14:53:24.540Z"
   },
   {
    "duration": 19,
    "start_time": "2023-05-10T14:53:24.582Z"
   },
   {
    "duration": 24,
    "start_time": "2023-05-10T14:53:24.604Z"
   },
   {
    "duration": 41,
    "start_time": "2023-05-10T14:53:24.630Z"
   },
   {
    "duration": 38,
    "start_time": "2023-05-10T14:53:24.673Z"
   },
   {
    "duration": 4,
    "start_time": "2023-05-10T14:53:24.714Z"
   },
   {
    "duration": 40,
    "start_time": "2023-05-10T14:53:24.721Z"
   },
   {
    "duration": 6713,
    "start_time": "2023-05-10T14:53:24.762Z"
   },
   {
    "duration": 1557,
    "start_time": "2023-05-10T14:53:31.478Z"
   },
   {
    "duration": 3859,
    "start_time": "2023-05-10T14:53:33.038Z"
   },
   {
    "duration": 5,
    "start_time": "2023-05-10T14:53:36.901Z"
   },
   {
    "duration": 63,
    "start_time": "2023-05-10T14:53:36.908Z"
   },
   {
    "duration": 6300,
    "start_time": "2023-05-10T14:53:36.972Z"
   },
   {
    "duration": 201057,
    "start_time": "2023-05-10T14:53:43.345Z"
   },
   {
    "duration": 5,
    "start_time": "2023-05-10T14:57:04.405Z"
   },
   {
    "duration": 296063,
    "start_time": "2023-05-10T14:57:04.413Z"
   },
   {
    "duration": 0,
    "start_time": "2023-05-10T15:02:00.478Z"
   },
   {
    "duration": 0,
    "start_time": "2023-05-10T15:02:00.480Z"
   },
   {
    "duration": 6,
    "start_time": "2023-05-10T15:04:39.168Z"
   },
   {
    "duration": 5,
    "start_time": "2023-05-10T15:04:45.062Z"
   },
   {
    "duration": 5,
    "start_time": "2023-05-10T15:05:30.576Z"
   },
   {
    "duration": 10,
    "start_time": "2023-05-10T15:05:44.410Z"
   },
   {
    "duration": 1712,
    "start_time": "2023-05-10T15:07:20.322Z"
   },
   {
    "duration": 898,
    "start_time": "2023-05-10T15:07:22.036Z"
   },
   {
    "duration": 33,
    "start_time": "2023-05-10T15:07:22.936Z"
   },
   {
    "duration": 31,
    "start_time": "2023-05-10T15:07:22.971Z"
   },
   {
    "duration": 47,
    "start_time": "2023-05-10T15:07:23.005Z"
   },
   {
    "duration": 34,
    "start_time": "2023-05-10T15:07:23.054Z"
   },
   {
    "duration": 32,
    "start_time": "2023-05-10T15:07:23.091Z"
   },
   {
    "duration": 56,
    "start_time": "2023-05-10T15:07:23.125Z"
   },
   {
    "duration": 13,
    "start_time": "2023-05-10T15:07:23.183Z"
   },
   {
    "duration": 9,
    "start_time": "2023-05-10T15:07:23.199Z"
   },
   {
    "duration": 44,
    "start_time": "2023-05-10T15:07:23.210Z"
   },
   {
    "duration": 50,
    "start_time": "2023-05-10T15:07:23.257Z"
   },
   {
    "duration": 4,
    "start_time": "2023-05-10T15:07:23.309Z"
   },
   {
    "duration": 16,
    "start_time": "2023-05-10T15:07:23.318Z"
   },
   {
    "duration": 67,
    "start_time": "2023-05-10T15:07:23.336Z"
   },
   {
    "duration": 4365,
    "start_time": "2023-05-10T15:07:23.405Z"
   },
   {
    "duration": 0,
    "start_time": "2023-05-10T15:07:27.771Z"
   },
   {
    "duration": 0,
    "start_time": "2023-05-10T15:07:27.773Z"
   },
   {
    "duration": 0,
    "start_time": "2023-05-10T15:07:27.774Z"
   },
   {
    "duration": 0,
    "start_time": "2023-05-10T15:07:27.775Z"
   },
   {
    "duration": 0,
    "start_time": "2023-05-10T15:07:27.776Z"
   },
   {
    "duration": 0,
    "start_time": "2023-05-10T15:07:27.778Z"
   },
   {
    "duration": 0,
    "start_time": "2023-05-10T15:07:27.779Z"
   },
   {
    "duration": 0,
    "start_time": "2023-05-10T15:07:27.780Z"
   },
   {
    "duration": 0,
    "start_time": "2023-05-10T15:07:27.780Z"
   },
   {
    "duration": 0,
    "start_time": "2023-05-10T15:07:27.782Z"
   },
   {
    "duration": 0,
    "start_time": "2023-05-10T15:07:27.783Z"
   },
   {
    "duration": 0,
    "start_time": "2023-05-10T15:07:27.784Z"
   },
   {
    "duration": 5,
    "start_time": "2023-05-10T15:07:55.811Z"
   },
   {
    "duration": 965,
    "start_time": "2023-05-10T15:07:55.818Z"
   },
   {
    "duration": 34,
    "start_time": "2023-05-10T15:07:56.785Z"
   },
   {
    "duration": 37,
    "start_time": "2023-05-10T15:07:56.821Z"
   },
   {
    "duration": 34,
    "start_time": "2023-05-10T15:07:56.862Z"
   },
   {
    "duration": 24,
    "start_time": "2023-05-10T15:07:56.898Z"
   },
   {
    "duration": 51,
    "start_time": "2023-05-10T15:07:56.924Z"
   },
   {
    "duration": 30,
    "start_time": "2023-05-10T15:07:56.977Z"
   },
   {
    "duration": 9,
    "start_time": "2023-05-10T15:07:57.009Z"
   },
   {
    "duration": 33,
    "start_time": "2023-05-10T15:07:57.020Z"
   },
   {
    "duration": 19,
    "start_time": "2023-05-10T15:07:57.056Z"
   },
   {
    "duration": 36,
    "start_time": "2023-05-10T15:07:57.077Z"
   },
   {
    "duration": 5,
    "start_time": "2023-05-10T15:07:57.115Z"
   },
   {
    "duration": 17,
    "start_time": "2023-05-10T15:07:57.123Z"
   },
   {
    "duration": 34,
    "start_time": "2023-05-10T15:07:57.141Z"
   },
   {
    "duration": 3434,
    "start_time": "2023-05-10T15:07:57.177Z"
   },
   {
    "duration": 0,
    "start_time": "2023-05-10T15:08:00.613Z"
   },
   {
    "duration": 0,
    "start_time": "2023-05-10T15:08:00.616Z"
   },
   {
    "duration": 0,
    "start_time": "2023-05-10T15:08:00.618Z"
   },
   {
    "duration": 0,
    "start_time": "2023-05-10T15:08:00.620Z"
   },
   {
    "duration": 0,
    "start_time": "2023-05-10T15:08:00.622Z"
   },
   {
    "duration": 0,
    "start_time": "2023-05-10T15:08:00.642Z"
   },
   {
    "duration": 0,
    "start_time": "2023-05-10T15:08:00.643Z"
   },
   {
    "duration": 0,
    "start_time": "2023-05-10T15:08:00.645Z"
   },
   {
    "duration": 0,
    "start_time": "2023-05-10T15:08:00.646Z"
   },
   {
    "duration": 0,
    "start_time": "2023-05-10T15:08:00.647Z"
   },
   {
    "duration": 0,
    "start_time": "2023-05-10T15:08:00.648Z"
   },
   {
    "duration": 0,
    "start_time": "2023-05-10T15:08:00.649Z"
   },
   {
    "duration": 4,
    "start_time": "2023-05-10T15:18:17.965Z"
   },
   {
    "duration": 843,
    "start_time": "2023-05-10T15:18:17.972Z"
   },
   {
    "duration": 40,
    "start_time": "2023-05-10T15:18:18.817Z"
   },
   {
    "duration": 23,
    "start_time": "2023-05-10T15:18:18.859Z"
   },
   {
    "duration": 26,
    "start_time": "2023-05-10T15:18:18.886Z"
   },
   {
    "duration": 40,
    "start_time": "2023-05-10T15:18:18.914Z"
   },
   {
    "duration": 55,
    "start_time": "2023-05-10T15:18:18.957Z"
   },
   {
    "duration": 30,
    "start_time": "2023-05-10T15:18:19.015Z"
   },
   {
    "duration": 15,
    "start_time": "2023-05-10T15:18:19.047Z"
   },
   {
    "duration": 23,
    "start_time": "2023-05-10T15:18:19.064Z"
   },
   {
    "duration": 26,
    "start_time": "2023-05-10T15:18:19.088Z"
   },
   {
    "duration": 46,
    "start_time": "2023-05-10T15:18:19.117Z"
   },
   {
    "duration": 13,
    "start_time": "2023-05-10T15:18:19.165Z"
   },
   {
    "duration": 28,
    "start_time": "2023-05-10T15:18:19.181Z"
   },
   {
    "duration": 7756,
    "start_time": "2023-05-10T15:18:19.211Z"
   },
   {
    "duration": 1586,
    "start_time": "2023-05-10T15:18:26.992Z"
   },
   {
    "duration": 3184,
    "start_time": "2023-05-10T15:18:28.580Z"
   },
   {
    "duration": 4,
    "start_time": "2023-05-10T15:18:31.766Z"
   },
   {
    "duration": 20,
    "start_time": "2023-05-10T15:18:31.772Z"
   },
   {
    "duration": 0,
    "start_time": "2023-05-10T15:18:31.794Z"
   },
   {
    "duration": 0,
    "start_time": "2023-05-10T15:18:31.796Z"
   },
   {
    "duration": 0,
    "start_time": "2023-05-10T15:18:31.797Z"
   },
   {
    "duration": 0,
    "start_time": "2023-05-10T15:18:31.798Z"
   },
   {
    "duration": 0,
    "start_time": "2023-05-10T15:18:31.800Z"
   },
   {
    "duration": 0,
    "start_time": "2023-05-10T15:18:31.801Z"
   },
   {
    "duration": 0,
    "start_time": "2023-05-10T15:18:31.803Z"
   },
   {
    "duration": 0,
    "start_time": "2023-05-10T15:18:31.804Z"
   },
   {
    "duration": 44,
    "start_time": "2023-05-10T15:19:17.317Z"
   },
   {
    "duration": 5,
    "start_time": "2023-05-10T15:19:19.402Z"
   },
   {
    "duration": 31,
    "start_time": "2023-05-10T15:19:54.961Z"
   },
   {
    "duration": 4,
    "start_time": "2023-05-10T15:20:00.982Z"
   },
   {
    "duration": 38,
    "start_time": "2023-05-10T15:23:56.939Z"
   },
   {
    "duration": 4,
    "start_time": "2023-05-10T15:23:58.175Z"
   },
   {
    "duration": 1751,
    "start_time": "2023-05-10T15:30:00.184Z"
   },
   {
    "duration": 895,
    "start_time": "2023-05-10T15:30:01.937Z"
   },
   {
    "duration": 37,
    "start_time": "2023-05-10T15:30:02.834Z"
   },
   {
    "duration": 41,
    "start_time": "2023-05-10T15:30:02.874Z"
   },
   {
    "duration": 83,
    "start_time": "2023-05-10T15:30:02.917Z"
   },
   {
    "duration": 82,
    "start_time": "2023-05-10T15:30:03.002Z"
   },
   {
    "duration": 39,
    "start_time": "2023-05-10T15:30:03.087Z"
   },
   {
    "duration": 60,
    "start_time": "2023-05-10T15:30:03.128Z"
   },
   {
    "duration": 22,
    "start_time": "2023-05-10T15:30:03.189Z"
   },
   {
    "duration": 48,
    "start_time": "2023-05-10T15:30:03.215Z"
   },
   {
    "duration": 57,
    "start_time": "2023-05-10T15:30:03.266Z"
   },
   {
    "duration": 130,
    "start_time": "2023-05-10T15:30:03.325Z"
   },
   {
    "duration": 6,
    "start_time": "2023-05-10T15:30:03.458Z"
   },
   {
    "duration": 37,
    "start_time": "2023-05-10T15:30:03.466Z"
   },
   {
    "duration": 6443,
    "start_time": "2023-05-10T15:30:03.505Z"
   },
   {
    "duration": 1353,
    "start_time": "2023-05-10T15:30:09.957Z"
   },
   {
    "duration": 3424,
    "start_time": "2023-05-10T15:30:11.312Z"
   },
   {
    "duration": 13,
    "start_time": "2023-05-10T15:30:14.738Z"
   },
   {
    "duration": 167,
    "start_time": "2023-05-10T15:30:14.754Z"
   },
   {
    "duration": 0,
    "start_time": "2023-05-10T15:30:14.923Z"
   },
   {
    "duration": 0,
    "start_time": "2023-05-10T15:30:14.924Z"
   },
   {
    "duration": 0,
    "start_time": "2023-05-10T15:30:14.925Z"
   },
   {
    "duration": 0,
    "start_time": "2023-05-10T15:30:14.927Z"
   },
   {
    "duration": 0,
    "start_time": "2023-05-10T15:30:14.928Z"
   },
   {
    "duration": 0,
    "start_time": "2023-05-10T15:30:14.946Z"
   },
   {
    "duration": 1,
    "start_time": "2023-05-10T15:30:14.947Z"
   },
   {
    "duration": 0,
    "start_time": "2023-05-10T15:30:14.948Z"
   },
   {
    "duration": 0,
    "start_time": "2023-05-10T15:30:14.950Z"
   },
   {
    "duration": 60,
    "start_time": "2023-05-10T15:31:00.739Z"
   },
   {
    "duration": 4,
    "start_time": "2023-05-10T15:31:03.584Z"
   },
   {
    "duration": 846,
    "start_time": "2023-05-10T15:31:03.590Z"
   },
   {
    "duration": 32,
    "start_time": "2023-05-10T15:31:04.447Z"
   },
   {
    "duration": 49,
    "start_time": "2023-05-10T15:31:04.482Z"
   },
   {
    "duration": 51,
    "start_time": "2023-05-10T15:31:04.533Z"
   },
   {
    "duration": 44,
    "start_time": "2023-05-10T15:31:04.587Z"
   },
   {
    "duration": 60,
    "start_time": "2023-05-10T15:31:04.634Z"
   },
   {
    "duration": 29,
    "start_time": "2023-05-10T15:31:04.696Z"
   },
   {
    "duration": 11,
    "start_time": "2023-05-10T15:31:04.727Z"
   },
   {
    "duration": 55,
    "start_time": "2023-05-10T15:31:04.741Z"
   },
   {
    "duration": 52,
    "start_time": "2023-05-10T15:31:04.798Z"
   },
   {
    "duration": 65,
    "start_time": "2023-05-10T15:31:04.853Z"
   },
   {
    "duration": 27,
    "start_time": "2023-05-10T15:31:04.920Z"
   },
   {
    "duration": 26,
    "start_time": "2023-05-10T15:31:04.950Z"
   },
   {
    "duration": 6265,
    "start_time": "2023-05-10T15:31:04.979Z"
   },
   {
    "duration": 1627,
    "start_time": "2023-05-10T15:31:11.259Z"
   },
   {
    "duration": 3221,
    "start_time": "2023-05-10T15:31:12.888Z"
   },
   {
    "duration": 6,
    "start_time": "2023-05-10T15:31:16.112Z"
   },
   {
    "duration": 91,
    "start_time": "2023-05-10T15:31:16.120Z"
   },
   {
    "duration": 12,
    "start_time": "2023-05-10T15:31:16.214Z"
   },
   {
    "duration": 21,
    "start_time": "2023-05-10T15:31:16.228Z"
   },
   {
    "duration": 1667,
    "start_time": "2023-05-10T15:34:09.396Z"
   },
   {
    "duration": 892,
    "start_time": "2023-05-10T15:34:11.065Z"
   },
   {
    "duration": 34,
    "start_time": "2023-05-10T15:34:11.959Z"
   },
   {
    "duration": 22,
    "start_time": "2023-05-10T15:34:11.996Z"
   },
   {
    "duration": 31,
    "start_time": "2023-05-10T15:34:12.041Z"
   },
   {
    "duration": 18,
    "start_time": "2023-05-10T15:34:12.074Z"
   },
   {
    "duration": 56,
    "start_time": "2023-05-10T15:34:12.095Z"
   },
   {
    "duration": 23,
    "start_time": "2023-05-10T15:34:12.153Z"
   },
   {
    "duration": 11,
    "start_time": "2023-05-10T15:34:12.179Z"
   },
   {
    "duration": 9,
    "start_time": "2023-05-10T15:34:12.192Z"
   },
   {
    "duration": 57,
    "start_time": "2023-05-10T15:34:12.204Z"
   },
   {
    "duration": 33,
    "start_time": "2023-05-10T15:34:12.264Z"
   },
   {
    "duration": 5,
    "start_time": "2023-05-10T15:34:12.298Z"
   },
   {
    "duration": 20,
    "start_time": "2023-05-10T15:34:12.309Z"
   },
   {
    "duration": 7455,
    "start_time": "2023-05-10T15:34:12.344Z"
   },
   {
    "duration": 1554,
    "start_time": "2023-05-10T15:34:19.801Z"
   },
   {
    "duration": 3073,
    "start_time": "2023-05-10T15:34:21.358Z"
   },
   {
    "duration": 10,
    "start_time": "2023-05-10T15:34:24.433Z"
   },
   {
    "duration": 168,
    "start_time": "2023-05-10T15:34:24.449Z"
   },
   {
    "duration": 0,
    "start_time": "2023-05-10T15:34:24.619Z"
   },
   {
    "duration": 0,
    "start_time": "2023-05-10T15:34:24.623Z"
   },
   {
    "duration": 0,
    "start_time": "2023-05-10T15:34:24.626Z"
   },
   {
    "duration": 0,
    "start_time": "2023-05-10T15:34:24.627Z"
   },
   {
    "duration": 0,
    "start_time": "2023-05-10T15:34:24.629Z"
   },
   {
    "duration": 0,
    "start_time": "2023-05-10T15:34:24.643Z"
   },
   {
    "duration": 0,
    "start_time": "2023-05-10T15:34:24.644Z"
   },
   {
    "duration": 0,
    "start_time": "2023-05-10T15:34:24.646Z"
   },
   {
    "duration": 0,
    "start_time": "2023-05-10T15:34:24.647Z"
   },
   {
    "duration": 40,
    "start_time": "2023-05-10T15:34:47.959Z"
   },
   {
    "duration": 5,
    "start_time": "2023-05-10T15:34:49.996Z"
   },
   {
    "duration": 5,
    "start_time": "2023-05-10T15:34:53.577Z"
   },
   {
    "duration": 925,
    "start_time": "2023-05-10T15:34:53.584Z"
   },
   {
    "duration": 33,
    "start_time": "2023-05-10T15:34:54.511Z"
   },
   {
    "duration": 32,
    "start_time": "2023-05-10T15:34:54.546Z"
   },
   {
    "duration": 24,
    "start_time": "2023-05-10T15:34:54.580Z"
   },
   {
    "duration": 49,
    "start_time": "2023-05-10T15:34:54.605Z"
   },
   {
    "duration": 25,
    "start_time": "2023-05-10T15:34:54.656Z"
   },
   {
    "duration": 31,
    "start_time": "2023-05-10T15:34:54.683Z"
   },
   {
    "duration": 41,
    "start_time": "2023-05-10T15:34:54.717Z"
   },
   {
    "duration": 9,
    "start_time": "2023-05-10T15:34:54.760Z"
   },
   {
    "duration": 14,
    "start_time": "2023-05-10T15:34:54.771Z"
   },
   {
    "duration": 56,
    "start_time": "2023-05-10T15:34:54.787Z"
   },
   {
    "duration": 8,
    "start_time": "2023-05-10T15:34:54.845Z"
   },
   {
    "duration": 28,
    "start_time": "2023-05-10T15:34:54.858Z"
   },
   {
    "duration": 6323,
    "start_time": "2023-05-10T15:34:54.888Z"
   },
   {
    "duration": 1646,
    "start_time": "2023-05-10T15:35:01.214Z"
   },
   {
    "duration": 3023,
    "start_time": "2023-05-10T15:35:02.862Z"
   },
   {
    "duration": 6,
    "start_time": "2023-05-10T15:35:05.887Z"
   },
   {
    "duration": 65,
    "start_time": "2023-05-10T15:35:05.895Z"
   },
   {
    "duration": 5,
    "start_time": "2023-05-10T15:35:05.963Z"
   },
   {
    "duration": 20,
    "start_time": "2023-05-10T15:35:05.970Z"
   },
   {
    "duration": 1987,
    "start_time": "2023-05-10T15:40:31.154Z"
   },
   {
    "duration": 854,
    "start_time": "2023-05-10T15:40:33.143Z"
   },
   {
    "duration": 31,
    "start_time": "2023-05-10T15:40:33.999Z"
   },
   {
    "duration": 22,
    "start_time": "2023-05-10T15:40:34.042Z"
   },
   {
    "duration": 25,
    "start_time": "2023-05-10T15:40:34.067Z"
   },
   {
    "duration": 26,
    "start_time": "2023-05-10T15:40:34.094Z"
   },
   {
    "duration": 162,
    "start_time": "2023-05-10T15:40:34.142Z"
   },
   {
    "duration": 52,
    "start_time": "2023-05-10T15:40:34.307Z"
   },
   {
    "duration": 11,
    "start_time": "2023-05-10T15:40:34.361Z"
   },
   {
    "duration": 19,
    "start_time": "2023-05-10T15:40:34.373Z"
   },
   {
    "duration": 108,
    "start_time": "2023-05-10T15:40:34.394Z"
   },
   {
    "duration": 36,
    "start_time": "2023-05-10T15:40:34.504Z"
   },
   {
    "duration": 5,
    "start_time": "2023-05-10T15:40:34.542Z"
   },
   {
    "duration": 16,
    "start_time": "2023-05-10T15:40:34.550Z"
   },
   {
    "duration": 6503,
    "start_time": "2023-05-10T15:40:34.568Z"
   },
   {
    "duration": 1270,
    "start_time": "2023-05-10T15:40:41.073Z"
   },
   {
    "duration": 3243,
    "start_time": "2023-05-10T15:40:42.344Z"
   },
   {
    "duration": 5,
    "start_time": "2023-05-10T15:40:45.588Z"
   },
   {
    "duration": 65,
    "start_time": "2023-05-10T15:40:45.595Z"
   },
   {
    "duration": 6,
    "start_time": "2023-05-10T15:40:45.662Z"
   },
   {
    "duration": 24,
    "start_time": "2023-05-10T15:40:45.669Z"
   },
   {
    "duration": 3352,
    "start_time": "2023-05-10T15:40:45.695Z"
   },
   {
    "duration": 26778,
    "start_time": "2023-05-10T15:40:49.050Z"
   },
   {
    "duration": 11,
    "start_time": "2023-05-10T15:41:15.830Z"
   },
   {
    "duration": 2794824,
    "start_time": "2023-05-10T15:41:15.843Z"
   },
   {
    "duration": 4,
    "start_time": "2023-05-10T16:27:50.669Z"
   },
   {
    "duration": 20,
    "start_time": "2023-05-10T16:27:50.675Z"
   },
   {
    "duration": 26674,
    "start_time": "2023-05-10T16:27:50.698Z"
   },
   {
    "duration": 4,
    "start_time": "2023-05-10T16:28:17.374Z"
   },
   {
    "duration": 1601,
    "start_time": "2023-05-10T20:26:41.930Z"
   },
   {
    "duration": 2908,
    "start_time": "2023-05-10T20:26:43.533Z"
   },
   {
    "duration": 28,
    "start_time": "2023-05-10T20:26:46.442Z"
   },
   {
    "duration": 26,
    "start_time": "2023-05-10T20:26:46.472Z"
   },
   {
    "duration": 23,
    "start_time": "2023-05-10T20:26:46.500Z"
   },
   {
    "duration": 19,
    "start_time": "2023-05-10T20:26:46.524Z"
   },
   {
    "duration": 21,
    "start_time": "2023-05-10T20:26:46.544Z"
   },
   {
    "duration": 20,
    "start_time": "2023-05-10T20:26:46.593Z"
   },
   {
    "duration": 9,
    "start_time": "2023-05-10T20:26:46.614Z"
   },
   {
    "duration": 5,
    "start_time": "2023-05-10T20:26:46.625Z"
   },
   {
    "duration": 10,
    "start_time": "2023-05-10T20:26:46.632Z"
   },
   {
    "duration": 78,
    "start_time": "2023-05-10T20:26:46.643Z"
   },
   {
    "duration": 4,
    "start_time": "2023-05-10T20:26:46.723Z"
   },
   {
    "duration": 8,
    "start_time": "2023-05-10T20:26:46.730Z"
   },
   {
    "duration": 6157,
    "start_time": "2023-05-10T20:26:46.740Z"
   },
   {
    "duration": 2009,
    "start_time": "2023-05-10T20:26:52.899Z"
   },
   {
    "duration": 3234,
    "start_time": "2023-05-10T20:26:54.909Z"
   },
   {
    "duration": 4,
    "start_time": "2023-05-10T20:26:58.144Z"
   },
   {
    "duration": 57,
    "start_time": "2023-05-10T20:26:58.150Z"
   },
   {
    "duration": 5,
    "start_time": "2023-05-10T20:26:58.209Z"
   },
   {
    "duration": 28,
    "start_time": "2023-05-10T20:26:58.216Z"
   },
   {
    "duration": 2747,
    "start_time": "2023-05-10T20:26:58.246Z"
   },
   {
    "duration": 26441,
    "start_time": "2023-05-10T20:27:00.998Z"
   },
   {
    "duration": 5,
    "start_time": "2023-05-10T20:27:27.441Z"
   },
   {
    "duration": 1396,
    "start_time": "2023-05-10T20:29:02.416Z"
   },
   {
    "duration": 794,
    "start_time": "2023-05-10T20:29:03.814Z"
   },
   {
    "duration": 26,
    "start_time": "2023-05-10T20:29:04.610Z"
   },
   {
    "duration": 19,
    "start_time": "2023-05-10T20:29:04.638Z"
   },
   {
    "duration": 47,
    "start_time": "2023-05-10T20:29:04.659Z"
   },
   {
    "duration": 15,
    "start_time": "2023-05-10T20:29:04.708Z"
   },
   {
    "duration": 21,
    "start_time": "2023-05-10T20:29:04.724Z"
   },
   {
    "duration": 47,
    "start_time": "2023-05-10T20:29:04.747Z"
   },
   {
    "duration": 9,
    "start_time": "2023-05-10T20:29:04.796Z"
   },
   {
    "duration": 6,
    "start_time": "2023-05-10T20:29:04.807Z"
   },
   {
    "duration": 10,
    "start_time": "2023-05-10T20:29:04.815Z"
   },
   {
    "duration": 29,
    "start_time": "2023-05-10T20:29:04.827Z"
   },
   {
    "duration": 38,
    "start_time": "2023-05-10T20:29:04.857Z"
   },
   {
    "duration": 32,
    "start_time": "2023-05-10T20:29:04.897Z"
   },
   {
    "duration": 6034,
    "start_time": "2023-05-10T20:29:04.930Z"
   },
   {
    "duration": 1355,
    "start_time": "2023-05-10T20:29:10.966Z"
   },
   {
    "duration": 4008,
    "start_time": "2023-05-10T20:29:12.324Z"
   },
   {
    "duration": 4,
    "start_time": "2023-05-10T20:29:16.334Z"
   },
   {
    "duration": 56,
    "start_time": "2023-05-10T20:29:16.339Z"
   },
   {
    "duration": 4,
    "start_time": "2023-05-10T20:29:16.397Z"
   },
   {
    "duration": 8,
    "start_time": "2023-05-10T20:29:16.402Z"
   },
   {
    "duration": 3086,
    "start_time": "2023-05-10T20:29:16.411Z"
   },
   {
    "duration": 108438,
    "start_time": "2023-05-10T20:29:19.498Z"
   },
   {
    "duration": 4,
    "start_time": "2023-05-10T20:31:07.938Z"
   },
   {
    "duration": 1639,
    "start_time": "2023-05-12T09:52:22.623Z"
   },
   {
    "duration": 3660,
    "start_time": "2023-05-12T09:52:24.264Z"
   },
   {
    "duration": 28,
    "start_time": "2023-05-12T09:52:27.928Z"
   },
   {
    "duration": 51,
    "start_time": "2023-05-12T09:52:27.958Z"
   },
   {
    "duration": 23,
    "start_time": "2023-05-12T09:52:28.010Z"
   },
   {
    "duration": 48,
    "start_time": "2023-05-12T09:52:28.035Z"
   },
   {
    "duration": 29,
    "start_time": "2023-05-12T09:52:28.086Z"
   },
   {
    "duration": 28,
    "start_time": "2023-05-12T09:52:28.117Z"
   },
   {
    "duration": 12,
    "start_time": "2023-05-12T09:52:28.148Z"
   },
   {
    "duration": 18,
    "start_time": "2023-05-12T09:52:28.176Z"
   },
   {
    "duration": 26,
    "start_time": "2023-05-12T09:52:28.196Z"
   },
   {
    "duration": 32,
    "start_time": "2023-05-12T09:52:28.225Z"
   },
   {
    "duration": 4,
    "start_time": "2023-05-12T09:52:28.259Z"
   },
   {
    "duration": 35,
    "start_time": "2023-05-12T09:52:28.265Z"
   },
   {
    "duration": 6204,
    "start_time": "2023-05-12T09:52:28.303Z"
   },
   {
    "duration": 1234,
    "start_time": "2023-05-12T09:52:34.509Z"
   },
   {
    "duration": 2957,
    "start_time": "2023-05-12T09:52:35.745Z"
   },
   {
    "duration": 2820,
    "start_time": "2023-05-12T09:52:38.705Z"
   },
   {
    "duration": 4,
    "start_time": "2023-05-12T09:52:41.527Z"
   },
   {
    "duration": 48,
    "start_time": "2023-05-12T09:52:41.533Z"
   },
   {
    "duration": 6,
    "start_time": "2023-05-12T09:52:41.582Z"
   },
   {
    "duration": 11,
    "start_time": "2023-05-12T09:52:41.590Z"
   },
   {
    "duration": 4493,
    "start_time": "2023-05-12T09:52:41.603Z"
   },
   {
    "duration": 100863,
    "start_time": "2023-05-12T09:52:46.102Z"
   },
   {
    "duration": 5,
    "start_time": "2023-05-12T09:54:26.967Z"
   },
   {
    "duration": 1553,
    "start_time": "2023-05-12T09:56:42.991Z"
   },
   {
    "duration": 856,
    "start_time": "2023-05-12T09:56:44.547Z"
   },
   {
    "duration": 28,
    "start_time": "2023-05-12T09:56:45.405Z"
   },
   {
    "duration": 18,
    "start_time": "2023-05-12T09:56:45.436Z"
   },
   {
    "duration": 34,
    "start_time": "2023-05-12T09:56:45.456Z"
   },
   {
    "duration": 13,
    "start_time": "2023-05-12T09:56:45.493Z"
   },
   {
    "duration": 22,
    "start_time": "2023-05-12T09:56:45.508Z"
   },
   {
    "duration": 20,
    "start_time": "2023-05-12T09:56:45.532Z"
   },
   {
    "duration": 18,
    "start_time": "2023-05-12T09:56:45.575Z"
   },
   {
    "duration": 11,
    "start_time": "2023-05-12T09:56:45.595Z"
   },
   {
    "duration": 11,
    "start_time": "2023-05-12T09:56:45.609Z"
   },
   {
    "duration": 66,
    "start_time": "2023-05-12T09:56:45.625Z"
   },
   {
    "duration": 4,
    "start_time": "2023-05-12T09:56:45.693Z"
   },
   {
    "duration": 9,
    "start_time": "2023-05-12T09:56:45.699Z"
   },
   {
    "duration": 6920,
    "start_time": "2023-05-12T09:56:45.710Z"
   },
   {
    "duration": 1255,
    "start_time": "2023-05-12T09:56:52.686Z"
   },
   {
    "duration": 3045,
    "start_time": "2023-05-12T09:56:53.943Z"
   },
   {
    "duration": 2137,
    "start_time": "2023-05-12T09:56:56.993Z"
   },
   {
    "duration": 2208,
    "start_time": "2023-05-12T09:56:59.132Z"
   },
   {
    "duration": 3,
    "start_time": "2023-05-12T09:57:01.343Z"
   },
   {
    "duration": 54,
    "start_time": "2023-05-12T09:57:01.348Z"
   },
   {
    "duration": 20,
    "start_time": "2023-05-12T09:57:01.404Z"
   },
   {
    "duration": 45,
    "start_time": "2023-05-12T09:57:01.426Z"
   },
   {
    "duration": 4008,
    "start_time": "2023-05-12T09:57:01.473Z"
   },
   {
    "duration": 97988,
    "start_time": "2023-05-12T09:57:05.483Z"
   },
   {
    "duration": 11,
    "start_time": "2023-05-12T09:58:43.472Z"
   },
   {
    "duration": 1524,
    "start_time": "2023-05-12T10:07:37.670Z"
   },
   {
    "duration": 889,
    "start_time": "2023-05-12T10:07:39.196Z"
   },
   {
    "duration": 28,
    "start_time": "2023-05-12T10:07:40.090Z"
   },
   {
    "duration": 19,
    "start_time": "2023-05-12T10:07:40.120Z"
   },
   {
    "duration": 40,
    "start_time": "2023-05-12T10:07:40.141Z"
   },
   {
    "duration": 20,
    "start_time": "2023-05-12T10:07:40.184Z"
   },
   {
    "duration": 20,
    "start_time": "2023-05-12T10:07:40.206Z"
   },
   {
    "duration": 39,
    "start_time": "2023-05-12T10:07:40.228Z"
   },
   {
    "duration": 21,
    "start_time": "2023-05-12T10:07:40.269Z"
   },
   {
    "duration": 7,
    "start_time": "2023-05-12T10:07:40.291Z"
   },
   {
    "duration": 15,
    "start_time": "2023-05-12T10:07:40.300Z"
   },
   {
    "duration": 29,
    "start_time": "2023-05-12T10:07:40.316Z"
   },
   {
    "duration": 4,
    "start_time": "2023-05-12T10:07:40.347Z"
   },
   {
    "duration": 38,
    "start_time": "2023-05-12T10:07:40.353Z"
   },
   {
    "duration": 6034,
    "start_time": "2023-05-12T10:07:40.393Z"
   },
   {
    "duration": 1270,
    "start_time": "2023-05-12T10:07:46.447Z"
   },
   {
    "duration": 2927,
    "start_time": "2023-05-12T10:07:47.720Z"
   },
   {
    "duration": 1799,
    "start_time": "2023-05-12T10:07:50.649Z"
   },
   {
    "duration": 4,
    "start_time": "2023-05-12T10:07:52.450Z"
   },
   {
    "duration": 54,
    "start_time": "2023-05-12T10:07:52.455Z"
   },
   {
    "duration": 4,
    "start_time": "2023-05-12T10:07:52.510Z"
   },
   {
    "duration": 6,
    "start_time": "2023-05-12T10:07:52.515Z"
   },
   {
    "duration": 4562,
    "start_time": "2023-05-12T10:07:52.522Z"
   },
   {
    "duration": 103,
    "start_time": "2023-05-12T10:07:57.086Z"
   },
   {
    "duration": 100518,
    "start_time": "2023-05-12T10:07:57.191Z"
   },
   {
    "duration": 5,
    "start_time": "2023-05-12T10:09:37.711Z"
   },
   {
    "duration": 1452,
    "start_time": "2023-05-12T10:15:50.251Z"
   },
   {
    "duration": 856,
    "start_time": "2023-05-12T10:15:51.705Z"
   },
   {
    "duration": 52,
    "start_time": "2023-05-12T10:15:52.563Z"
   },
   {
    "duration": 19,
    "start_time": "2023-05-12T10:15:52.617Z"
   },
   {
    "duration": 20,
    "start_time": "2023-05-12T10:15:52.637Z"
   },
   {
    "duration": 14,
    "start_time": "2023-05-12T10:15:52.659Z"
   },
   {
    "duration": 32,
    "start_time": "2023-05-12T10:15:52.674Z"
   },
   {
    "duration": 22,
    "start_time": "2023-05-12T10:15:52.708Z"
   },
   {
    "duration": 8,
    "start_time": "2023-05-12T10:15:52.731Z"
   },
   {
    "duration": 6,
    "start_time": "2023-05-12T10:15:52.742Z"
   },
   {
    "duration": 13,
    "start_time": "2023-05-12T10:15:52.749Z"
   },
   {
    "duration": 47,
    "start_time": "2023-05-12T10:15:52.763Z"
   },
   {
    "duration": 4,
    "start_time": "2023-05-12T10:15:52.812Z"
   },
   {
    "duration": 24,
    "start_time": "2023-05-12T10:15:52.817Z"
   },
   {
    "duration": 6263,
    "start_time": "2023-05-12T10:15:52.842Z"
   },
   {
    "duration": 2417,
    "start_time": "2023-05-12T10:15:59.143Z"
   },
   {
    "duration": 3188,
    "start_time": "2023-05-12T10:16:01.562Z"
   },
   {
    "duration": 3030,
    "start_time": "2023-05-12T10:16:04.752Z"
   },
   {
    "duration": 4,
    "start_time": "2023-05-12T10:16:07.795Z"
   },
   {
    "duration": 118,
    "start_time": "2023-05-12T10:16:07.801Z"
   },
   {
    "duration": 4,
    "start_time": "2023-05-12T10:16:07.921Z"
   },
   {
    "duration": 6,
    "start_time": "2023-05-12T10:16:07.926Z"
   },
   {
    "duration": 5008,
    "start_time": "2023-05-12T10:16:07.977Z"
   },
   {
    "duration": 1557,
    "start_time": "2023-05-12T10:17:01.237Z"
   },
   {
    "duration": 887,
    "start_time": "2023-05-12T10:17:02.796Z"
   },
   {
    "duration": 38,
    "start_time": "2023-05-12T10:17:03.685Z"
   },
   {
    "duration": 19,
    "start_time": "2023-05-12T10:17:03.726Z"
   },
   {
    "duration": 48,
    "start_time": "2023-05-12T10:17:03.746Z"
   },
   {
    "duration": 13,
    "start_time": "2023-05-12T10:17:03.796Z"
   },
   {
    "duration": 21,
    "start_time": "2023-05-12T10:17:03.810Z"
   },
   {
    "duration": 18,
    "start_time": "2023-05-12T10:17:03.832Z"
   },
   {
    "duration": 31,
    "start_time": "2023-05-12T10:17:03.852Z"
   },
   {
    "duration": 9,
    "start_time": "2023-05-12T10:17:03.885Z"
   },
   {
    "duration": 8,
    "start_time": "2023-05-12T10:17:03.896Z"
   },
   {
    "duration": 30,
    "start_time": "2023-05-12T10:17:03.906Z"
   },
   {
    "duration": 47,
    "start_time": "2023-05-12T10:17:03.938Z"
   },
   {
    "duration": 12,
    "start_time": "2023-05-12T10:17:03.987Z"
   },
   {
    "duration": 7353,
    "start_time": "2023-05-12T10:17:04.001Z"
   },
   {
    "duration": 1289,
    "start_time": "2023-05-12T10:17:11.356Z"
   },
   {
    "duration": 2955,
    "start_time": "2023-05-12T10:17:12.647Z"
   },
   {
    "duration": 2065,
    "start_time": "2023-05-12T10:17:15.604Z"
   },
   {
    "duration": 10,
    "start_time": "2023-05-12T10:17:17.675Z"
   },
   {
    "duration": 52,
    "start_time": "2023-05-12T10:17:17.691Z"
   },
   {
    "duration": 4,
    "start_time": "2023-05-12T10:17:17.744Z"
   },
   {
    "duration": 8,
    "start_time": "2023-05-12T10:17:17.750Z"
   },
   {
    "duration": 4824,
    "start_time": "2023-05-12T10:17:17.760Z"
   },
   {
    "duration": 101548,
    "start_time": "2023-05-12T10:17:22.587Z"
   },
   {
    "duration": 5,
    "start_time": "2023-05-12T10:19:04.138Z"
   }
  ],
  "kernelspec": {
   "display_name": "Python 3 (ipykernel)",
   "language": "python",
   "name": "python3"
  },
  "language_info": {
   "codemirror_mode": {
    "name": "ipython",
    "version": 3
   },
   "file_extension": ".py",
   "mimetype": "text/x-python",
   "name": "python",
   "nbconvert_exporter": "python",
   "pygments_lexer": "ipython3",
   "version": "3.10.9"
  },
  "toc": {
   "base_numbering": 1,
   "nav_menu": {},
   "number_sections": true,
   "sideBar": true,
   "skip_h1_title": true,
   "title_cell": "Содержание",
   "title_sidebar": "Contents",
   "toc_cell": true,
   "toc_position": {
    "height": "calc(100% - 180px)",
    "left": "10px",
    "top": "150px",
    "width": "165px"
   },
   "toc_section_display": true,
   "toc_window_display": true
  }
 },
 "nbformat": 4,
 "nbformat_minor": 2
}

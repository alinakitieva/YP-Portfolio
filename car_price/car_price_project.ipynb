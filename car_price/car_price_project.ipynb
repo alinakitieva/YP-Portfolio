{
 "cells": [
  {
   "cell_type": "markdown",
   "metadata": {},
   "source": [
    "# Определение стоимости автомобилей"
   ]
  },
  {
   "cell_type": "markdown",
   "metadata": {},
   "source": [
    "Сервис по продаже автомобилей с пробегом «Не бит, не крашен» разрабатывает приложение для привлечения новых клиентов. В нём можно быстро узнать рыночную стоимость своего автомобиля. В вашем распоряжении исторические данные: технические характеристики, комплектации и цены автомобилей. Вам нужно построить модель для определения стоимости. \n",
    "\n",
    "Заказчику важны:\n",
    "\n",
    "- качество предсказания;\n",
    "- скорость предсказания;\n",
    "- время обучения."
   ]
  },
  {
   "cell_type": "markdown",
   "metadata": {},
   "source": [
    "**Цель исследования:** разработать модель, которая определяет рыночную стоимость автомобиля на основе его технических характеристик и комплектации. Модель будет использоваться в новом приложении сервиса по продаже автомобилей с пробегом «Не бит, не крашен». \n",
    "\n",
    "**Ход исследования:**\n",
    "\n",
    "1. Загрузка и изучение данных.\n",
    "\n",
    "2. Предобработка данных: все пропущенные значения будут заполнены или удалены, в зависимости от их характера и количества. Временные данные будут преобразованы в подходящий формат.\n",
    "\n",
    "3. Подготовка выборок для обучения моделей: данные будут разделены на обучающую, валидационную и тестовую выборки.\n",
    "\n",
    "4. Обучение моделей: будут обучены различные модели, включая модель градиентного бустинга LightGBM и как минимум одну модель, не основанную на бустинге. Для каждой модели будут подобраны оптимальные гиперпараметры.\n",
    "\n",
    "5. Сравнение моделей: анализ обученных моделей по трем критериям: время обучения, время предсказания и качество предсказаний (RMSE).\n",
    "\n",
    "6. Выбор лучшей модели: будет выбрана лучшая модель, которая затем будет проверена на тестовой выборке.\n",
    "\n",
    "7. Заключение:  выводы об эффективности разработанной модели и рекомендации по ее дальнейшему использованию и возможному улучшению."
   ]
  },
  {
   "cell_type": "markdown",
   "metadata": {},
   "source": [
    "## Подготовка данных"
   ]
  },
  {
   "cell_type": "markdown",
   "metadata": {},
   "source": [
    "### Импорт библиотек"
   ]
  },
  {
   "cell_type": "code",
   "execution_count": 1,
   "metadata": {},
   "outputs": [
    {
     "name": "stdout",
     "output_type": "stream",
     "text": [
      "Requirement already satisfied: category_encoders in /Users/alinakit/anaconda3/lib/python3.10/site-packages (2.6.1)\n",
      "Requirement already satisfied: pandas>=1.0.5 in /Users/alinakit/anaconda3/lib/python3.10/site-packages (from category_encoders) (1.5.3)\n",
      "Requirement already satisfied: scikit-learn>=0.20.0 in /Users/alinakit/anaconda3/lib/python3.10/site-packages (from category_encoders) (1.2.1)\n",
      "Requirement already satisfied: scipy>=1.0.0 in /Users/alinakit/anaconda3/lib/python3.10/site-packages (from category_encoders) (1.10.0)\n",
      "Requirement already satisfied: statsmodels>=0.9.0 in /Users/alinakit/anaconda3/lib/python3.10/site-packages (from category_encoders) (0.13.5)\n",
      "Requirement already satisfied: numpy>=1.14.0 in /Users/alinakit/anaconda3/lib/python3.10/site-packages (from category_encoders) (1.23.5)\n",
      "Requirement already satisfied: patsy>=0.5.1 in /Users/alinakit/anaconda3/lib/python3.10/site-packages (from category_encoders) (0.5.3)\n",
      "Requirement already satisfied: python-dateutil>=2.8.1 in /Users/alinakit/anaconda3/lib/python3.10/site-packages (from pandas>=1.0.5->category_encoders) (2.8.2)\n",
      "Requirement already satisfied: pytz>=2020.1 in /Users/alinakit/anaconda3/lib/python3.10/site-packages (from pandas>=1.0.5->category_encoders) (2022.7)\n",
      "Requirement already satisfied: six in /Users/alinakit/anaconda3/lib/python3.10/site-packages (from patsy>=0.5.1->category_encoders) (1.16.0)\n",
      "Requirement already satisfied: threadpoolctl>=2.0.0 in /Users/alinakit/anaconda3/lib/python3.10/site-packages (from scikit-learn>=0.20.0->category_encoders) (2.2.0)\n",
      "Requirement already satisfied: joblib>=1.1.1 in /Users/alinakit/anaconda3/lib/python3.10/site-packages (from scikit-learn>=0.20.0->category_encoders) (1.1.1)\n",
      "Requirement already satisfied: packaging>=21.3 in /Users/alinakit/anaconda3/lib/python3.10/site-packages (from statsmodels>=0.9.0->category_encoders) (22.0)\n",
      "Note: you may need to restart the kernel to use updated packages.\n"
     ]
    }
   ],
   "source": [
    "pip install --upgrade category_encoders"
   ]
  },
  {
   "cell_type": "code",
   "execution_count": 2,
   "metadata": {},
   "outputs": [],
   "source": [
    "import pandas as pd\n",
    "import matplotlib.pyplot as plt\n",
    "import seaborn as sns\n",
    "import numpy as np\n",
    "from sklearn.compose import ColumnTransformer\n",
    "from sklearn.pipeline import make_pipeline\n",
    "from sklearn.compose import make_column_transformer\n",
    "from category_encoders import MEstimateEncoder\n",
    "from sklearn.preprocessing import OneHotEncoder\n",
    "from sklearn.model_selection import GridSearchCV\n",
    "from sklearn.linear_model import LinearRegression\n",
    "from lightgbm import LGBMRegressor\n",
    "from catboost import CatBoostRegressor, Pool\n",
    "from sklearn.metrics import mean_squared_error\n",
    "from time import time\n",
    "from sklearn.preprocessing import LabelEncoder\n",
    "from scipy import stats as st\n",
    "from sklearn.preprocessing import StandardScaler\n",
    "from sklearn.model_selection import train_test_split\n",
    "from sklearn.model_selection import cross_val_score\n",
    "# import warnings\n",
    "# warnings.filterwarnings(\"ignore\")"
   ]
  },
  {
   "cell_type": "markdown",
   "metadata": {},
   "source": [
    "### Загрузка данных"
   ]
  },
  {
   "cell_type": "code",
   "execution_count": 3,
   "metadata": {},
   "outputs": [],
   "source": [
    "try:\n",
    "    data = pd.read_csv('/datasets/autos.csv')\n",
    "except:\n",
    "    data = pd.read_csv('https://code.s3.yandex.net/datasets/autos.csv')"
   ]
  },
  {
   "cell_type": "markdown",
   "metadata": {},
   "source": [
    "### Изучение данных"
   ]
  },
  {
   "cell_type": "code",
   "execution_count": 4,
   "metadata": {},
   "outputs": [
    {
     "data": {
      "text/html": [
       "<div>\n",
       "<style scoped>\n",
       "    .dataframe tbody tr th:only-of-type {\n",
       "        vertical-align: middle;\n",
       "    }\n",
       "\n",
       "    .dataframe tbody tr th {\n",
       "        vertical-align: top;\n",
       "    }\n",
       "\n",
       "    .dataframe thead th {\n",
       "        text-align: right;\n",
       "    }\n",
       "</style>\n",
       "<table border=\"1\" class=\"dataframe\">\n",
       "  <thead>\n",
       "    <tr style=\"text-align: right;\">\n",
       "      <th></th>\n",
       "      <th>DateCrawled</th>\n",
       "      <th>Price</th>\n",
       "      <th>VehicleType</th>\n",
       "      <th>RegistrationYear</th>\n",
       "      <th>Gearbox</th>\n",
       "      <th>Power</th>\n",
       "      <th>Model</th>\n",
       "      <th>Kilometer</th>\n",
       "      <th>RegistrationMonth</th>\n",
       "      <th>FuelType</th>\n",
       "      <th>Brand</th>\n",
       "      <th>Repaired</th>\n",
       "      <th>DateCreated</th>\n",
       "      <th>NumberOfPictures</th>\n",
       "      <th>PostalCode</th>\n",
       "      <th>LastSeen</th>\n",
       "    </tr>\n",
       "  </thead>\n",
       "  <tbody>\n",
       "    <tr>\n",
       "      <th>0</th>\n",
       "      <td>2016-03-24 11:52:17</td>\n",
       "      <td>480</td>\n",
       "      <td>NaN</td>\n",
       "      <td>1993</td>\n",
       "      <td>manual</td>\n",
       "      <td>0</td>\n",
       "      <td>golf</td>\n",
       "      <td>150000</td>\n",
       "      <td>0</td>\n",
       "      <td>petrol</td>\n",
       "      <td>volkswagen</td>\n",
       "      <td>NaN</td>\n",
       "      <td>2016-03-24 00:00:00</td>\n",
       "      <td>0</td>\n",
       "      <td>70435</td>\n",
       "      <td>2016-04-07 03:16:57</td>\n",
       "    </tr>\n",
       "    <tr>\n",
       "      <th>1</th>\n",
       "      <td>2016-03-24 10:58:45</td>\n",
       "      <td>18300</td>\n",
       "      <td>coupe</td>\n",
       "      <td>2011</td>\n",
       "      <td>manual</td>\n",
       "      <td>190</td>\n",
       "      <td>NaN</td>\n",
       "      <td>125000</td>\n",
       "      <td>5</td>\n",
       "      <td>gasoline</td>\n",
       "      <td>audi</td>\n",
       "      <td>yes</td>\n",
       "      <td>2016-03-24 00:00:00</td>\n",
       "      <td>0</td>\n",
       "      <td>66954</td>\n",
       "      <td>2016-04-07 01:46:50</td>\n",
       "    </tr>\n",
       "    <tr>\n",
       "      <th>2</th>\n",
       "      <td>2016-03-14 12:52:21</td>\n",
       "      <td>9800</td>\n",
       "      <td>suv</td>\n",
       "      <td>2004</td>\n",
       "      <td>auto</td>\n",
       "      <td>163</td>\n",
       "      <td>grand</td>\n",
       "      <td>125000</td>\n",
       "      <td>8</td>\n",
       "      <td>gasoline</td>\n",
       "      <td>jeep</td>\n",
       "      <td>NaN</td>\n",
       "      <td>2016-03-14 00:00:00</td>\n",
       "      <td>0</td>\n",
       "      <td>90480</td>\n",
       "      <td>2016-04-05 12:47:46</td>\n",
       "    </tr>\n",
       "    <tr>\n",
       "      <th>3</th>\n",
       "      <td>2016-03-17 16:54:04</td>\n",
       "      <td>1500</td>\n",
       "      <td>small</td>\n",
       "      <td>2001</td>\n",
       "      <td>manual</td>\n",
       "      <td>75</td>\n",
       "      <td>golf</td>\n",
       "      <td>150000</td>\n",
       "      <td>6</td>\n",
       "      <td>petrol</td>\n",
       "      <td>volkswagen</td>\n",
       "      <td>no</td>\n",
       "      <td>2016-03-17 00:00:00</td>\n",
       "      <td>0</td>\n",
       "      <td>91074</td>\n",
       "      <td>2016-03-17 17:40:17</td>\n",
       "    </tr>\n",
       "    <tr>\n",
       "      <th>4</th>\n",
       "      <td>2016-03-31 17:25:20</td>\n",
       "      <td>3600</td>\n",
       "      <td>small</td>\n",
       "      <td>2008</td>\n",
       "      <td>manual</td>\n",
       "      <td>69</td>\n",
       "      <td>fabia</td>\n",
       "      <td>90000</td>\n",
       "      <td>7</td>\n",
       "      <td>gasoline</td>\n",
       "      <td>skoda</td>\n",
       "      <td>no</td>\n",
       "      <td>2016-03-31 00:00:00</td>\n",
       "      <td>0</td>\n",
       "      <td>60437</td>\n",
       "      <td>2016-04-06 10:17:21</td>\n",
       "    </tr>\n",
       "  </tbody>\n",
       "</table>\n",
       "</div>"
      ],
      "text/plain": [
       "           DateCrawled  Price VehicleType  RegistrationYear Gearbox  Power  \\\n",
       "0  2016-03-24 11:52:17    480         NaN              1993  manual      0   \n",
       "1  2016-03-24 10:58:45  18300       coupe              2011  manual    190   \n",
       "2  2016-03-14 12:52:21   9800         suv              2004    auto    163   \n",
       "3  2016-03-17 16:54:04   1500       small              2001  manual     75   \n",
       "4  2016-03-31 17:25:20   3600       small              2008  manual     69   \n",
       "\n",
       "   Model  Kilometer  RegistrationMonth  FuelType       Brand Repaired  \\\n",
       "0   golf     150000                  0    petrol  volkswagen      NaN   \n",
       "1    NaN     125000                  5  gasoline        audi      yes   \n",
       "2  grand     125000                  8  gasoline        jeep      NaN   \n",
       "3   golf     150000                  6    petrol  volkswagen       no   \n",
       "4  fabia      90000                  7  gasoline       skoda       no   \n",
       "\n",
       "           DateCreated  NumberOfPictures  PostalCode             LastSeen  \n",
       "0  2016-03-24 00:00:00                 0       70435  2016-04-07 03:16:57  \n",
       "1  2016-03-24 00:00:00                 0       66954  2016-04-07 01:46:50  \n",
       "2  2016-03-14 00:00:00                 0       90480  2016-04-05 12:47:46  \n",
       "3  2016-03-17 00:00:00                 0       91074  2016-03-17 17:40:17  \n",
       "4  2016-03-31 00:00:00                 0       60437  2016-04-06 10:17:21  "
      ]
     },
     "execution_count": 4,
     "metadata": {},
     "output_type": "execute_result"
    }
   ],
   "source": [
    "data.head()"
   ]
  },
  {
   "cell_type": "code",
   "execution_count": 5,
   "metadata": {},
   "outputs": [
    {
     "name": "stdout",
     "output_type": "stream",
     "text": [
      "<class 'pandas.core.frame.DataFrame'>\n",
      "RangeIndex: 354369 entries, 0 to 354368\n",
      "Data columns (total 16 columns):\n",
      " #   Column             Non-Null Count   Dtype \n",
      "---  ------             --------------   ----- \n",
      " 0   DateCrawled        354369 non-null  object\n",
      " 1   Price              354369 non-null  int64 \n",
      " 2   VehicleType        316879 non-null  object\n",
      " 3   RegistrationYear   354369 non-null  int64 \n",
      " 4   Gearbox            334536 non-null  object\n",
      " 5   Power              354369 non-null  int64 \n",
      " 6   Model              334664 non-null  object\n",
      " 7   Kilometer          354369 non-null  int64 \n",
      " 8   RegistrationMonth  354369 non-null  int64 \n",
      " 9   FuelType           321474 non-null  object\n",
      " 10  Brand              354369 non-null  object\n",
      " 11  Repaired           283215 non-null  object\n",
      " 12  DateCreated        354369 non-null  object\n",
      " 13  NumberOfPictures   354369 non-null  int64 \n",
      " 14  PostalCode         354369 non-null  int64 \n",
      " 15  LastSeen           354369 non-null  object\n",
      "dtypes: int64(7), object(9)\n",
      "memory usage: 43.3+ MB\n"
     ]
    }
   ],
   "source": [
    "data.info()"
   ]
  },
  {
   "cell_type": "code",
   "execution_count": 6,
   "metadata": {
    "scrolled": false
   },
   "outputs": [
    {
     "name": "stdout",
     "output_type": "stream",
     "text": [
      "Missing values:\n"
     ]
    },
    {
     "data": {
      "text/plain": [
       "DateCrawled              0\n",
       "Price                    0\n",
       "VehicleType          37490\n",
       "RegistrationYear         0\n",
       "Gearbox              19833\n",
       "Power                    0\n",
       "Model                19705\n",
       "Kilometer                0\n",
       "RegistrationMonth        0\n",
       "FuelType             32895\n",
       "Brand                    0\n",
       "Repaired             71154\n",
       "DateCreated              0\n",
       "NumberOfPictures         0\n",
       "PostalCode               0\n",
       "LastSeen                 0\n",
       "dtype: int64"
      ]
     },
     "execution_count": 6,
     "metadata": {},
     "output_type": "execute_result"
    }
   ],
   "source": [
    "# Проверка на наличие пропусков\n",
    "print(\"Missing values:\")\n",
    "data.isnull().sum()"
   ]
  },
  {
   "cell_type": "code",
   "execution_count": 7,
   "metadata": {},
   "outputs": [
    {
     "data": {
      "text/plain": [
       "DateCrawled           0.00\n",
       "Price                 0.00\n",
       "VehicleType          10.58\n",
       "RegistrationYear      0.00\n",
       "Gearbox               5.60\n",
       "Power                 0.00\n",
       "Model                 5.56\n",
       "Kilometer             0.00\n",
       "RegistrationMonth     0.00\n",
       "FuelType              9.28\n",
       "Brand                 0.00\n",
       "Repaired             20.08\n",
       "DateCreated           0.00\n",
       "NumberOfPictures      0.00\n",
       "PostalCode            0.00\n",
       "LastSeen              0.00\n",
       "dtype: float64"
      ]
     },
     "execution_count": 7,
     "metadata": {},
     "output_type": "execute_result"
    }
   ],
   "source": [
    "round(data.isnull().mean()*100, 2)"
   ]
  },
  {
   "cell_type": "code",
   "execution_count": 8,
   "metadata": {
    "scrolled": true
   },
   "outputs": [
    {
     "data": {
      "text/html": [
       "<div>\n",
       "<style scoped>\n",
       "    .dataframe tbody tr th:only-of-type {\n",
       "        vertical-align: middle;\n",
       "    }\n",
       "\n",
       "    .dataframe tbody tr th {\n",
       "        vertical-align: top;\n",
       "    }\n",
       "\n",
       "    .dataframe thead th {\n",
       "        text-align: right;\n",
       "    }\n",
       "</style>\n",
       "<table border=\"1\" class=\"dataframe\">\n",
       "  <thead>\n",
       "    <tr style=\"text-align: right;\">\n",
       "      <th></th>\n",
       "      <th>Price</th>\n",
       "      <th>RegistrationYear</th>\n",
       "      <th>Power</th>\n",
       "      <th>Kilometer</th>\n",
       "      <th>RegistrationMonth</th>\n",
       "      <th>NumberOfPictures</th>\n",
       "      <th>PostalCode</th>\n",
       "    </tr>\n",
       "  </thead>\n",
       "  <tbody>\n",
       "    <tr>\n",
       "      <th>Price</th>\n",
       "      <td>1.000000</td>\n",
       "      <td>0.026916</td>\n",
       "      <td>0.158872</td>\n",
       "      <td>-0.333199</td>\n",
       "      <td>0.110581</td>\n",
       "      <td>NaN</td>\n",
       "      <td>0.076055</td>\n",
       "    </tr>\n",
       "    <tr>\n",
       "      <th>RegistrationYear</th>\n",
       "      <td>0.026916</td>\n",
       "      <td>1.000000</td>\n",
       "      <td>-0.000828</td>\n",
       "      <td>-0.053447</td>\n",
       "      <td>-0.011619</td>\n",
       "      <td>NaN</td>\n",
       "      <td>-0.003459</td>\n",
       "    </tr>\n",
       "    <tr>\n",
       "      <th>Power</th>\n",
       "      <td>0.158872</td>\n",
       "      <td>-0.000828</td>\n",
       "      <td>1.000000</td>\n",
       "      <td>0.024002</td>\n",
       "      <td>0.043380</td>\n",
       "      <td>NaN</td>\n",
       "      <td>0.021665</td>\n",
       "    </tr>\n",
       "    <tr>\n",
       "      <th>Kilometer</th>\n",
       "      <td>-0.333199</td>\n",
       "      <td>-0.053447</td>\n",
       "      <td>0.024002</td>\n",
       "      <td>1.000000</td>\n",
       "      <td>0.009571</td>\n",
       "      <td>NaN</td>\n",
       "      <td>-0.007698</td>\n",
       "    </tr>\n",
       "    <tr>\n",
       "      <th>RegistrationMonth</th>\n",
       "      <td>0.110581</td>\n",
       "      <td>-0.011619</td>\n",
       "      <td>0.043380</td>\n",
       "      <td>0.009571</td>\n",
       "      <td>1.000000</td>\n",
       "      <td>NaN</td>\n",
       "      <td>0.013995</td>\n",
       "    </tr>\n",
       "    <tr>\n",
       "      <th>NumberOfPictures</th>\n",
       "      <td>NaN</td>\n",
       "      <td>NaN</td>\n",
       "      <td>NaN</td>\n",
       "      <td>NaN</td>\n",
       "      <td>NaN</td>\n",
       "      <td>NaN</td>\n",
       "      <td>NaN</td>\n",
       "    </tr>\n",
       "    <tr>\n",
       "      <th>PostalCode</th>\n",
       "      <td>0.076055</td>\n",
       "      <td>-0.003459</td>\n",
       "      <td>0.021665</td>\n",
       "      <td>-0.007698</td>\n",
       "      <td>0.013995</td>\n",
       "      <td>NaN</td>\n",
       "      <td>1.000000</td>\n",
       "    </tr>\n",
       "  </tbody>\n",
       "</table>\n",
       "</div>"
      ],
      "text/plain": [
       "                      Price  RegistrationYear     Power  Kilometer  \\\n",
       "Price              1.000000          0.026916  0.158872  -0.333199   \n",
       "RegistrationYear   0.026916          1.000000 -0.000828  -0.053447   \n",
       "Power              0.158872         -0.000828  1.000000   0.024002   \n",
       "Kilometer         -0.333199         -0.053447  0.024002   1.000000   \n",
       "RegistrationMonth  0.110581         -0.011619  0.043380   0.009571   \n",
       "NumberOfPictures        NaN               NaN       NaN        NaN   \n",
       "PostalCode         0.076055         -0.003459  0.021665  -0.007698   \n",
       "\n",
       "                   RegistrationMonth  NumberOfPictures  PostalCode  \n",
       "Price                       0.110581               NaN    0.076055  \n",
       "RegistrationYear           -0.011619               NaN   -0.003459  \n",
       "Power                       0.043380               NaN    0.021665  \n",
       "Kilometer                   0.009571               NaN   -0.007698  \n",
       "RegistrationMonth           1.000000               NaN    0.013995  \n",
       "NumberOfPictures                 NaN               NaN         NaN  \n",
       "PostalCode                  0.013995               NaN    1.000000  "
      ]
     },
     "execution_count": 8,
     "metadata": {},
     "output_type": "execute_result"
    }
   ],
   "source": [
    "data.corr(numeric_only=True)"
   ]
  },
  {
   "cell_type": "code",
   "execution_count": 9,
   "metadata": {},
   "outputs": [
    {
     "data": {
      "text/plain": [
       "4"
      ]
     },
     "execution_count": 9,
     "metadata": {},
     "output_type": "execute_result"
    }
   ],
   "source": [
    "# Проверка на дубликаты\n",
    "data.duplicated().sum()"
   ]
  },
  {
   "cell_type": "markdown",
   "metadata": {},
   "source": [
    "### Вывод"
   ]
  },
  {
   "cell_type": "markdown",
   "metadata": {},
   "source": [
    "После первичного анализа данных, мы выявили, что датасет состоит из 354369 записей и 16 столбцов. Среди признаков имеются как числовые, так и категориальные, и некоторые из них имеют пропущенные значения. Признаки 'VehicleType', 'Gearbox', 'Model', 'FuelType' и 'Repaired' имеют значительное количество пропусков, которые нуждаются в дальнейшей обработке."
   ]
  },
  {
   "cell_type": "markdown",
   "metadata": {},
   "source": [
    "## Предобработка данных"
   ]
  },
  {
   "cell_type": "markdown",
   "metadata": {},
   "source": [
    "### Удаление ненужных столбцов"
   ]
  },
  {
   "cell_type": "code",
   "execution_count": 10,
   "metadata": {},
   "outputs": [
    {
     "data": {
      "text/plain": [
       "array(['2016-03-24 11:52:17', '2016-03-24 10:58:45',\n",
       "       '2016-03-14 12:52:21', ..., '2016-03-21 09:50:58',\n",
       "       '2016-03-14 17:48:27', '2016-03-19 18:57:12'], dtype=object)"
      ]
     },
     "execution_count": 10,
     "metadata": {},
     "output_type": "execute_result"
    }
   ],
   "source": [
    "data['DateCrawled'].unique()"
   ]
  },
  {
   "cell_type": "code",
   "execution_count": 11,
   "metadata": {},
   "outputs": [],
   "source": [
    "data_with_date = data.copy()\n",
    "data = data.drop([\"DateCrawled\",\"DateCreated\",\"LastSeen\",\"NumberOfPictures\",\"PostalCode\"],axis = 1)"
   ]
  },
  {
   "cell_type": "markdown",
   "metadata": {},
   "source": [
    "### Переименовывание столбцов"
   ]
  },
  {
   "cell_type": "code",
   "execution_count": 12,
   "metadata": {
    "scrolled": false
   },
   "outputs": [
    {
     "data": {
      "text/html": [
       "<div>\n",
       "<style scoped>\n",
       "    .dataframe tbody tr th:only-of-type {\n",
       "        vertical-align: middle;\n",
       "    }\n",
       "\n",
       "    .dataframe tbody tr th {\n",
       "        vertical-align: top;\n",
       "    }\n",
       "\n",
       "    .dataframe thead th {\n",
       "        text-align: right;\n",
       "    }\n",
       "</style>\n",
       "<table border=\"1\" class=\"dataframe\">\n",
       "  <thead>\n",
       "    <tr style=\"text-align: right;\">\n",
       "      <th></th>\n",
       "      <th>price</th>\n",
       "      <th>vehicle_type</th>\n",
       "      <th>registration_year</th>\n",
       "      <th>gearbox</th>\n",
       "      <th>power</th>\n",
       "      <th>model</th>\n",
       "      <th>kilometer</th>\n",
       "      <th>registration_month</th>\n",
       "      <th>fuel_type</th>\n",
       "      <th>brand</th>\n",
       "      <th>repaired</th>\n",
       "    </tr>\n",
       "  </thead>\n",
       "  <tbody>\n",
       "    <tr>\n",
       "      <th>0</th>\n",
       "      <td>480</td>\n",
       "      <td>NaN</td>\n",
       "      <td>1993</td>\n",
       "      <td>manual</td>\n",
       "      <td>0</td>\n",
       "      <td>golf</td>\n",
       "      <td>150000</td>\n",
       "      <td>0</td>\n",
       "      <td>petrol</td>\n",
       "      <td>volkswagen</td>\n",
       "      <td>NaN</td>\n",
       "    </tr>\n",
       "    <tr>\n",
       "      <th>1</th>\n",
       "      <td>18300</td>\n",
       "      <td>coupe</td>\n",
       "      <td>2011</td>\n",
       "      <td>manual</td>\n",
       "      <td>190</td>\n",
       "      <td>NaN</td>\n",
       "      <td>125000</td>\n",
       "      <td>5</td>\n",
       "      <td>gasoline</td>\n",
       "      <td>audi</td>\n",
       "      <td>yes</td>\n",
       "    </tr>\n",
       "    <tr>\n",
       "      <th>2</th>\n",
       "      <td>9800</td>\n",
       "      <td>suv</td>\n",
       "      <td>2004</td>\n",
       "      <td>auto</td>\n",
       "      <td>163</td>\n",
       "      <td>grand</td>\n",
       "      <td>125000</td>\n",
       "      <td>8</td>\n",
       "      <td>gasoline</td>\n",
       "      <td>jeep</td>\n",
       "      <td>NaN</td>\n",
       "    </tr>\n",
       "    <tr>\n",
       "      <th>3</th>\n",
       "      <td>1500</td>\n",
       "      <td>small</td>\n",
       "      <td>2001</td>\n",
       "      <td>manual</td>\n",
       "      <td>75</td>\n",
       "      <td>golf</td>\n",
       "      <td>150000</td>\n",
       "      <td>6</td>\n",
       "      <td>petrol</td>\n",
       "      <td>volkswagen</td>\n",
       "      <td>no</td>\n",
       "    </tr>\n",
       "    <tr>\n",
       "      <th>4</th>\n",
       "      <td>3600</td>\n",
       "      <td>small</td>\n",
       "      <td>2008</td>\n",
       "      <td>manual</td>\n",
       "      <td>69</td>\n",
       "      <td>fabia</td>\n",
       "      <td>90000</td>\n",
       "      <td>7</td>\n",
       "      <td>gasoline</td>\n",
       "      <td>skoda</td>\n",
       "      <td>no</td>\n",
       "    </tr>\n",
       "  </tbody>\n",
       "</table>\n",
       "</div>"
      ],
      "text/plain": [
       "   price vehicle_type  registration_year gearbox  power  model  kilometer  \\\n",
       "0    480          NaN               1993  manual      0   golf     150000   \n",
       "1  18300        coupe               2011  manual    190    NaN     125000   \n",
       "2   9800          suv               2004    auto    163  grand     125000   \n",
       "3   1500        small               2001  manual     75   golf     150000   \n",
       "4   3600        small               2008  manual     69  fabia      90000   \n",
       "\n",
       "   registration_month fuel_type       brand repaired  \n",
       "0                   0    petrol  volkswagen      NaN  \n",
       "1                   5  gasoline        audi      yes  \n",
       "2                   8  gasoline        jeep      NaN  \n",
       "3                   6    petrol  volkswagen       no  \n",
       "4                   7  gasoline       skoda       no  "
      ]
     },
     "execution_count": 12,
     "metadata": {},
     "output_type": "execute_result"
    }
   ],
   "source": [
    "data.columns = data.columns.str.replace(r\"([A-Z])\", r\" \\1\", regex=True).str.lower().str.replace(' ', '_', regex=True).str[1:]\n",
    "data.head()"
   ]
  },
  {
   "cell_type": "markdown",
   "metadata": {},
   "source": [
    "### Заполнение пропусков"
   ]
  },
  {
   "cell_type": "code",
   "execution_count": 13,
   "metadata": {},
   "outputs": [
    {
     "data": {
      "text/plain": [
       "price                 0\n",
       "vehicle_type          0\n",
       "registration_year     0\n",
       "gearbox               0\n",
       "power                 0\n",
       "model                 0\n",
       "kilometer             0\n",
       "registration_month    0\n",
       "fuel_type             0\n",
       "brand                 0\n",
       "repaired              0\n",
       "dtype: int64"
      ]
     },
     "execution_count": 13,
     "metadata": {},
     "output_type": "execute_result"
    }
   ],
   "source": [
    "# Заменим пропущенные значения новой категорией \"unknown\"\n",
    "for column in ['vehicle_type', 'gearbox', 'model', 'fuel_type', 'repaired']:\n",
    "    data[column].fillna('unknown', inplace=True)\n",
    "data.isnull().sum()"
   ]
  },
  {
   "cell_type": "markdown",
   "metadata": {},
   "source": [
    "### Удаление дубликатов"
   ]
  },
  {
   "cell_type": "code",
   "execution_count": 14,
   "metadata": {
    "scrolled": true
   },
   "outputs": [
    {
     "data": {
      "text/plain": [
       "0"
      ]
     },
     "execution_count": 14,
     "metadata": {},
     "output_type": "execute_result"
    }
   ],
   "source": [
    "data = data.drop_duplicates()\n",
    "data.duplicated().sum()"
   ]
  },
  {
   "cell_type": "markdown",
   "metadata": {},
   "source": [
    "### Замена дублирующихся значений в категориях"
   ]
  },
  {
   "cell_type": "code",
   "execution_count": 15,
   "metadata": {
    "scrolled": true
   },
   "outputs": [
    {
     "data": {
      "text/plain": [
       "array(['petrol', 'gasoline', 'unknown', 'lpg', 'other', 'hybrid', 'cng',\n",
       "       'electric'], dtype=object)"
      ]
     },
     "execution_count": 15,
     "metadata": {},
     "output_type": "execute_result"
    }
   ],
   "source": [
    "data['fuel_type'].unique()"
   ]
  },
  {
   "cell_type": "code",
   "execution_count": 16,
   "metadata": {},
   "outputs": [],
   "source": [
    "# gasoline то же самое, что и petrol, поэтому переименуем\n",
    "data['fuel_type'] = data['fuel_type'].replace(['gasoline'],'petrol')"
   ]
  },
  {
   "cell_type": "code",
   "execution_count": 17,
   "metadata": {},
   "outputs": [],
   "source": [
    "data.loc[data['registration_month'] == 0, 'registration_month'] = 1"
   ]
  },
  {
   "cell_type": "markdown",
   "metadata": {},
   "source": [
    "## Обработка выбросов"
   ]
  },
  {
   "cell_type": "code",
   "execution_count": 18,
   "metadata": {
    "scrolled": false
   },
   "outputs": [
    {
     "data": {
      "text/html": [
       "<div>\n",
       "<style scoped>\n",
       "    .dataframe tbody tr th:only-of-type {\n",
       "        vertical-align: middle;\n",
       "    }\n",
       "\n",
       "    .dataframe tbody tr th {\n",
       "        vertical-align: top;\n",
       "    }\n",
       "\n",
       "    .dataframe thead th {\n",
       "        text-align: right;\n",
       "    }\n",
       "</style>\n",
       "<table border=\"1\" class=\"dataframe\">\n",
       "  <thead>\n",
       "    <tr style=\"text-align: right;\">\n",
       "      <th></th>\n",
       "      <th>price</th>\n",
       "      <th>registration_year</th>\n",
       "      <th>power</th>\n",
       "      <th>kilometer</th>\n",
       "      <th>registration_month</th>\n",
       "    </tr>\n",
       "  </thead>\n",
       "  <tbody>\n",
       "    <tr>\n",
       "      <th>count</th>\n",
       "      <td>326826.000000</td>\n",
       "      <td>326826.000000</td>\n",
       "      <td>326826.000000</td>\n",
       "      <td>326826.000000</td>\n",
       "      <td>326826.000000</td>\n",
       "    </tr>\n",
       "    <tr>\n",
       "      <th>mean</th>\n",
       "      <td>4403.747330</td>\n",
       "      <td>2004.230985</td>\n",
       "      <td>110.244705</td>\n",
       "      <td>128144.073605</td>\n",
       "      <td>5.802589</td>\n",
       "    </tr>\n",
       "    <tr>\n",
       "      <th>std</th>\n",
       "      <td>4518.209808</td>\n",
       "      <td>91.120018</td>\n",
       "      <td>195.886373</td>\n",
       "      <td>37947.663920</td>\n",
       "      <td>3.571068</td>\n",
       "    </tr>\n",
       "    <tr>\n",
       "      <th>min</th>\n",
       "      <td>0.000000</td>\n",
       "      <td>1000.000000</td>\n",
       "      <td>0.000000</td>\n",
       "      <td>5000.000000</td>\n",
       "      <td>1.000000</td>\n",
       "    </tr>\n",
       "    <tr>\n",
       "      <th>25%</th>\n",
       "      <td>1000.000000</td>\n",
       "      <td>1999.000000</td>\n",
       "      <td>69.000000</td>\n",
       "      <td>125000.000000</td>\n",
       "      <td>3.000000</td>\n",
       "    </tr>\n",
       "    <tr>\n",
       "      <th>50%</th>\n",
       "      <td>2700.000000</td>\n",
       "      <td>2003.000000</td>\n",
       "      <td>105.000000</td>\n",
       "      <td>150000.000000</td>\n",
       "      <td>6.000000</td>\n",
       "    </tr>\n",
       "    <tr>\n",
       "      <th>75%</th>\n",
       "      <td>6350.000000</td>\n",
       "      <td>2008.000000</td>\n",
       "      <td>141.000000</td>\n",
       "      <td>150000.000000</td>\n",
       "      <td>9.000000</td>\n",
       "    </tr>\n",
       "    <tr>\n",
       "      <th>max</th>\n",
       "      <td>20000.000000</td>\n",
       "      <td>9999.000000</td>\n",
       "      <td>20000.000000</td>\n",
       "      <td>150000.000000</td>\n",
       "      <td>12.000000</td>\n",
       "    </tr>\n",
       "  </tbody>\n",
       "</table>\n",
       "</div>"
      ],
      "text/plain": [
       "               price  registration_year          power      kilometer  \\\n",
       "count  326826.000000      326826.000000  326826.000000  326826.000000   \n",
       "mean     4403.747330        2004.230985     110.244705  128144.073605   \n",
       "std      4518.209808          91.120018     195.886373   37947.663920   \n",
       "min         0.000000        1000.000000       0.000000    5000.000000   \n",
       "25%      1000.000000        1999.000000      69.000000  125000.000000   \n",
       "50%      2700.000000        2003.000000     105.000000  150000.000000   \n",
       "75%      6350.000000        2008.000000     141.000000  150000.000000   \n",
       "max     20000.000000        9999.000000   20000.000000  150000.000000   \n",
       "\n",
       "       registration_month  \n",
       "count       326826.000000  \n",
       "mean             5.802589  \n",
       "std              3.571068  \n",
       "min              1.000000  \n",
       "25%              3.000000  \n",
       "50%              6.000000  \n",
       "75%              9.000000  \n",
       "max             12.000000  "
      ]
     },
     "execution_count": 18,
     "metadata": {},
     "output_type": "execute_result"
    }
   ],
   "source": [
    "data.describe()"
   ]
  },
  {
   "cell_type": "markdown",
   "metadata": {},
   "source": [
    "### Год регистрации"
   ]
  },
  {
   "cell_type": "code",
   "execution_count": 19,
   "metadata": {},
   "outputs": [],
   "source": [
    "# Можно предположить, что реальные годы регистрации находятся в интервале\n",
    "# 1885 (изобретение автомобиля) - 2016 (дата скачивания анкеты из базы)\n",
    "data = data[(data['registration_year'] >= 1885) & (data['registration_year'] <= 2016)]"
   ]
  },
  {
   "cell_type": "markdown",
   "metadata": {},
   "source": [
    "### Мощность двигателя"
   ]
  },
  {
   "cell_type": "code",
   "execution_count": 20,
   "metadata": {},
   "outputs": [],
   "source": [
    "# Предполагаем, что реалистичная мощность двигателя находится в диапазоне от 1 до 2000 л.с.\n",
    "data = data[(data['power'] > 0) & (data['power'] <= 2000)]"
   ]
  },
  {
   "cell_type": "markdown",
   "metadata": {},
   "source": [
    "### Аномалии в цене "
   ]
  },
  {
   "cell_type": "code",
   "execution_count": 21,
   "metadata": {},
   "outputs": [],
   "source": [
    "# Предполагаем, что автомобили с ценой 0 - это ошибка, поэтому точно удаляем эти записи.\n",
    "# Скорее всего, цены ниже 100 евро тоже ошибочны, поэтому удалим их.\n",
    "data = data[data['price'] > 100]"
   ]
  },
  {
   "cell_type": "markdown",
   "metadata": {},
   "source": [
    "### Удаление дубликатов v2"
   ]
  },
  {
   "cell_type": "code",
   "execution_count": 22,
   "metadata": {},
   "outputs": [
    {
     "data": {
      "text/plain": [
       "271"
      ]
     },
     "execution_count": 22,
     "metadata": {},
     "output_type": "execute_result"
    }
   ],
   "source": [
    "data.duplicated().sum()"
   ]
  },
  {
   "cell_type": "code",
   "execution_count": 23,
   "metadata": {
    "scrolled": true
   },
   "outputs": [
    {
     "data": {
      "text/plain": [
       "0"
      ]
     },
     "execution_count": 23,
     "metadata": {},
     "output_type": "execute_result"
    }
   ],
   "source": [
    "data = data.drop_duplicates()\n",
    "data.duplicated().sum()"
   ]
  },
  {
   "cell_type": "code",
   "execution_count": 24,
   "metadata": {
    "scrolled": false
   },
   "outputs": [
    {
     "data": {
      "text/html": [
       "<div>\n",
       "<style scoped>\n",
       "    .dataframe tbody tr th:only-of-type {\n",
       "        vertical-align: middle;\n",
       "    }\n",
       "\n",
       "    .dataframe tbody tr th {\n",
       "        vertical-align: top;\n",
       "    }\n",
       "\n",
       "    .dataframe thead th {\n",
       "        text-align: right;\n",
       "    }\n",
       "</style>\n",
       "<table border=\"1\" class=\"dataframe\">\n",
       "  <thead>\n",
       "    <tr style=\"text-align: right;\">\n",
       "      <th></th>\n",
       "      <th>price</th>\n",
       "      <th>registration_year</th>\n",
       "      <th>power</th>\n",
       "      <th>kilometer</th>\n",
       "      <th>registration_month</th>\n",
       "    </tr>\n",
       "  </thead>\n",
       "  <tbody>\n",
       "    <tr>\n",
       "      <th>count</th>\n",
       "      <td>271651.000000</td>\n",
       "      <td>271651.000000</td>\n",
       "      <td>271651.000000</td>\n",
       "      <td>271651.000000</td>\n",
       "      <td>271651.000000</td>\n",
       "    </tr>\n",
       "    <tr>\n",
       "      <th>mean</th>\n",
       "      <td>4865.601220</td>\n",
       "      <td>2002.799798</td>\n",
       "      <td>121.532297</td>\n",
       "      <td>128187.288101</td>\n",
       "      <td>6.044292</td>\n",
       "    </tr>\n",
       "    <tr>\n",
       "      <th>std</th>\n",
       "      <td>4615.461251</td>\n",
       "      <td>6.605783</td>\n",
       "      <td>63.820391</td>\n",
       "      <td>36849.275900</td>\n",
       "      <td>3.487775</td>\n",
       "    </tr>\n",
       "    <tr>\n",
       "      <th>min</th>\n",
       "      <td>101.000000</td>\n",
       "      <td>1910.000000</td>\n",
       "      <td>1.000000</td>\n",
       "      <td>5000.000000</td>\n",
       "      <td>1.000000</td>\n",
       "    </tr>\n",
       "    <tr>\n",
       "      <th>25%</th>\n",
       "      <td>1350.000000</td>\n",
       "      <td>1999.000000</td>\n",
       "      <td>77.000000</td>\n",
       "      <td>125000.000000</td>\n",
       "      <td>3.000000</td>\n",
       "    </tr>\n",
       "    <tr>\n",
       "      <th>50%</th>\n",
       "      <td>3200.000000</td>\n",
       "      <td>2003.000000</td>\n",
       "      <td>111.000000</td>\n",
       "      <td>150000.000000</td>\n",
       "      <td>6.000000</td>\n",
       "    </tr>\n",
       "    <tr>\n",
       "      <th>75%</th>\n",
       "      <td>6999.000000</td>\n",
       "      <td>2007.000000</td>\n",
       "      <td>150.000000</td>\n",
       "      <td>150000.000000</td>\n",
       "      <td>9.000000</td>\n",
       "    </tr>\n",
       "    <tr>\n",
       "      <th>max</th>\n",
       "      <td>20000.000000</td>\n",
       "      <td>2016.000000</td>\n",
       "      <td>2000.000000</td>\n",
       "      <td>150000.000000</td>\n",
       "      <td>12.000000</td>\n",
       "    </tr>\n",
       "  </tbody>\n",
       "</table>\n",
       "</div>"
      ],
      "text/plain": [
       "               price  registration_year          power      kilometer  \\\n",
       "count  271651.000000      271651.000000  271651.000000  271651.000000   \n",
       "mean     4865.601220        2002.799798     121.532297  128187.288101   \n",
       "std      4615.461251           6.605783      63.820391   36849.275900   \n",
       "min       101.000000        1910.000000       1.000000    5000.000000   \n",
       "25%      1350.000000        1999.000000      77.000000  125000.000000   \n",
       "50%      3200.000000        2003.000000     111.000000  150000.000000   \n",
       "75%      6999.000000        2007.000000     150.000000  150000.000000   \n",
       "max     20000.000000        2016.000000    2000.000000  150000.000000   \n",
       "\n",
       "       registration_month  \n",
       "count       271651.000000  \n",
       "mean             6.044292  \n",
       "std              3.487775  \n",
       "min              1.000000  \n",
       "25%              3.000000  \n",
       "50%              6.000000  \n",
       "75%              9.000000  \n",
       "max             12.000000  "
      ]
     },
     "execution_count": 24,
     "metadata": {},
     "output_type": "execute_result"
    }
   ],
   "source": [
    "# Проверяем результат\n",
    "data.describe()"
   ]
  },
  {
   "cell_type": "markdown",
   "metadata": {},
   "source": [
    "### Вывод"
   ]
  },
  {
   "cell_type": "markdown",
   "metadata": {},
   "source": [
    "Мы выполнили предобработку данных, включающую обработку пропущенных значений и аномалий. Пропуски в категориальных признаках были выделены в отдельную колонку 'unknown'.\n",
    "\n",
    "При обработке аномалий мы обнаружили необычные значения в признаках 'registration_year', 'power' и 'price'. Было принято решение ограничить годы регистрации интервалом 1885-2023, мощность автомобилей интервалом 1-2000 л.с., и исключить автомобили с нулевой ценой.\n",
    "\n",
    "После этих шагов мы получили более чистый датасет, состоящий из 271 651 объектов, который можно использовать для построения моделей машинного обучения."
   ]
  },
  {
   "cell_type": "markdown",
   "metadata": {},
   "source": [
    "## Обучение моделей"
   ]
  },
  {
   "cell_type": "markdown",
   "metadata": {},
   "source": [
    "### Разделение данных на обучающую, валидационную и тестовую выборки"
   ]
  },
  {
   "cell_type": "code",
   "execution_count": 25,
   "metadata": {},
   "outputs": [],
   "source": [
    "trainX, tempX, trainY, tempY = train_test_split(data.drop(\"price\", axis=1), \n",
    "                                                data[\"price\"], \n",
    "                                                test_size=0.4, \n",
    "                                                random_state=12345)\n",
    "\n",
    "valX, testX, valY, testY = train_test_split(tempX, tempY, \n",
    "                                            test_size=0.5, \n",
    "                                            random_state=12345)"
   ]
  },
  {
   "cell_type": "code",
   "execution_count": 26,
   "metadata": {},
   "outputs": [
    {
     "data": {
      "text/html": [
       "<div>\n",
       "<style scoped>\n",
       "    .dataframe tbody tr th:only-of-type {\n",
       "        vertical-align: middle;\n",
       "    }\n",
       "\n",
       "    .dataframe tbody tr th {\n",
       "        vertical-align: top;\n",
       "    }\n",
       "\n",
       "    .dataframe thead th {\n",
       "        text-align: right;\n",
       "    }\n",
       "</style>\n",
       "<table border=\"1\" class=\"dataframe\">\n",
       "  <thead>\n",
       "    <tr style=\"text-align: right;\">\n",
       "      <th></th>\n",
       "      <th>vehicle_type_convertible</th>\n",
       "      <th>vehicle_type_coupe</th>\n",
       "      <th>vehicle_type_other</th>\n",
       "      <th>vehicle_type_sedan</th>\n",
       "      <th>vehicle_type_small</th>\n",
       "      <th>vehicle_type_suv</th>\n",
       "      <th>vehicle_type_unknown</th>\n",
       "      <th>vehicle_type_wagon</th>\n",
       "      <th>gearbox_manual</th>\n",
       "      <th>gearbox_unknown</th>\n",
       "      <th>...</th>\n",
       "      <th>fuel_type_petrol</th>\n",
       "      <th>fuel_type_unknown</th>\n",
       "      <th>repaired_unknown</th>\n",
       "      <th>repaired_yes</th>\n",
       "      <th>brand</th>\n",
       "      <th>model</th>\n",
       "      <th>registration_year</th>\n",
       "      <th>power</th>\n",
       "      <th>kilometer</th>\n",
       "      <th>registration_month</th>\n",
       "    </tr>\n",
       "  </thead>\n",
       "  <tbody>\n",
       "    <tr>\n",
       "      <th>0</th>\n",
       "      <td>0.0</td>\n",
       "      <td>0.0</td>\n",
       "      <td>0.0</td>\n",
       "      <td>1.0</td>\n",
       "      <td>0.0</td>\n",
       "      <td>0.0</td>\n",
       "      <td>0.0</td>\n",
       "      <td>0.0</td>\n",
       "      <td>1.0</td>\n",
       "      <td>0.0</td>\n",
       "      <td>...</td>\n",
       "      <td>1.0</td>\n",
       "      <td>0.0</td>\n",
       "      <td>0.0</td>\n",
       "      <td>0.0</td>\n",
       "      <td>6640.479568</td>\n",
       "      <td>5369.763408</td>\n",
       "      <td>1997.0</td>\n",
       "      <td>170.0</td>\n",
       "      <td>150000.0</td>\n",
       "      <td>10.0</td>\n",
       "    </tr>\n",
       "    <tr>\n",
       "      <th>1</th>\n",
       "      <td>0.0</td>\n",
       "      <td>0.0</td>\n",
       "      <td>0.0</td>\n",
       "      <td>0.0</td>\n",
       "      <td>1.0</td>\n",
       "      <td>0.0</td>\n",
       "      <td>0.0</td>\n",
       "      <td>0.0</td>\n",
       "      <td>1.0</td>\n",
       "      <td>0.0</td>\n",
       "      <td>...</td>\n",
       "      <td>1.0</td>\n",
       "      <td>0.0</td>\n",
       "      <td>0.0</td>\n",
       "      <td>0.0</td>\n",
       "      <td>3533.302057</td>\n",
       "      <td>2929.579824</td>\n",
       "      <td>2001.0</td>\n",
       "      <td>60.0</td>\n",
       "      <td>100000.0</td>\n",
       "      <td>9.0</td>\n",
       "    </tr>\n",
       "    <tr>\n",
       "      <th>2</th>\n",
       "      <td>0.0</td>\n",
       "      <td>0.0</td>\n",
       "      <td>0.0</td>\n",
       "      <td>0.0</td>\n",
       "      <td>0.0</td>\n",
       "      <td>0.0</td>\n",
       "      <td>0.0</td>\n",
       "      <td>1.0</td>\n",
       "      <td>1.0</td>\n",
       "      <td>0.0</td>\n",
       "      <td>...</td>\n",
       "      <td>1.0</td>\n",
       "      <td>0.0</td>\n",
       "      <td>0.0</td>\n",
       "      <td>1.0</td>\n",
       "      <td>3953.215082</td>\n",
       "      <td>3732.661544</td>\n",
       "      <td>2000.0</td>\n",
       "      <td>191.0</td>\n",
       "      <td>125000.0</td>\n",
       "      <td>7.0</td>\n",
       "    </tr>\n",
       "    <tr>\n",
       "      <th>3</th>\n",
       "      <td>0.0</td>\n",
       "      <td>0.0</td>\n",
       "      <td>0.0</td>\n",
       "      <td>0.0</td>\n",
       "      <td>0.0</td>\n",
       "      <td>0.0</td>\n",
       "      <td>1.0</td>\n",
       "      <td>0.0</td>\n",
       "      <td>1.0</td>\n",
       "      <td>0.0</td>\n",
       "      <td>...</td>\n",
       "      <td>0.0</td>\n",
       "      <td>1.0</td>\n",
       "      <td>0.0</td>\n",
       "      <td>0.0</td>\n",
       "      <td>3078.309752</td>\n",
       "      <td>1207.896228</td>\n",
       "      <td>2000.0</td>\n",
       "      <td>144.0</td>\n",
       "      <td>150000.0</td>\n",
       "      <td>3.0</td>\n",
       "    </tr>\n",
       "    <tr>\n",
       "      <th>4</th>\n",
       "      <td>0.0</td>\n",
       "      <td>0.0</td>\n",
       "      <td>0.0</td>\n",
       "      <td>0.0</td>\n",
       "      <td>1.0</td>\n",
       "      <td>0.0</td>\n",
       "      <td>0.0</td>\n",
       "      <td>0.0</td>\n",
       "      <td>1.0</td>\n",
       "      <td>0.0</td>\n",
       "      <td>...</td>\n",
       "      <td>1.0</td>\n",
       "      <td>0.0</td>\n",
       "      <td>0.0</td>\n",
       "      <td>1.0</td>\n",
       "      <td>4844.423247</td>\n",
       "      <td>1499.714866</td>\n",
       "      <td>2000.0</td>\n",
       "      <td>75.0</td>\n",
       "      <td>150000.0</td>\n",
       "      <td>1.0</td>\n",
       "    </tr>\n",
       "  </tbody>\n",
       "</table>\n",
       "<p>5 rows × 24 columns</p>\n",
       "</div>"
      ],
      "text/plain": [
       "   vehicle_type_convertible  vehicle_type_coupe  vehicle_type_other  \\\n",
       "0                       0.0                 0.0                 0.0   \n",
       "1                       0.0                 0.0                 0.0   \n",
       "2                       0.0                 0.0                 0.0   \n",
       "3                       0.0                 0.0                 0.0   \n",
       "4                       0.0                 0.0                 0.0   \n",
       "\n",
       "   vehicle_type_sedan  vehicle_type_small  vehicle_type_suv  \\\n",
       "0                 1.0                 0.0               0.0   \n",
       "1                 0.0                 1.0               0.0   \n",
       "2                 0.0                 0.0               0.0   \n",
       "3                 0.0                 0.0               0.0   \n",
       "4                 0.0                 1.0               0.0   \n",
       "\n",
       "   vehicle_type_unknown  vehicle_type_wagon  gearbox_manual  gearbox_unknown  \\\n",
       "0                   0.0                 0.0             1.0              0.0   \n",
       "1                   0.0                 0.0             1.0              0.0   \n",
       "2                   0.0                 1.0             1.0              0.0   \n",
       "3                   1.0                 0.0             1.0              0.0   \n",
       "4                   0.0                 0.0             1.0              0.0   \n",
       "\n",
       "   ...  fuel_type_petrol  fuel_type_unknown  repaired_unknown  repaired_yes  \\\n",
       "0  ...               1.0                0.0               0.0           0.0   \n",
       "1  ...               1.0                0.0               0.0           0.0   \n",
       "2  ...               1.0                0.0               0.0           1.0   \n",
       "3  ...               0.0                1.0               0.0           0.0   \n",
       "4  ...               1.0                0.0               0.0           1.0   \n",
       "\n",
       "         brand        model  registration_year  power  kilometer  \\\n",
       "0  6640.479568  5369.763408             1997.0  170.0   150000.0   \n",
       "1  3533.302057  2929.579824             2001.0   60.0   100000.0   \n",
       "2  3953.215082  3732.661544             2000.0  191.0   125000.0   \n",
       "3  3078.309752  1207.896228             2000.0  144.0   150000.0   \n",
       "4  4844.423247  1499.714866             2000.0   75.0   150000.0   \n",
       "\n",
       "   registration_month  \n",
       "0                10.0  \n",
       "1                 9.0  \n",
       "2                 7.0  \n",
       "3                 3.0  \n",
       "4                 1.0  \n",
       "\n",
       "[5 rows x 24 columns]"
      ]
     },
     "execution_count": 26,
     "metadata": {},
     "output_type": "execute_result"
    }
   ],
   "source": [
    "categorical_cols_ohe = [\"vehicle_type\", \"gearbox\", \"fuel_type\", \"repaired\"]\n",
    "target_encode_cols = [\"brand\", \"model\"]\n",
    "\n",
    "# Создаем трансформеры\n",
    "ohe = OneHotEncoder(drop='first', sparse_output=False, handle_unknown='ignore')\n",
    "me = MEstimateEncoder(cols=target_encode_cols)\n",
    "\n",
    "# Создаем пайплайн для целевого кодирования\n",
    "target_encode_pipeline = make_pipeline(me)\n",
    "\n",
    "# Создаем ColumnTransformer, который включает все преобразования\n",
    "preprocessor = make_column_transformer(\n",
    "    (ohe, categorical_cols_ohe),\n",
    "    (target_encode_pipeline, target_encode_cols),\n",
    "    remainder='passthrough'\n",
    ")\n",
    "\n",
    "# Обучаем ColumnTransformer на тренировочных данных и преобразуем тренировочные данные\n",
    "trainX_encoded = preprocessor.fit_transform(trainX, trainY)\n",
    "\n",
    "# Преобразуем валидационные и тестовые данные\n",
    "valX_encoded = preprocessor.transform(valX)\n",
    "testX_encoded = preprocessor.transform(testX)\n",
    "\n",
    "# Получаем список названий признаков, учитывая, что для признаков с целевым кодированием\n",
    "# названия признаков будут такими же, как в target_encode_cols\n",
    "feature_names = (list(preprocessor.named_transformers_['onehotencoder'].get_feature_names_out(categorical_cols_ohe)) \n",
    "                 + target_encode_cols + [c for c in trainX.columns if c not in (categorical_cols_ohe \n",
    "                                                                                + target_encode_cols)])\n",
    "\n",
    "# Конвертируем numpy массивы обратно в датафреймы\n",
    "trainX_encoded = pd.DataFrame(trainX_encoded, columns = feature_names)\n",
    "valX_encoded = pd.DataFrame(valX_encoded, columns = feature_names)\n",
    "testX_encoded = pd.DataFrame(testX_encoded, columns = feature_names)\n",
    "\n",
    "trainX_encoded.head()"
   ]
  },
  {
   "cell_type": "code",
   "execution_count": 27,
   "metadata": {},
   "outputs": [
    {
     "name": "stdout",
     "output_type": "stream",
     "text": [
      "(162990, 24)\n",
      "(54330, 24)\n",
      "(54331, 24)\n"
     ]
    }
   ],
   "source": [
    "print(trainX_encoded.shape)\n",
    "print(valX_encoded.shape)\n",
    "print(testX_encoded.shape)"
   ]
  },
  {
   "cell_type": "code",
   "execution_count": 28,
   "metadata": {},
   "outputs": [],
   "source": [
    "data_lightgbm = data.astype({\"vehicle_type\":'category',\n",
    "                                  \"gearbox\":'category',\n",
    "                                  \"model\":'category',\n",
    "                                  \"fuel_type\":'category',\n",
    "                                  \"brand\":'category',\n",
    "                                  \"repaired\":'category'})"
   ]
  },
  {
   "cell_type": "code",
   "execution_count": 29,
   "metadata": {},
   "outputs": [],
   "source": [
    "(trainX_lightgbm, tempX_lightgbm,\n",
    " trainY_lightgbm, tempY_lightgbm) = train_test_split(data_lightgbm.drop(\"price\",axis = 1),\n",
    "                                                     data_lightgbm[\"price\"],\n",
    "                                                     test_size = 0.4,\n",
    "                                                     random_state = 12345)\n",
    "\n",
    "(testX_lightgbm, valX_lightgbm,\n",
    " testY_lightgbm, valY_lightgbm) = train_test_split(tempX_lightgbm, tempY_lightgbm,\n",
    "                                                   test_size = 0.5,\n",
    "                                                   random_state = 12345)\n"
   ]
  },
  {
   "cell_type": "markdown",
   "metadata": {},
   "source": [
    "### Линенейная регрессия"
   ]
  },
  {
   "cell_type": "code",
   "execution_count": 30,
   "metadata": {},
   "outputs": [],
   "source": [
    "# Создаем объект стандартизатора\n",
    "scaler = StandardScaler()\n",
    "\n",
    "# Обучаем стандартизатор на обучающем наборе и применяем его к обучающему и валидационному набору\n",
    "trainX_scaled = scaler.fit_transform(trainX_encoded)\n",
    "valX_scaled = scaler.transform(valX_encoded)\n",
    "testX_scaled = scaler.transform(testX_encoded)"
   ]
  },
  {
   "cell_type": "code",
   "execution_count": 31,
   "metadata": {
    "scrolled": true
   },
   "outputs": [
    {
     "name": "stdout",
     "output_type": "stream",
     "text": [
      "Cross-validation RMSE for Linear Regression:  [2850.63007681 2912.91538973 2887.22403066 2879.1774058  2894.27645333]\n",
      "Mean cross-validation RMSE:  2884.844671267395\n",
      "Standard Deviation of cross-validation RMSE:  20.422249977443098\n",
      "CPU times: user 2.42 s, sys: 331 ms, total: 2.76 s\n",
      "Wall time: 431 ms\n"
     ]
    }
   ],
   "source": [
    "%%time\n",
    "\n",
    "linear_model = LinearRegression()\n",
    "\n",
    "# Проведение кросс-валидации с 5 фолдами\n",
    "cross_val_scores = cross_val_score(linear_model, trainX_scaled, trainY, cv=5, scoring='neg_root_mean_squared_error')\n",
    "\n",
    "cross_val_rmse = -cross_val_scores\n",
    "\n",
    "print(\"Cross-validation RMSE for Linear Regression: \", cross_val_rmse)\n",
    "\n",
    "# Вывод среднего значения и стандартного отклонения RMSE по всем фолдам\n",
    "print(\"Mean cross-validation RMSE: \", cross_val_rmse.mean())\n",
    "print(\"Standard Deviation of cross-validation RMSE: \", cross_val_rmse.std())\n"
   ]
  },
  {
   "cell_type": "code",
   "execution_count": 32,
   "metadata": {},
   "outputs": [
    {
     "name": "stdout",
     "output_type": "stream",
     "text": [
      "CPU times: user 671 ms, sys: 56.3 ms, total: 727 ms\n",
      "Wall time: 107 ms\n"
     ]
    },
    {
     "data": {
      "text/html": [
       "<style>#sk-container-id-1 {color: black;background-color: white;}#sk-container-id-1 pre{padding: 0;}#sk-container-id-1 div.sk-toggleable {background-color: white;}#sk-container-id-1 label.sk-toggleable__label {cursor: pointer;display: block;width: 100%;margin-bottom: 0;padding: 0.3em;box-sizing: border-box;text-align: center;}#sk-container-id-1 label.sk-toggleable__label-arrow:before {content: \"▸\";float: left;margin-right: 0.25em;color: #696969;}#sk-container-id-1 label.sk-toggleable__label-arrow:hover:before {color: black;}#sk-container-id-1 div.sk-estimator:hover label.sk-toggleable__label-arrow:before {color: black;}#sk-container-id-1 div.sk-toggleable__content {max-height: 0;max-width: 0;overflow: hidden;text-align: left;background-color: #f0f8ff;}#sk-container-id-1 div.sk-toggleable__content pre {margin: 0.2em;color: black;border-radius: 0.25em;background-color: #f0f8ff;}#sk-container-id-1 input.sk-toggleable__control:checked~div.sk-toggleable__content {max-height: 200px;max-width: 100%;overflow: auto;}#sk-container-id-1 input.sk-toggleable__control:checked~label.sk-toggleable__label-arrow:before {content: \"▾\";}#sk-container-id-1 div.sk-estimator input.sk-toggleable__control:checked~label.sk-toggleable__label {background-color: #d4ebff;}#sk-container-id-1 div.sk-label input.sk-toggleable__control:checked~label.sk-toggleable__label {background-color: #d4ebff;}#sk-container-id-1 input.sk-hidden--visually {border: 0;clip: rect(1px 1px 1px 1px);clip: rect(1px, 1px, 1px, 1px);height: 1px;margin: -1px;overflow: hidden;padding: 0;position: absolute;width: 1px;}#sk-container-id-1 div.sk-estimator {font-family: monospace;background-color: #f0f8ff;border: 1px dotted black;border-radius: 0.25em;box-sizing: border-box;margin-bottom: 0.5em;}#sk-container-id-1 div.sk-estimator:hover {background-color: #d4ebff;}#sk-container-id-1 div.sk-parallel-item::after {content: \"\";width: 100%;border-bottom: 1px solid gray;flex-grow: 1;}#sk-container-id-1 div.sk-label:hover label.sk-toggleable__label {background-color: #d4ebff;}#sk-container-id-1 div.sk-serial::before {content: \"\";position: absolute;border-left: 1px solid gray;box-sizing: border-box;top: 0;bottom: 0;left: 50%;z-index: 0;}#sk-container-id-1 div.sk-serial {display: flex;flex-direction: column;align-items: center;background-color: white;padding-right: 0.2em;padding-left: 0.2em;position: relative;}#sk-container-id-1 div.sk-item {position: relative;z-index: 1;}#sk-container-id-1 div.sk-parallel {display: flex;align-items: stretch;justify-content: center;background-color: white;position: relative;}#sk-container-id-1 div.sk-item::before, #sk-container-id-1 div.sk-parallel-item::before {content: \"\";position: absolute;border-left: 1px solid gray;box-sizing: border-box;top: 0;bottom: 0;left: 50%;z-index: -1;}#sk-container-id-1 div.sk-parallel-item {display: flex;flex-direction: column;z-index: 1;position: relative;background-color: white;}#sk-container-id-1 div.sk-parallel-item:first-child::after {align-self: flex-end;width: 50%;}#sk-container-id-1 div.sk-parallel-item:last-child::after {align-self: flex-start;width: 50%;}#sk-container-id-1 div.sk-parallel-item:only-child::after {width: 0;}#sk-container-id-1 div.sk-dashed-wrapped {border: 1px dashed gray;margin: 0 0.4em 0.5em 0.4em;box-sizing: border-box;padding-bottom: 0.4em;background-color: white;}#sk-container-id-1 div.sk-label label {font-family: monospace;font-weight: bold;display: inline-block;line-height: 1.2em;}#sk-container-id-1 div.sk-label-container {text-align: center;}#sk-container-id-1 div.sk-container {/* jupyter's `normalize.less` sets `[hidden] { display: none; }` but bootstrap.min.css set `[hidden] { display: none !important; }` so we also need the `!important` here to be able to override the default hidden behavior on the sphinx rendered scikit-learn.org. See: https://github.com/scikit-learn/scikit-learn/issues/21755 */display: inline-block !important;position: relative;}#sk-container-id-1 div.sk-text-repr-fallback {display: none;}</style><div id=\"sk-container-id-1\" class=\"sk-top-container\"><div class=\"sk-text-repr-fallback\"><pre>LinearRegression()</pre><b>In a Jupyter environment, please rerun this cell to show the HTML representation or trust the notebook. <br />On GitHub, the HTML representation is unable to render, please try loading this page with nbviewer.org.</b></div><div class=\"sk-container\" hidden><div class=\"sk-item\"><div class=\"sk-estimator sk-toggleable\"><input class=\"sk-toggleable__control sk-hidden--visually\" id=\"sk-estimator-id-1\" type=\"checkbox\" checked><label for=\"sk-estimator-id-1\" class=\"sk-toggleable__label sk-toggleable__label-arrow\">LinearRegression</label><div class=\"sk-toggleable__content\"><pre>LinearRegression()</pre></div></div></div></div></div>"
      ],
      "text/plain": [
       "LinearRegression()"
      ]
     },
     "execution_count": 32,
     "metadata": {},
     "output_type": "execute_result"
    }
   ],
   "source": [
    "%%time\n",
    "\n",
    "# Создаем и обучаем модель\n",
    "linear_model = LinearRegression()\n",
    "linear_model.fit(trainX_scaled, trainY)"
   ]
  },
  {
   "cell_type": "code",
   "execution_count": 33,
   "metadata": {},
   "outputs": [
    {
     "name": "stdout",
     "output_type": "stream",
     "text": [
      "RMSE for Linear Regression:  2912.013998155108\n",
      "CPU times: user 34 ms, sys: 1.56 ms, total: 35.6 ms\n",
      "Wall time: 7.98 ms\n"
     ]
    }
   ],
   "source": [
    "%%time\n",
    "\n",
    "# Проверяем качество модели на валидационной выборке\n",
    "predictions = linear_model.predict(valX_scaled)\n",
    "\n",
    "# Расчитываем RMSE\n",
    "rmse = mean_squared_error(valY, predictions, squared=False)\n",
    "\n",
    "print(\"RMSE for Linear Regression: \", rmse)"
   ]
  },
  {
   "cell_type": "markdown",
   "metadata": {},
   "source": [
    "### LightGBM"
   ]
  },
  {
   "cell_type": "code",
   "execution_count": 34,
   "metadata": {
    "scrolled": true
   },
   "outputs": [
    {
     "name": "stdout",
     "output_type": "stream",
     "text": [
      "Best parameters:  {'learning_rate': 0.1, 'max_depth': -1, 'n_estimators': 100}\n",
      "CPU times: user 2.85 s, sys: 1.31 s, total: 4.16 s\n",
      "Wall time: 7.06 s\n"
     ]
    }
   ],
   "source": [
    "%%time\n",
    "# Параметры для поиска\n",
    "param_grid = {\n",
    "    'n_estimators': [50, 100],\n",
    "    'learning_rate': [0.01, 0.1],\n",
    "    'max_depth': [-1, 10],\n",
    "}\n",
    "\n",
    "lgbm = LGBMRegressor(random_state=12345)\n",
    "\n",
    "grid_search = GridSearchCV(estimator=lgbm, param_grid=param_grid,\n",
    "                           cv=3, scoring='neg_root_mean_squared_error', n_jobs=-1)\n",
    "\n",
    "# Обучаем модель\n",
    "grid_search.fit(trainX_lightgbm, trainY_lightgbm)\n",
    "\n",
    "# лучшие гиперпараметры\n",
    "best_parameters = grid_search.best_params_\n",
    "print(\"Best parameters: \", best_parameters)"
   ]
  },
  {
   "cell_type": "code",
   "execution_count": 35,
   "metadata": {},
   "outputs": [
    {
     "name": "stdout",
     "output_type": "stream",
     "text": [
      "RMSE for lgbm: 1606.4859155622244\n",
      "CPU times: user 3.54 s, sys: 1.41 s, total: 4.96 s\n",
      "Wall time: 1.18 s\n"
     ]
    }
   ],
   "source": [
    "%%time\n",
    "# Обучаем модель с использованием лучших гиперпараметров\n",
    "model_lgbm_best = LGBMRegressor(n_estimators=best_parameters['n_estimators'],\n",
    "                                learning_rate=best_parameters['learning_rate'],\n",
    "                                max_depth=best_parameters['max_depth'],\n",
    "                                loss_function='RMSE', \n",
    "                                random_seed=12345)\n",
    "\n",
    "model_lgbm_best.fit(trainX_lightgbm, trainY_lightgbm)\n",
    "\n",
    "# предсказания на валидационной выборке\n",
    "predictions_lgbm = model_lgbm_best.predict(valX_lightgbm)\n",
    "\n",
    "# RMSE на валидационной выборке\n",
    "rmse_lgbm = np.sqrt(mean_squared_error(valY_lightgbm, predictions_lgbm))\n",
    "\n",
    "print(\"RMSE for lgbm:\", rmse_lgbm)"
   ]
  },
  {
   "cell_type": "markdown",
   "metadata": {},
   "source": [
    "### Catboost"
   ]
  },
  {
   "cell_type": "code",
   "execution_count": 36,
   "metadata": {},
   "outputs": [
    {
     "name": "stdout",
     "output_type": "stream",
     "text": [
      "0:\tlearn: 4294.0492920\ttotal: 80ms\tremaining: 7.92s\n",
      "10:\tlearn: 2532.5740847\ttotal: 417ms\tremaining: 3.38s\n",
      "20:\tlearn: 1990.8238290\ttotal: 694ms\tremaining: 2.61s\n",
      "30:\tlearn: 1805.1324915\ttotal: 950ms\tremaining: 2.12s\n",
      "40:\tlearn: 1742.2136860\ttotal: 1.23s\tremaining: 1.76s\n",
      "50:\tlearn: 1705.6407656\ttotal: 1.51s\tremaining: 1.45s\n",
      "60:\tlearn: 1682.8704123\ttotal: 1.8s\tremaining: 1.15s\n",
      "70:\tlearn: 1659.7142180\ttotal: 2.2s\tremaining: 898ms\n",
      "80:\tlearn: 1642.8920599\ttotal: 2.47s\tremaining: 579ms\n",
      "90:\tlearn: 1628.3717722\ttotal: 2.74s\tremaining: 271ms\n",
      "99:\tlearn: 1618.0144823\ttotal: 3s\tremaining: 0us\n",
      "Best parameters:  {'depth': 10, 'iterations': 100, 'learning_rate': 0.1}\n",
      "CPU times: user 13.5 s, sys: 1.44 s, total: 14.9 s\n",
      "Wall time: 25.2 s\n"
     ]
    }
   ],
   "source": [
    "%%time\n",
    "\n",
    "# категориальные признаки для модели CatBoost\n",
    "cat_features = [\"vehicle_type\", \"gearbox\", \"model\", \"fuel_type\", \"brand\", \"repaired\"]\n",
    "\n",
    "# CatBoostRegressor\n",
    "model_catboost = CatBoostRegressor(loss_function='RMSE', random_seed=12345)\n",
    "\n",
    "# гиперпараметры для подбора\n",
    "params = {'depth': [6, 10],\n",
    "          'learning_rate' : [0.01, 0.1],\n",
    "          'iterations'    : [30, 100]}\n",
    "\n",
    "# GridSearch\n",
    "grid_search = GridSearchCV(estimator=model_catboost, param_grid = params, cv = 3, n_jobs=-1)\n",
    "grid_search.fit(trainX, trainY, cat_features=cat_features, verbose=10)\n",
    "\n",
    "# лучшие гиперпараметры\n",
    "best_parameters = grid_search.best_params_\n",
    "print(\"Best parameters: \", best_parameters)"
   ]
  },
  {
   "cell_type": "code",
   "execution_count": 37,
   "metadata": {
    "scrolled": true
   },
   "outputs": [
    {
     "name": "stdout",
     "output_type": "stream",
     "text": [
      "0:\tlearn: 4294.0492920\ttotal: 26ms\tremaining: 2.58s\n",
      "10:\tlearn: 2532.5740847\ttotal: 310ms\tremaining: 2.51s\n",
      "20:\tlearn: 1990.8238290\ttotal: 583ms\tremaining: 2.19s\n",
      "30:\tlearn: 1805.1324915\ttotal: 833ms\tremaining: 1.85s\n",
      "40:\tlearn: 1742.2136860\ttotal: 1.1s\tremaining: 1.59s\n",
      "50:\tlearn: 1705.6407656\ttotal: 1.47s\tremaining: 1.41s\n",
      "60:\tlearn: 1682.8704123\ttotal: 1.76s\tremaining: 1.12s\n",
      "70:\tlearn: 1659.7142180\ttotal: 2.05s\tremaining: 838ms\n",
      "80:\tlearn: 1642.8920599\ttotal: 2.34s\tremaining: 549ms\n",
      "90:\tlearn: 1628.3717722\ttotal: 2.63s\tremaining: 260ms\n",
      "99:\tlearn: 1618.0144823\ttotal: 2.89s\tremaining: 0us\n",
      "RMSE for CatBoost: 1683.551083279999\n",
      "CPU times: user 12.7 s, sys: 1.09 s, total: 13.8 s\n",
      "Wall time: 3.09 s\n"
     ]
    }
   ],
   "source": [
    "%%time\n",
    "# Обучаем модель с использованием лучших гиперпараметров\n",
    "model_catboost_best = CatBoostRegressor(depth=best_parameters['depth'],\n",
    "                                        learning_rate=best_parameters['learning_rate'],\n",
    "                                        iterations=best_parameters['iterations'],\n",
    "                                        loss_function='RMSE', \n",
    "                                        random_seed=12345)\n",
    "\n",
    "model_catboost_best.fit(trainX, trainY, cat_features=cat_features, verbose=10)\n",
    "\n",
    "# предсказания на валидационной выборке\n",
    "predictions_catboost = model_catboost_best.predict(valX)\n",
    "\n",
    "# RMSE на валидационной выборке\n",
    "rmse_catboost = np.sqrt(mean_squared_error(valY, predictions_catboost))\n",
    "\n",
    "print(\"RMSE for CatBoost:\", rmse_catboost)"
   ]
  },
  {
   "cell_type": "markdown",
   "metadata": {},
   "source": [
    "## Анализ моделей"
   ]
  },
  {
   "cell_type": "markdown",
   "metadata": {},
   "source": [
    "На основании полученных результатов, мы можем проанализировать время обучения, время предсказания и качество моделей для всех трех моделей.\n",
    "\n",
    "По качеству предсказаний (RMSE), обе модели градиентного бустинга - LightGBM и CatBoost - превосходят линейную регрессию. Однако, LightGBM показывает лучшие результаты по сравнению с CatBoost с точки зрения RMSE и скорости.\n",
    "\n",
    "По времени обучения и времени предсказания, линейная регрессия является самой быстрой моделью. Однако, ее качество предсказаний оставляет желать лучшего. Среди моделей градиентного бустинга, LightGBM обучается и делает предсказания быстрее, чем CatBoost.\n",
    "\n",
    "Таким образом, исходя из критериев заказчика (качество предсказания, время обучения и время предсказания), LightGBM является оптимальным выбором, так как она обеспечивает хорошее качество предсказаний при относительно быстром времени обучения и предсказания."
   ]
  },
  {
   "cell_type": "markdown",
   "metadata": {},
   "source": [
    "## Проверка на тестовой выборке"
   ]
  },
  {
   "cell_type": "code",
   "execution_count": 38,
   "metadata": {},
   "outputs": [
    {
     "name": "stdout",
     "output_type": "stream",
     "text": [
      "RMSE for LightGBM on test data:  1617.9049222894987\n"
     ]
    }
   ],
   "source": [
    "# Применяем лучшую модель (LightGBM) для предсказания цен автомобилей на тестовой выборке\n",
    "test_preds_lightgbm = model_lgbm_best.predict(testX_lightgbm)\n",
    "\n",
    "# Вычисляем RMSE на тестовой выборке\n",
    "rmse_test_lightgbm = mean_squared_error(testY_lightgbm, test_preds_lightgbm, squared=False)\n",
    "print(\"RMSE for LightGBM on test data: \", rmse_test_lightgbm)"
   ]
  },
  {
   "cell_type": "markdown",
   "metadata": {},
   "source": [
    "## Общий вывод"
   ]
  },
  {
   "cell_type": "markdown",
   "metadata": {},
   "source": [
    "В ходе этого проекта мы работали над задачей предсказания рыночной стоимости автомобилей для сервиса по продаже автомобилей с пробегом «Не бит, не крашен».\n",
    "\n",
    "Мы обучили и оценили различные модели машинного обучения: линейную регрессию, LightGBM и CatBoost. Каждая из этих моделей была обучена и проверена с использованием тренировочных и тестовых данных.\n",
    "\n",
    "По результатам обучения и тестирования, LightGBM показала наилучшую производительность. Эта модель не только обеспечивала наиболее точные предсказания (с наименьшим значением RMSE), но и обучалась и делала предсказания относительно быстро. RMSE на тестовых данных составил 1617.9, что значительно меньше установленного нами порога в 2500.\n",
    "\n",
    "С точки зрения заказчика, которому важны качество предсказания, время обучения модели и время предсказания модели, LightGBM оказалась оптимальным выбором.\n",
    "\n",
    "В заключение, на основе проведенного исследования, мы можем сказать, что использование модели градиентного бустинга LightGBM позволяет достичь хорошего качества предсказания стоимости автомобиля на вторичном рынке."
   ]
  },
  {
   "cell_type": "markdown",
   "metadata": {},
   "source": [
    "## Чек-лист проверки"
   ]
  },
  {
   "cell_type": "markdown",
   "metadata": {},
   "source": [
    "Поставьте 'x' в выполненных пунктах. Далее нажмите Shift+Enter."
   ]
  },
  {
   "cell_type": "markdown",
   "metadata": {},
   "source": [
    "- [x]  Jupyter Notebook открыт\n",
    "- [x]  Весь код выполняется без ошибок\n",
    "- [x]  Ячейки с кодом расположены в порядке исполнения\n",
    "- [x]  Выполнена загрузка и подготовка данных\n",
    "- [x]  Выполнено обучение моделей\n",
    "- [x]  Есть анализ скорости работы и качества моделей"
   ]
  }
 ],
 "metadata": {
  "ExecuteTimeLog": [
   {
    "duration": 1573,
    "start_time": "2023-06-23T08:34:45.813Z"
   },
   {
    "duration": 108,
    "start_time": "2023-06-23T08:35:19.040Z"
   },
   {
    "duration": 1190,
    "start_time": "2023-06-23T08:36:07.158Z"
   },
   {
    "duration": 16,
    "start_time": "2023-06-23T08:36:30.465Z"
   },
   {
    "duration": 142,
    "start_time": "2023-06-23T08:36:37.914Z"
   },
   {
    "duration": 118,
    "start_time": "2023-06-23T08:37:11.869Z"
   },
   {
    "duration": 108,
    "start_time": "2023-06-23T08:41:01.499Z"
   },
   {
    "duration": 72,
    "start_time": "2023-06-23T08:41:21.804Z"
   },
   {
    "duration": 413,
    "start_time": "2023-06-23T08:42:10.000Z"
   },
   {
    "duration": 19,
    "start_time": "2023-06-23T08:45:50.112Z"
   },
   {
    "duration": 18,
    "start_time": "2023-06-23T08:46:24.740Z"
   },
   {
    "duration": 14,
    "start_time": "2023-06-23T09:07:26.061Z"
   },
   {
    "duration": 19,
    "start_time": "2023-06-23T09:08:19.000Z"
   },
   {
    "duration": 1450,
    "start_time": "2023-06-23T09:16:38.220Z"
   },
   {
    "duration": 761,
    "start_time": "2023-06-23T09:16:39.673Z"
   },
   {
    "duration": 16,
    "start_time": "2023-06-23T09:16:40.436Z"
   },
   {
    "duration": 162,
    "start_time": "2023-06-23T09:16:40.455Z"
   },
   {
    "duration": 133,
    "start_time": "2023-06-23T09:16:40.620Z"
   },
   {
    "duration": 84,
    "start_time": "2023-06-23T09:16:40.755Z"
   },
   {
    "duration": 436,
    "start_time": "2023-06-23T09:16:40.841Z"
   },
   {
    "duration": 35,
    "start_time": "2023-06-23T09:16:41.278Z"
   },
   {
    "duration": 22,
    "start_time": "2023-06-23T09:16:41.315Z"
   },
   {
    "duration": 194,
    "start_time": "2023-06-23T09:16:41.338Z"
   },
   {
    "duration": 3,
    "start_time": "2023-06-23T09:16:41.534Z"
   },
   {
    "duration": 74,
    "start_time": "2023-06-23T09:18:23.907Z"
   },
   {
    "duration": 3,
    "start_time": "2023-06-23T09:18:28.301Z"
   },
   {
    "duration": 737,
    "start_time": "2023-06-23T09:18:28.306Z"
   },
   {
    "duration": 14,
    "start_time": "2023-06-23T09:18:29.044Z"
   },
   {
    "duration": 131,
    "start_time": "2023-06-23T09:18:29.059Z"
   },
   {
    "duration": 116,
    "start_time": "2023-06-23T09:18:29.193Z"
   },
   {
    "duration": 125,
    "start_time": "2023-06-23T09:18:29.311Z"
   },
   {
    "duration": 66,
    "start_time": "2023-06-23T09:18:29.438Z"
   },
   {
    "duration": 415,
    "start_time": "2023-06-23T09:18:29.506Z"
   },
   {
    "duration": 45,
    "start_time": "2023-06-23T09:18:29.922Z"
   },
   {
    "duration": 14,
    "start_time": "2023-06-23T09:18:29.968Z"
   },
   {
    "duration": 213,
    "start_time": "2023-06-23T09:18:29.983Z"
   },
   {
    "duration": 2,
    "start_time": "2023-06-23T09:18:30.198Z"
   },
   {
    "duration": 79,
    "start_time": "2023-06-23T09:19:01.227Z"
   },
   {
    "duration": 4,
    "start_time": "2023-06-23T09:19:04.567Z"
   },
   {
    "duration": 775,
    "start_time": "2023-06-23T09:19:04.573Z"
   },
   {
    "duration": 12,
    "start_time": "2023-06-23T09:19:05.350Z"
   },
   {
    "duration": 267,
    "start_time": "2023-06-23T09:19:05.364Z"
   },
   {
    "duration": 266,
    "start_time": "2023-06-23T09:19:05.634Z"
   },
   {
    "duration": 183,
    "start_time": "2023-06-23T09:19:05.901Z"
   },
   {
    "duration": 69,
    "start_time": "2023-06-23T09:19:06.086Z"
   },
   {
    "duration": 374,
    "start_time": "2023-06-23T09:19:06.156Z"
   },
   {
    "duration": 40,
    "start_time": "2023-06-23T09:19:06.532Z"
   },
   {
    "duration": 12,
    "start_time": "2023-06-23T09:19:06.574Z"
   },
   {
    "duration": 205,
    "start_time": "2023-06-23T09:19:06.587Z"
   },
   {
    "duration": 2,
    "start_time": "2023-06-23T09:19:06.794Z"
   },
   {
    "duration": 81,
    "start_time": "2023-06-23T09:19:36.060Z"
   },
   {
    "duration": 75,
    "start_time": "2023-06-23T09:20:39.316Z"
   },
   {
    "duration": 3,
    "start_time": "2023-06-23T09:20:42.027Z"
   },
   {
    "duration": 721,
    "start_time": "2023-06-23T09:20:42.032Z"
   },
   {
    "duration": 12,
    "start_time": "2023-06-23T09:20:42.755Z"
   },
   {
    "duration": 132,
    "start_time": "2023-06-23T09:20:42.768Z"
   },
   {
    "duration": 129,
    "start_time": "2023-06-23T09:20:42.902Z"
   },
   {
    "duration": 127,
    "start_time": "2023-06-23T09:20:43.033Z"
   },
   {
    "duration": 80,
    "start_time": "2023-06-23T09:20:43.161Z"
   },
   {
    "duration": 374,
    "start_time": "2023-06-23T09:20:43.242Z"
   },
   {
    "duration": 70,
    "start_time": "2023-06-23T09:20:43.617Z"
   },
   {
    "duration": 16,
    "start_time": "2023-06-23T09:20:43.688Z"
   },
   {
    "duration": 199,
    "start_time": "2023-06-23T09:20:43.706Z"
   },
   {
    "duration": 2,
    "start_time": "2023-06-23T09:20:43.907Z"
   },
   {
    "duration": 13,
    "start_time": "2023-06-23T09:22:43.416Z"
   },
   {
    "duration": 3,
    "start_time": "2023-06-23T09:22:47.613Z"
   },
   {
    "duration": 743,
    "start_time": "2023-06-23T09:22:47.618Z"
   },
   {
    "duration": 12,
    "start_time": "2023-06-23T09:22:48.363Z"
   },
   {
    "duration": 188,
    "start_time": "2023-06-23T09:22:48.376Z"
   },
   {
    "duration": 130,
    "start_time": "2023-06-23T09:22:48.566Z"
   },
   {
    "duration": 148,
    "start_time": "2023-06-23T09:22:48.697Z"
   },
   {
    "duration": 77,
    "start_time": "2023-06-23T09:22:48.847Z"
   },
   {
    "duration": 382,
    "start_time": "2023-06-23T09:22:48.926Z"
   },
   {
    "duration": 73,
    "start_time": "2023-06-23T09:22:49.309Z"
   },
   {
    "duration": 11,
    "start_time": "2023-06-23T09:22:49.384Z"
   },
   {
    "duration": 256,
    "start_time": "2023-06-23T09:22:49.396Z"
   },
   {
    "duration": 2,
    "start_time": "2023-06-23T09:22:49.654Z"
   },
   {
    "duration": 283,
    "start_time": "2023-06-23T09:25:16.316Z"
   },
   {
    "duration": 65,
    "start_time": "2023-06-23T09:27:23.232Z"
   },
   {
    "duration": 11,
    "start_time": "2023-06-23T09:27:34.200Z"
   },
   {
    "duration": 79,
    "start_time": "2023-06-23T09:27:47.120Z"
   },
   {
    "duration": 11,
    "start_time": "2023-06-23T09:28:10.942Z"
   },
   {
    "duration": 72,
    "start_time": "2023-06-23T09:28:39.008Z"
   },
   {
    "duration": 20,
    "start_time": "2023-06-23T09:29:13.495Z"
   },
   {
    "duration": 11,
    "start_time": "2023-06-23T09:32:15.141Z"
   },
   {
    "duration": 17,
    "start_time": "2023-06-23T09:33:09.863Z"
   },
   {
    "duration": 25,
    "start_time": "2023-06-23T09:34:13.228Z"
   },
   {
    "duration": 29,
    "start_time": "2023-06-23T09:34:29.412Z"
   },
   {
    "duration": 34,
    "start_time": "2023-06-23T09:34:43.833Z"
   },
   {
    "duration": 22,
    "start_time": "2023-06-23T09:35:20.847Z"
   },
   {
    "duration": 58,
    "start_time": "2023-06-23T09:35:51.169Z"
   },
   {
    "duration": 57,
    "start_time": "2023-06-23T09:36:45.304Z"
   },
   {
    "duration": 24,
    "start_time": "2023-06-23T09:46:38.936Z"
   },
   {
    "duration": 6262,
    "start_time": "2023-06-23T09:49:05.149Z"
   },
   {
    "duration": 26,
    "start_time": "2023-06-23T09:49:17.804Z"
   },
   {
    "duration": 54,
    "start_time": "2023-06-23T09:49:19.458Z"
   },
   {
    "duration": 6,
    "start_time": "2023-06-23T09:50:37.738Z"
   },
   {
    "duration": 17,
    "start_time": "2023-06-23T09:53:32.499Z"
   },
   {
    "duration": 64,
    "start_time": "2023-06-23T09:53:35.353Z"
   },
   {
    "duration": 1336,
    "start_time": "2023-06-23T09:55:50.262Z"
   },
   {
    "duration": 757,
    "start_time": "2023-06-23T09:55:51.600Z"
   },
   {
    "duration": 16,
    "start_time": "2023-06-23T09:55:52.358Z"
   },
   {
    "duration": 148,
    "start_time": "2023-06-23T09:55:52.376Z"
   },
   {
    "duration": 131,
    "start_time": "2023-06-23T09:55:52.527Z"
   },
   {
    "duration": 145,
    "start_time": "2023-06-23T09:55:52.660Z"
   },
   {
    "duration": 81,
    "start_time": "2023-06-23T09:55:52.806Z"
   },
   {
    "duration": 425,
    "start_time": "2023-06-23T09:55:52.888Z"
   },
   {
    "duration": 72,
    "start_time": "2023-06-23T09:55:53.315Z"
   },
   {
    "duration": 13,
    "start_time": "2023-06-23T09:55:53.389Z"
   },
   {
    "duration": 248,
    "start_time": "2023-06-23T09:55:53.403Z"
   },
   {
    "duration": 334,
    "start_time": "2023-06-23T09:55:53.652Z"
   },
   {
    "duration": 19,
    "start_time": "2023-06-23T09:55:53.987Z"
   },
   {
    "duration": 48,
    "start_time": "2023-06-23T09:55:54.008Z"
   },
   {
    "duration": 56,
    "start_time": "2023-06-23T09:55:54.058Z"
   },
   {
    "duration": 27,
    "start_time": "2023-06-23T09:55:54.116Z"
   },
   {
    "duration": 19,
    "start_time": "2023-06-23T09:55:54.145Z"
   },
   {
    "duration": 17,
    "start_time": "2023-06-23T09:55:54.165Z"
   },
   {
    "duration": 5,
    "start_time": "2023-06-23T09:55:54.184Z"
   },
   {
    "duration": 66,
    "start_time": "2023-06-23T09:55:54.190Z"
   },
   {
    "duration": 2,
    "start_time": "2023-06-23T09:55:54.258Z"
   },
   {
    "duration": 505,
    "start_time": "2023-06-23T10:02:35.404Z"
   },
   {
    "duration": 395,
    "start_time": "2023-06-23T10:08:48.516Z"
   },
   {
    "duration": 50,
    "start_time": "2023-06-23T10:15:18.446Z"
   },
   {
    "duration": 109,
    "start_time": "2023-06-23T10:17:14.150Z"
   },
   {
    "duration": 2309,
    "start_time": "2023-06-23T10:20:29.838Z"
   },
   {
    "duration": 9,
    "start_time": "2023-06-23T10:24:00.763Z"
   },
   {
    "duration": 1523,
    "start_time": "2023-06-23T10:24:20.227Z"
   },
   {
    "duration": 17529,
    "start_time": "2023-06-23T10:24:23.104Z"
   },
   {
    "duration": 9,
    "start_time": "2023-06-23T10:28:13.833Z"
   },
   {
    "duration": 522,
    "start_time": "2023-06-23T10:28:21.212Z"
   },
   {
    "duration": 2011,
    "start_time": "2023-06-23T10:28:24.092Z"
   },
   {
    "duration": 15733,
    "start_time": "2023-06-23T10:30:51.200Z"
   },
   {
    "duration": 3,
    "start_time": "2023-06-23T10:33:54.813Z"
   }
  ],
  "kernelspec": {
   "display_name": "Python 3 (ipykernel)",
   "language": "python",
   "name": "python3"
  },
  "language_info": {
   "codemirror_mode": {
    "name": "ipython",
    "version": 3
   },
   "file_extension": ".py",
   "mimetype": "text/x-python",
   "name": "python",
   "nbconvert_exporter": "python",
   "pygments_lexer": "ipython3",
   "version": "3.10.9"
  },
  "toc": {
   "base_numbering": 1,
   "nav_menu": {},
   "number_sections": true,
   "sideBar": true,
   "skip_h1_title": true,
   "title_cell": "Table of Contents",
   "title_sidebar": "Contents",
   "toc_cell": false,
   "toc_position": {
    "height": "calc(100% - 180px)",
    "left": "10px",
    "top": "150px",
    "width": "244.188px"
   },
   "toc_section_display": true,
   "toc_window_display": true
  }
 },
 "nbformat": 4,
 "nbformat_minor": 2
}
